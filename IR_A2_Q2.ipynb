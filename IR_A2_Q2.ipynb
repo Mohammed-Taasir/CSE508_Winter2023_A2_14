{
  "nbformat": 4,
  "nbformat_minor": 0,
  "metadata": {
    "colab": {
      "provenance": []
    },
    "kernelspec": {
      "name": "python3",
      "display_name": "Python 3"
    },
    "language_info": {
      "name": "python"
    }
  },
  "cells": [
    {
      "cell_type": "code",
      "execution_count": 1,
      "metadata": {
        "id": "nmfo6qEpQimI",
        "colab": {
          "base_uri": "https://localhost:8080/"
        },
        "outputId": "19702b62-c151-40db-b2b6-d44628fac70a"
      },
      "outputs": [
        {
          "output_type": "stream",
          "name": "stderr",
          "text": [
            "/usr/local/lib/python3.9/dist-packages/torch/cuda/__init__.py:497: UserWarning: Can't initialize NVML\n",
            "  warnings.warn(\"Can't initialize NVML\")\n"
          ]
        }
      ],
      "source": [
        "#import libraries\n",
        "import numpy as np\n",
        "import pandas as pd\n",
        "import matplotlib.pyplot as plt\n",
        "import seaborn as sns\n",
        "import re\n",
        "import nltk\n",
        "import spacy\n",
        "import string\n",
        "from sklearn.model_selection import train_test_split\n",
        "\n",
        "import time\n",
        "from collections import Counter\n",
        "\n",
        "from sklearn.feature_extraction.text import TfidfVectorizer,CountVectorizer\n",
        "from sklearn.feature_selection import chi2\n",
        "from sklearn.linear_model import LogisticRegression\n",
        "from sklearn.tree import DecisionTreeClassifier\n",
        "from sklearn.ensemble import RandomForestClassifier\n",
        "from sklearn.svm import LinearSVC\n",
        "from sklearn.model_selection import cross_val_score\n",
        "from sklearn.metrics import accuracy_score\n",
        "\n",
        "from scipy import sparse\n",
        "import warnings\n",
        "warnings.filterwarnings(\"ignore\")"
      ]
    },
    {
      "cell_type": "markdown",
      "source": [
        "# **Load the Dataset**"
      ],
      "metadata": {
        "id": "6UcEKZBvSHce"
      }
    },
    {
      "cell_type": "code",
      "source": [
        "dataset = pd.read_csv('BBC News Train.csv')\n",
        "# test_set = pd.read_csv(\"BBC News Test.csv\")"
      ],
      "metadata": {
        "id": "-6NCQZPrRUMP"
      },
      "execution_count": 2,
      "outputs": []
    },
    {
      "cell_type": "code",
      "source": [
        "dataset.head(5)"
      ],
      "metadata": {
        "id": "VraFzEGaRUOg",
        "colab": {
          "base_uri": "https://localhost:8080/",
          "height": 206
        },
        "outputId": "df3143c8-1221-4798-d9ef-09c3883bd679"
      },
      "execution_count": 3,
      "outputs": [
        {
          "output_type": "execute_result",
          "data": {
            "text/plain": [
              "   ArticleId                                               Text  Category\n",
              "0       1833  worldcom ex-boss launches defence lawyers defe...  business\n",
              "1        154  german business confidence slides german busin...  business\n",
              "2       1101  bbc poll indicates economic gloom citizens in ...  business\n",
              "3       1976  lifestyle  governs mobile choice  faster  bett...      tech\n",
              "4        917  enron bosses in $168m payout eighteen former e...  business"
            ],
            "text/html": [
              "\n",
              "  <div id=\"df-062cab4b-f6a4-479d-b50d-bd95cb0461f4\">\n",
              "    <div class=\"colab-df-container\">\n",
              "      <div>\n",
              "<style scoped>\n",
              "    .dataframe tbody tr th:only-of-type {\n",
              "        vertical-align: middle;\n",
              "    }\n",
              "\n",
              "    .dataframe tbody tr th {\n",
              "        vertical-align: top;\n",
              "    }\n",
              "\n",
              "    .dataframe thead th {\n",
              "        text-align: right;\n",
              "    }\n",
              "</style>\n",
              "<table border=\"1\" class=\"dataframe\">\n",
              "  <thead>\n",
              "    <tr style=\"text-align: right;\">\n",
              "      <th></th>\n",
              "      <th>ArticleId</th>\n",
              "      <th>Text</th>\n",
              "      <th>Category</th>\n",
              "    </tr>\n",
              "  </thead>\n",
              "  <tbody>\n",
              "    <tr>\n",
              "      <th>0</th>\n",
              "      <td>1833</td>\n",
              "      <td>worldcom ex-boss launches defence lawyers defe...</td>\n",
              "      <td>business</td>\n",
              "    </tr>\n",
              "    <tr>\n",
              "      <th>1</th>\n",
              "      <td>154</td>\n",
              "      <td>german business confidence slides german busin...</td>\n",
              "      <td>business</td>\n",
              "    </tr>\n",
              "    <tr>\n",
              "      <th>2</th>\n",
              "      <td>1101</td>\n",
              "      <td>bbc poll indicates economic gloom citizens in ...</td>\n",
              "      <td>business</td>\n",
              "    </tr>\n",
              "    <tr>\n",
              "      <th>3</th>\n",
              "      <td>1976</td>\n",
              "      <td>lifestyle  governs mobile choice  faster  bett...</td>\n",
              "      <td>tech</td>\n",
              "    </tr>\n",
              "    <tr>\n",
              "      <th>4</th>\n",
              "      <td>917</td>\n",
              "      <td>enron bosses in $168m payout eighteen former e...</td>\n",
              "      <td>business</td>\n",
              "    </tr>\n",
              "  </tbody>\n",
              "</table>\n",
              "</div>\n",
              "      <button class=\"colab-df-convert\" onclick=\"convertToInteractive('df-062cab4b-f6a4-479d-b50d-bd95cb0461f4')\"\n",
              "              title=\"Convert this dataframe to an interactive table.\"\n",
              "              style=\"display:none;\">\n",
              "        \n",
              "  <svg xmlns=\"http://www.w3.org/2000/svg\" height=\"24px\"viewBox=\"0 0 24 24\"\n",
              "       width=\"24px\">\n",
              "    <path d=\"M0 0h24v24H0V0z\" fill=\"none\"/>\n",
              "    <path d=\"M18.56 5.44l.94 2.06.94-2.06 2.06-.94-2.06-.94-.94-2.06-.94 2.06-2.06.94zm-11 1L8.5 8.5l.94-2.06 2.06-.94-2.06-.94L8.5 2.5l-.94 2.06-2.06.94zm10 10l.94 2.06.94-2.06 2.06-.94-2.06-.94-.94-2.06-.94 2.06-2.06.94z\"/><path d=\"M17.41 7.96l-1.37-1.37c-.4-.4-.92-.59-1.43-.59-.52 0-1.04.2-1.43.59L10.3 9.45l-7.72 7.72c-.78.78-.78 2.05 0 2.83L4 21.41c.39.39.9.59 1.41.59.51 0 1.02-.2 1.41-.59l7.78-7.78 2.81-2.81c.8-.78.8-2.07 0-2.86zM5.41 20L4 18.59l7.72-7.72 1.47 1.35L5.41 20z\"/>\n",
              "  </svg>\n",
              "      </button>\n",
              "      \n",
              "  <style>\n",
              "    .colab-df-container {\n",
              "      display:flex;\n",
              "      flex-wrap:wrap;\n",
              "      gap: 12px;\n",
              "    }\n",
              "\n",
              "    .colab-df-convert {\n",
              "      background-color: #E8F0FE;\n",
              "      border: none;\n",
              "      border-radius: 50%;\n",
              "      cursor: pointer;\n",
              "      display: none;\n",
              "      fill: #1967D2;\n",
              "      height: 32px;\n",
              "      padding: 0 0 0 0;\n",
              "      width: 32px;\n",
              "    }\n",
              "\n",
              "    .colab-df-convert:hover {\n",
              "      background-color: #E2EBFA;\n",
              "      box-shadow: 0px 1px 2px rgba(60, 64, 67, 0.3), 0px 1px 3px 1px rgba(60, 64, 67, 0.15);\n",
              "      fill: #174EA6;\n",
              "    }\n",
              "\n",
              "    [theme=dark] .colab-df-convert {\n",
              "      background-color: #3B4455;\n",
              "      fill: #D2E3FC;\n",
              "    }\n",
              "\n",
              "    [theme=dark] .colab-df-convert:hover {\n",
              "      background-color: #434B5C;\n",
              "      box-shadow: 0px 1px 3px 1px rgba(0, 0, 0, 0.15);\n",
              "      filter: drop-shadow(0px 1px 2px rgba(0, 0, 0, 0.3));\n",
              "      fill: #FFFFFF;\n",
              "    }\n",
              "  </style>\n",
              "\n",
              "      <script>\n",
              "        const buttonEl =\n",
              "          document.querySelector('#df-062cab4b-f6a4-479d-b50d-bd95cb0461f4 button.colab-df-convert');\n",
              "        buttonEl.style.display =\n",
              "          google.colab.kernel.accessAllowed ? 'block' : 'none';\n",
              "\n",
              "        async function convertToInteractive(key) {\n",
              "          const element = document.querySelector('#df-062cab4b-f6a4-479d-b50d-bd95cb0461f4');\n",
              "          const dataTable =\n",
              "            await google.colab.kernel.invokeFunction('convertToInteractive',\n",
              "                                                     [key], {});\n",
              "          if (!dataTable) return;\n",
              "\n",
              "          const docLinkHtml = 'Like what you see? Visit the ' +\n",
              "            '<a target=\"_blank\" href=https://colab.research.google.com/notebooks/data_table.ipynb>data table notebook</a>'\n",
              "            + ' to learn more about interactive tables.';\n",
              "          element.innerHTML = '';\n",
              "          dataTable['output_type'] = 'display_data';\n",
              "          await google.colab.output.renderOutput(dataTable, element);\n",
              "          const docLink = document.createElement('div');\n",
              "          docLink.innerHTML = docLinkHtml;\n",
              "          element.appendChild(docLink);\n",
              "        }\n",
              "      </script>\n",
              "    </div>\n",
              "  </div>\n",
              "  "
            ]
          },
          "metadata": {},
          "execution_count": 3
        }
      ]
    },
    {
      "cell_type": "code",
      "source": [
        "target_category = dataset['Category'].unique()\n",
        "print(target_category)"
      ],
      "metadata": {
        "id": "6W_x38iDSCbK",
        "colab": {
          "base_uri": "https://localhost:8080/"
        },
        "outputId": "46502f5b-a894-44d2-95c5-50653cd67769"
      },
      "execution_count": 4,
      "outputs": [
        {
          "output_type": "stream",
          "name": "stdout",
          "text": [
            "['business' 'tech' 'politics' 'sport' 'entertainment']\n"
          ]
        }
      ]
    },
    {
      "cell_type": "code",
      "source": [
        "dataset['categoryId'] = dataset['Category'].factorize()[0]\n",
        "dataset.head()"
      ],
      "metadata": {
        "id": "ED2TavlXUKgn",
        "colab": {
          "base_uri": "https://localhost:8080/",
          "height": 206
        },
        "outputId": "3488d9c6-d39c-4c74-8512-4265114de7b8"
      },
      "execution_count": 5,
      "outputs": [
        {
          "output_type": "execute_result",
          "data": {
            "text/plain": [
              "   ArticleId                                               Text  Category  \\\n",
              "0       1833  worldcom ex-boss launches defence lawyers defe...  business   \n",
              "1        154  german business confidence slides german busin...  business   \n",
              "2       1101  bbc poll indicates economic gloom citizens in ...  business   \n",
              "3       1976  lifestyle  governs mobile choice  faster  bett...      tech   \n",
              "4        917  enron bosses in $168m payout eighteen former e...  business   \n",
              "\n",
              "   categoryId  \n",
              "0           0  \n",
              "1           0  \n",
              "2           0  \n",
              "3           1  \n",
              "4           0  "
            ],
            "text/html": [
              "\n",
              "  <div id=\"df-50e7bc7b-c57c-448b-9f88-41fb0d0732f2\">\n",
              "    <div class=\"colab-df-container\">\n",
              "      <div>\n",
              "<style scoped>\n",
              "    .dataframe tbody tr th:only-of-type {\n",
              "        vertical-align: middle;\n",
              "    }\n",
              "\n",
              "    .dataframe tbody tr th {\n",
              "        vertical-align: top;\n",
              "    }\n",
              "\n",
              "    .dataframe thead th {\n",
              "        text-align: right;\n",
              "    }\n",
              "</style>\n",
              "<table border=\"1\" class=\"dataframe\">\n",
              "  <thead>\n",
              "    <tr style=\"text-align: right;\">\n",
              "      <th></th>\n",
              "      <th>ArticleId</th>\n",
              "      <th>Text</th>\n",
              "      <th>Category</th>\n",
              "      <th>categoryId</th>\n",
              "    </tr>\n",
              "  </thead>\n",
              "  <tbody>\n",
              "    <tr>\n",
              "      <th>0</th>\n",
              "      <td>1833</td>\n",
              "      <td>worldcom ex-boss launches defence lawyers defe...</td>\n",
              "      <td>business</td>\n",
              "      <td>0</td>\n",
              "    </tr>\n",
              "    <tr>\n",
              "      <th>1</th>\n",
              "      <td>154</td>\n",
              "      <td>german business confidence slides german busin...</td>\n",
              "      <td>business</td>\n",
              "      <td>0</td>\n",
              "    </tr>\n",
              "    <tr>\n",
              "      <th>2</th>\n",
              "      <td>1101</td>\n",
              "      <td>bbc poll indicates economic gloom citizens in ...</td>\n",
              "      <td>business</td>\n",
              "      <td>0</td>\n",
              "    </tr>\n",
              "    <tr>\n",
              "      <th>3</th>\n",
              "      <td>1976</td>\n",
              "      <td>lifestyle  governs mobile choice  faster  bett...</td>\n",
              "      <td>tech</td>\n",
              "      <td>1</td>\n",
              "    </tr>\n",
              "    <tr>\n",
              "      <th>4</th>\n",
              "      <td>917</td>\n",
              "      <td>enron bosses in $168m payout eighteen former e...</td>\n",
              "      <td>business</td>\n",
              "      <td>0</td>\n",
              "    </tr>\n",
              "  </tbody>\n",
              "</table>\n",
              "</div>\n",
              "      <button class=\"colab-df-convert\" onclick=\"convertToInteractive('df-50e7bc7b-c57c-448b-9f88-41fb0d0732f2')\"\n",
              "              title=\"Convert this dataframe to an interactive table.\"\n",
              "              style=\"display:none;\">\n",
              "        \n",
              "  <svg xmlns=\"http://www.w3.org/2000/svg\" height=\"24px\"viewBox=\"0 0 24 24\"\n",
              "       width=\"24px\">\n",
              "    <path d=\"M0 0h24v24H0V0z\" fill=\"none\"/>\n",
              "    <path d=\"M18.56 5.44l.94 2.06.94-2.06 2.06-.94-2.06-.94-.94-2.06-.94 2.06-2.06.94zm-11 1L8.5 8.5l.94-2.06 2.06-.94-2.06-.94L8.5 2.5l-.94 2.06-2.06.94zm10 10l.94 2.06.94-2.06 2.06-.94-2.06-.94-.94-2.06-.94 2.06-2.06.94z\"/><path d=\"M17.41 7.96l-1.37-1.37c-.4-.4-.92-.59-1.43-.59-.52 0-1.04.2-1.43.59L10.3 9.45l-7.72 7.72c-.78.78-.78 2.05 0 2.83L4 21.41c.39.39.9.59 1.41.59.51 0 1.02-.2 1.41-.59l7.78-7.78 2.81-2.81c.8-.78.8-2.07 0-2.86zM5.41 20L4 18.59l7.72-7.72 1.47 1.35L5.41 20z\"/>\n",
              "  </svg>\n",
              "      </button>\n",
              "      \n",
              "  <style>\n",
              "    .colab-df-container {\n",
              "      display:flex;\n",
              "      flex-wrap:wrap;\n",
              "      gap: 12px;\n",
              "    }\n",
              "\n",
              "    .colab-df-convert {\n",
              "      background-color: #E8F0FE;\n",
              "      border: none;\n",
              "      border-radius: 50%;\n",
              "      cursor: pointer;\n",
              "      display: none;\n",
              "      fill: #1967D2;\n",
              "      height: 32px;\n",
              "      padding: 0 0 0 0;\n",
              "      width: 32px;\n",
              "    }\n",
              "\n",
              "    .colab-df-convert:hover {\n",
              "      background-color: #E2EBFA;\n",
              "      box-shadow: 0px 1px 2px rgba(60, 64, 67, 0.3), 0px 1px 3px 1px rgba(60, 64, 67, 0.15);\n",
              "      fill: #174EA6;\n",
              "    }\n",
              "\n",
              "    [theme=dark] .colab-df-convert {\n",
              "      background-color: #3B4455;\n",
              "      fill: #D2E3FC;\n",
              "    }\n",
              "\n",
              "    [theme=dark] .colab-df-convert:hover {\n",
              "      background-color: #434B5C;\n",
              "      box-shadow: 0px 1px 3px 1px rgba(0, 0, 0, 0.15);\n",
              "      filter: drop-shadow(0px 1px 2px rgba(0, 0, 0, 0.3));\n",
              "      fill: #FFFFFF;\n",
              "    }\n",
              "  </style>\n",
              "\n",
              "      <script>\n",
              "        const buttonEl =\n",
              "          document.querySelector('#df-50e7bc7b-c57c-448b-9f88-41fb0d0732f2 button.colab-df-convert');\n",
              "        buttonEl.style.display =\n",
              "          google.colab.kernel.accessAllowed ? 'block' : 'none';\n",
              "\n",
              "        async function convertToInteractive(key) {\n",
              "          const element = document.querySelector('#df-50e7bc7b-c57c-448b-9f88-41fb0d0732f2');\n",
              "          const dataTable =\n",
              "            await google.colab.kernel.invokeFunction('convertToInteractive',\n",
              "                                                     [key], {});\n",
              "          if (!dataTable) return;\n",
              "\n",
              "          const docLinkHtml = 'Like what you see? Visit the ' +\n",
              "            '<a target=\"_blank\" href=https://colab.research.google.com/notebooks/data_table.ipynb>data table notebook</a>'\n",
              "            + ' to learn more about interactive tables.';\n",
              "          element.innerHTML = '';\n",
              "          dataTable['output_type'] = 'display_data';\n",
              "          await google.colab.output.renderOutput(dataTable, element);\n",
              "          const docLink = document.createElement('div');\n",
              "          docLink.innerHTML = docLinkHtml;\n",
              "          element.appendChild(docLink);\n",
              "        }\n",
              "      </script>\n",
              "    </div>\n",
              "  </div>\n",
              "  "
            ]
          },
          "metadata": {},
          "execution_count": 5
        }
      ]
    },
    {
      "cell_type": "markdown",
      "source": [
        "**Class labels**"
      ],
      "metadata": {
        "id": "XRU6q6FvUQAA"
      }
    },
    {
      "cell_type": "code",
      "source": [
        "category = dataset[[\"Category\",\"categoryId\"]].drop_duplicates().sort_values('categoryId')\n",
        "category"
      ],
      "metadata": {
        "id": "zCcltF3zUKkh",
        "colab": {
          "base_uri": "https://localhost:8080/",
          "height": 206
        },
        "outputId": "cc3d71f5-0a9f-4675-92e2-2a421c09efc3"
      },
      "execution_count": 6,
      "outputs": [
        {
          "output_type": "execute_result",
          "data": {
            "text/plain": [
              "        Category  categoryId\n",
              "0       business           0\n",
              "3           tech           1\n",
              "5       politics           2\n",
              "6          sport           3\n",
              "7  entertainment           4"
            ],
            "text/html": [
              "\n",
              "  <div id=\"df-d4023232-9229-4850-aa4e-22d94f6bac0e\">\n",
              "    <div class=\"colab-df-container\">\n",
              "      <div>\n",
              "<style scoped>\n",
              "    .dataframe tbody tr th:only-of-type {\n",
              "        vertical-align: middle;\n",
              "    }\n",
              "\n",
              "    .dataframe tbody tr th {\n",
              "        vertical-align: top;\n",
              "    }\n",
              "\n",
              "    .dataframe thead th {\n",
              "        text-align: right;\n",
              "    }\n",
              "</style>\n",
              "<table border=\"1\" class=\"dataframe\">\n",
              "  <thead>\n",
              "    <tr style=\"text-align: right;\">\n",
              "      <th></th>\n",
              "      <th>Category</th>\n",
              "      <th>categoryId</th>\n",
              "    </tr>\n",
              "  </thead>\n",
              "  <tbody>\n",
              "    <tr>\n",
              "      <th>0</th>\n",
              "      <td>business</td>\n",
              "      <td>0</td>\n",
              "    </tr>\n",
              "    <tr>\n",
              "      <th>3</th>\n",
              "      <td>tech</td>\n",
              "      <td>1</td>\n",
              "    </tr>\n",
              "    <tr>\n",
              "      <th>5</th>\n",
              "      <td>politics</td>\n",
              "      <td>2</td>\n",
              "    </tr>\n",
              "    <tr>\n",
              "      <th>6</th>\n",
              "      <td>sport</td>\n",
              "      <td>3</td>\n",
              "    </tr>\n",
              "    <tr>\n",
              "      <th>7</th>\n",
              "      <td>entertainment</td>\n",
              "      <td>4</td>\n",
              "    </tr>\n",
              "  </tbody>\n",
              "</table>\n",
              "</div>\n",
              "      <button class=\"colab-df-convert\" onclick=\"convertToInteractive('df-d4023232-9229-4850-aa4e-22d94f6bac0e')\"\n",
              "              title=\"Convert this dataframe to an interactive table.\"\n",
              "              style=\"display:none;\">\n",
              "        \n",
              "  <svg xmlns=\"http://www.w3.org/2000/svg\" height=\"24px\"viewBox=\"0 0 24 24\"\n",
              "       width=\"24px\">\n",
              "    <path d=\"M0 0h24v24H0V0z\" fill=\"none\"/>\n",
              "    <path d=\"M18.56 5.44l.94 2.06.94-2.06 2.06-.94-2.06-.94-.94-2.06-.94 2.06-2.06.94zm-11 1L8.5 8.5l.94-2.06 2.06-.94-2.06-.94L8.5 2.5l-.94 2.06-2.06.94zm10 10l.94 2.06.94-2.06 2.06-.94-2.06-.94-.94-2.06-.94 2.06-2.06.94z\"/><path d=\"M17.41 7.96l-1.37-1.37c-.4-.4-.92-.59-1.43-.59-.52 0-1.04.2-1.43.59L10.3 9.45l-7.72 7.72c-.78.78-.78 2.05 0 2.83L4 21.41c.39.39.9.59 1.41.59.51 0 1.02-.2 1.41-.59l7.78-7.78 2.81-2.81c.8-.78.8-2.07 0-2.86zM5.41 20L4 18.59l7.72-7.72 1.47 1.35L5.41 20z\"/>\n",
              "  </svg>\n",
              "      </button>\n",
              "      \n",
              "  <style>\n",
              "    .colab-df-container {\n",
              "      display:flex;\n",
              "      flex-wrap:wrap;\n",
              "      gap: 12px;\n",
              "    }\n",
              "\n",
              "    .colab-df-convert {\n",
              "      background-color: #E8F0FE;\n",
              "      border: none;\n",
              "      border-radius: 50%;\n",
              "      cursor: pointer;\n",
              "      display: none;\n",
              "      fill: #1967D2;\n",
              "      height: 32px;\n",
              "      padding: 0 0 0 0;\n",
              "      width: 32px;\n",
              "    }\n",
              "\n",
              "    .colab-df-convert:hover {\n",
              "      background-color: #E2EBFA;\n",
              "      box-shadow: 0px 1px 2px rgba(60, 64, 67, 0.3), 0px 1px 3px 1px rgba(60, 64, 67, 0.15);\n",
              "      fill: #174EA6;\n",
              "    }\n",
              "\n",
              "    [theme=dark] .colab-df-convert {\n",
              "      background-color: #3B4455;\n",
              "      fill: #D2E3FC;\n",
              "    }\n",
              "\n",
              "    [theme=dark] .colab-df-convert:hover {\n",
              "      background-color: #434B5C;\n",
              "      box-shadow: 0px 1px 3px 1px rgba(0, 0, 0, 0.15);\n",
              "      filter: drop-shadow(0px 1px 2px rgba(0, 0, 0, 0.3));\n",
              "      fill: #FFFFFF;\n",
              "    }\n",
              "  </style>\n",
              "\n",
              "      <script>\n",
              "        const buttonEl =\n",
              "          document.querySelector('#df-d4023232-9229-4850-aa4e-22d94f6bac0e button.colab-df-convert');\n",
              "        buttonEl.style.display =\n",
              "          google.colab.kernel.accessAllowed ? 'block' : 'none';\n",
              "\n",
              "        async function convertToInteractive(key) {\n",
              "          const element = document.querySelector('#df-d4023232-9229-4850-aa4e-22d94f6bac0e');\n",
              "          const dataTable =\n",
              "            await google.colab.kernel.invokeFunction('convertToInteractive',\n",
              "                                                     [key], {});\n",
              "          if (!dataTable) return;\n",
              "\n",
              "          const docLinkHtml = 'Like what you see? Visit the ' +\n",
              "            '<a target=\"_blank\" href=https://colab.research.google.com/notebooks/data_table.ipynb>data table notebook</a>'\n",
              "            + ' to learn more about interactive tables.';\n",
              "          element.innerHTML = '';\n",
              "          dataTable['output_type'] = 'display_data';\n",
              "          await google.colab.output.renderOutput(dataTable, element);\n",
              "          const docLink = document.createElement('div');\n",
              "          docLink.innerHTML = docLinkHtml;\n",
              "          element.appendChild(docLink);\n",
              "        }\n",
              "      </script>\n",
              "    </div>\n",
              "  </div>\n",
              "  "
            ]
          },
          "metadata": {},
          "execution_count": 6
        }
      ]
    },
    {
      "cell_type": "markdown",
      "source": [
        "**Class Distribution**"
      ],
      "metadata": {
        "id": "bNhVVjK_UXOx"
      }
    },
    {
      "cell_type": "code",
      "source": [
        "dataset.groupby('Category').categoryId.count()"
      ],
      "metadata": {
        "id": "je11GiZzUW6v",
        "colab": {
          "base_uri": "https://localhost:8080/"
        },
        "outputId": "4f8b51c2-dbfa-43c5-a64e-68cbde28acad"
      },
      "execution_count": 7,
      "outputs": [
        {
          "output_type": "execute_result",
          "data": {
            "text/plain": [
              "Category\n",
              "business         336\n",
              "entertainment    273\n",
              "politics         274\n",
              "sport            346\n",
              "tech             261\n",
              "Name: categoryId, dtype: int64"
            ]
          },
          "metadata": {},
          "execution_count": 7
        }
      ]
    },
    {
      "cell_type": "markdown",
      "source": [
        "**Data Visualization**"
      ],
      "metadata": {
        "id": "51Z9KhCiaV7Q"
      }
    },
    {
      "cell_type": "code",
      "source": [
        "dataset.groupby('Category').categoryId.count().plot.bar(ylim=0)"
      ],
      "metadata": {
        "id": "rDIrmAfLUKm4",
        "colab": {
          "base_uri": "https://localhost:8080/",
          "height": 358
        },
        "outputId": "718c9112-72f9-48e0-cb2e-1d3cb9166801"
      },
      "execution_count": 8,
      "outputs": [
        {
          "output_type": "execute_result",
          "data": {
            "text/plain": [
              "<Axes: xlabel='Category'>"
            ]
          },
          "metadata": {},
          "execution_count": 8
        },
        {
          "output_type": "display_data",
          "data": {
            "text/plain": [
              "<Figure size 432x288 with 1 Axes>"
            ],
            "image/png": "[encoded data removed]"
          },
          "metadata": {
            "needs_background": "light"
          }
        }
      ]
    },
    {
      "cell_type": "markdown",
      "source": [
        "**We have confirmed 5 categories for our news articles: business, tech, politics, sport, and entertainment.we can see that our data is roughly balanced.**"
      ],
      "metadata": {
        "id": "yeFknQZqjsaO"
      }
    },
    {
      "cell_type": "markdown",
      "source": [
        "# **Data Preprocessing**"
      ],
      "metadata": {
        "id": "LY3Wf903jUgv"
      }
    },
    {
      "cell_type": "markdown",
      "source": [
        "**i)Clean the text by removing punctuation, stop words, and converting all text to\n",
        "lowercase.**"
      ],
      "metadata": {
        "id": "C397QpyKjaWG"
      }
    },
    {
      "cell_type": "markdown",
      "source": [
        "**1)Lower Casing**"
      ],
      "metadata": {
        "id": "LnRKs4pTkJ6N"
      }
    },
    {
      "cell_type": "markdown",
      "source": [
        "*Lower casing is a common text preprocessing technique. The idea is to convert the input text into same casing format so that 'text', 'Text' and 'TEXT' are treated the same way.*"
      ],
      "metadata": {
        "id": "PXAv6SVjkOX3"
      }
    },
    {
      "cell_type": "code",
      "source": [
        "dataset[\"Text\"] = dataset[\"Text\"].str.lower()\n",
        "dataset.head()"
      ],
      "metadata": {
        "id": "LZ8i-CgIkJSB",
        "colab": {
          "base_uri": "https://localhost:8080/",
          "height": 206
        },
        "outputId": "1af63191-ac11-4dd5-fb0b-53e3da03c105"
      },
      "execution_count": 9,
      "outputs": [
        {
          "output_type": "execute_result",
          "data": {
            "text/plain": [
              "   ArticleId                                               Text  Category  \\\n",
              "0       1833  worldcom ex-boss launches defence lawyers defe...  business   \n",
              "1        154  german business confidence slides german busin...  business   \n",
              "2       1101  bbc poll indicates economic gloom citizens in ...  business   \n",
              "3       1976  lifestyle  governs mobile choice  faster  bett...      tech   \n",
              "4        917  enron bosses in $168m payout eighteen former e...  business   \n",
              "\n",
              "   categoryId  \n",
              "0           0  \n",
              "1           0  \n",
              "2           0  \n",
              "3           1  \n",
              "4           0  "
            ],
            "text/html": [
              "\n",
              "  <div id=\"df-e1b27659-1b25-43ce-b897-5a03b1d5a51a\">\n",
              "    <div class=\"colab-df-container\">\n",
              "      <div>\n",
              "<style scoped>\n",
              "    .dataframe tbody tr th:only-of-type {\n",
              "        vertical-align: middle;\n",
              "    }\n",
              "\n",
              "    .dataframe tbody tr th {\n",
              "        vertical-align: top;\n",
              "    }\n",
              "\n",
              "    .dataframe thead th {\n",
              "        text-align: right;\n",
              "    }\n",
              "</style>\n",
              "<table border=\"1\" class=\"dataframe\">\n",
              "  <thead>\n",
              "    <tr style=\"text-align: right;\">\n",
              "      <th></th>\n",
              "      <th>ArticleId</th>\n",
              "      <th>Text</th>\n",
              "      <th>Category</th>\n",
              "      <th>categoryId</th>\n",
              "    </tr>\n",
              "  </thead>\n",
              "  <tbody>\n",
              "    <tr>\n",
              "      <th>0</th>\n",
              "      <td>1833</td>\n",
              "      <td>worldcom ex-boss launches defence lawyers defe...</td>\n",
              "      <td>business</td>\n",
              "      <td>0</td>\n",
              "    </tr>\n",
              "    <tr>\n",
              "      <th>1</th>\n",
              "      <td>154</td>\n",
              "      <td>german business confidence slides german busin...</td>\n",
              "      <td>business</td>\n",
              "      <td>0</td>\n",
              "    </tr>\n",
              "    <tr>\n",
              "      <th>2</th>\n",
              "      <td>1101</td>\n",
              "      <td>bbc poll indicates economic gloom citizens in ...</td>\n",
              "      <td>business</td>\n",
              "      <td>0</td>\n",
              "    </tr>\n",
              "    <tr>\n",
              "      <th>3</th>\n",
              "      <td>1976</td>\n",
              "      <td>lifestyle  governs mobile choice  faster  bett...</td>\n",
              "      <td>tech</td>\n",
              "      <td>1</td>\n",
              "    </tr>\n",
              "    <tr>\n",
              "      <th>4</th>\n",
              "      <td>917</td>\n",
              "      <td>enron bosses in $168m payout eighteen former e...</td>\n",
              "      <td>business</td>\n",
              "      <td>0</td>\n",
              "    </tr>\n",
              "  </tbody>\n",
              "</table>\n",
              "</div>\n",
              "      <button class=\"colab-df-convert\" onclick=\"convertToInteractive('df-e1b27659-1b25-43ce-b897-5a03b1d5a51a')\"\n",
              "              title=\"Convert this dataframe to an interactive table.\"\n",
              "              style=\"display:none;\">\n",
              "        \n",
              "  <svg xmlns=\"http://www.w3.org/2000/svg\" height=\"24px\"viewBox=\"0 0 24 24\"\n",
              "       width=\"24px\">\n",
              "    <path d=\"M0 0h24v24H0V0z\" fill=\"none\"/>\n",
              "    <path d=\"M18.56 5.44l.94 2.06.94-2.06 2.06-.94-2.06-.94-.94-2.06-.94 2.06-2.06.94zm-11 1L8.5 8.5l.94-2.06 2.06-.94-2.06-.94L8.5 2.5l-.94 2.06-2.06.94zm10 10l.94 2.06.94-2.06 2.06-.94-2.06-.94-.94-2.06-.94 2.06-2.06.94z\"/><path d=\"M17.41 7.96l-1.37-1.37c-.4-.4-.92-.59-1.43-.59-.52 0-1.04.2-1.43.59L10.3 9.45l-7.72 7.72c-.78.78-.78 2.05 0 2.83L4 21.41c.39.39.9.59 1.41.59.51 0 1.02-.2 1.41-.59l7.78-7.78 2.81-2.81c.8-.78.8-2.07 0-2.86zM5.41 20L4 18.59l7.72-7.72 1.47 1.35L5.41 20z\"/>\n",
              "  </svg>\n",
              "      </button>\n",
              "      \n",
              "  <style>\n",
              "    .colab-df-container {\n",
              "      display:flex;\n",
              "      flex-wrap:wrap;\n",
              "      gap: 12px;\n",
              "    }\n",
              "\n",
              "    .colab-df-convert {\n",
              "      background-color: #E8F0FE;\n",
              "      border: none;\n",
              "      border-radius: 50%;\n",
              "      cursor: pointer;\n",
              "      display: none;\n",
              "      fill: #1967D2;\n",
              "      height: 32px;\n",
              "      padding: 0 0 0 0;\n",
              "      width: 32px;\n",
              "    }\n",
              "\n",
              "    .colab-df-convert:hover {\n",
              "      background-color: #E2EBFA;\n",
              "      box-shadow: 0px 1px 2px rgba(60, 64, 67, 0.3), 0px 1px 3px 1px rgba(60, 64, 67, 0.15);\n",
              "      fill: #174EA6;\n",
              "    }\n",
              "\n",
              "    [theme=dark] .colab-df-convert {\n",
              "      background-color: #3B4455;\n",
              "      fill: #D2E3FC;\n",
              "    }\n",
              "\n",
              "    [theme=dark] .colab-df-convert:hover {\n",
              "      background-color: #434B5C;\n",
              "      box-shadow: 0px 1px 3px 1px rgba(0, 0, 0, 0.15);\n",
              "      filter: drop-shadow(0px 1px 2px rgba(0, 0, 0, 0.3));\n",
              "      fill: #FFFFFF;\n",
              "    }\n",
              "  </style>\n",
              "\n",
              "      <script>\n",
              "        const buttonEl =\n",
              "          document.querySelector('#df-e1b27659-1b25-43ce-b897-5a03b1d5a51a button.colab-df-convert');\n",
              "        buttonEl.style.display =\n",
              "          google.colab.kernel.accessAllowed ? 'block' : 'none';\n",
              "\n",
              "        async function convertToInteractive(key) {\n",
              "          const element = document.querySelector('#df-e1b27659-1b25-43ce-b897-5a03b1d5a51a');\n",
              "          const dataTable =\n",
              "            await google.colab.kernel.invokeFunction('convertToInteractive',\n",
              "                                                     [key], {});\n",
              "          if (!dataTable) return;\n",
              "\n",
              "          const docLinkHtml = 'Like what you see? Visit the ' +\n",
              "            '<a target=\"_blank\" href=https://colab.research.google.com/notebooks/data_table.ipynb>data table notebook</a>'\n",
              "            + ' to learn more about interactive tables.';\n",
              "          element.innerHTML = '';\n",
              "          dataTable['output_type'] = 'display_data';\n",
              "          await google.colab.output.renderOutput(dataTable, element);\n",
              "          const docLink = document.createElement('div');\n",
              "          docLink.innerHTML = docLinkHtml;\n",
              "          element.appendChild(docLink);\n",
              "        }\n",
              "      </script>\n",
              "    </div>\n",
              "  </div>\n",
              "  "
            ]
          },
          "metadata": {},
          "execution_count": 9
        }
      ]
    },
    {
      "cell_type": "markdown",
      "source": [
        "**2)Removal of Punctuations**"
      ],
      "metadata": {
        "id": "usw7JmNAkfQY"
      }
    },
    {
      "cell_type": "markdown",
      "source": [
        "*One another common text preprocessing technique is to remove the punctuations from the text data. This is again a text standardization process that will help to treat 'hurray' and 'hurray!' in the same way.*"
      ],
      "metadata": {
        "id": "w6LvvzP0khOW"
      }
    },
    {
      "cell_type": "code",
      "source": [
        "PUNCT_TO_REMOVE = string.punctuation\n",
        "def remove_punctuation(text):\n",
        "    \"\"\"custom function to remove the punctuation\"\"\"\n",
        "    return text.translate(str.maketrans('', '', PUNCT_TO_REMOVE))\n",
        "\n",
        "dataset[\"Text\"] = dataset[\"Text\"].apply(lambda text: remove_punctuation(text))\n",
        "dataset.head()"
      ],
      "metadata": {
        "id": "95kLA4NOaatA",
        "colab": {
          "base_uri": "https://localhost:8080/",
          "height": 206
        },
        "outputId": "78575f0c-c36f-4e72-cc6e-9b17be009082"
      },
      "execution_count": 10,
      "outputs": [
        {
          "output_type": "execute_result",
          "data": {
            "text/plain": [
              "   ArticleId                                               Text  Category  \\\n",
              "0       1833  worldcom exboss launches defence lawyers defen...  business   \n",
              "1        154  german business confidence slides german busin...  business   \n",
              "2       1101  bbc poll indicates economic gloom citizens in ...  business   \n",
              "3       1976  lifestyle  governs mobile choice  faster  bett...      tech   \n",
              "4        917  enron bosses in 168m payout eighteen former en...  business   \n",
              "\n",
              "   categoryId  \n",
              "0           0  \n",
              "1           0  \n",
              "2           0  \n",
              "3           1  \n",
              "4           0  "
            ],
            "text/html": [
              "\n",
              "  <div id=\"df-2c1bc7b9-d334-4b24-a05e-676675d60ea9\">\n",
              "    <div class=\"colab-df-container\">\n",
              "      <div>\n",
              "<style scoped>\n",
              "    .dataframe tbody tr th:only-of-type {\n",
              "        vertical-align: middle;\n",
              "    }\n",
              "\n",
              "    .dataframe tbody tr th {\n",
              "        vertical-align: top;\n",
              "    }\n",
              "\n",
              "    .dataframe thead th {\n",
              "        text-align: right;\n",
              "    }\n",
              "</style>\n",
              "<table border=\"1\" class=\"dataframe\">\n",
              "  <thead>\n",
              "    <tr style=\"text-align: right;\">\n",
              "      <th></th>\n",
              "      <th>ArticleId</th>\n",
              "      <th>Text</th>\n",
              "      <th>Category</th>\n",
              "      <th>categoryId</th>\n",
              "    </tr>\n",
              "  </thead>\n",
              "  <tbody>\n",
              "    <tr>\n",
              "      <th>0</th>\n",
              "      <td>1833</td>\n",
              "      <td>worldcom exboss launches defence lawyers defen...</td>\n",
              "      <td>business</td>\n",
              "      <td>0</td>\n",
              "    </tr>\n",
              "    <tr>\n",
              "      <th>1</th>\n",
              "      <td>154</td>\n",
              "      <td>german business confidence slides german busin...</td>\n",
              "      <td>business</td>\n",
              "      <td>0</td>\n",
              "    </tr>\n",
              "    <tr>\n",
              "      <th>2</th>\n",
              "      <td>1101</td>\n",
              "      <td>bbc poll indicates economic gloom citizens in ...</td>\n",
              "      <td>business</td>\n",
              "      <td>0</td>\n",
              "    </tr>\n",
              "    <tr>\n",
              "      <th>3</th>\n",
              "      <td>1976</td>\n",
              "      <td>lifestyle  governs mobile choice  faster  bett...</td>\n",
              "      <td>tech</td>\n",
              "      <td>1</td>\n",
              "    </tr>\n",
              "    <tr>\n",
              "      <th>4</th>\n",
              "      <td>917</td>\n",
              "      <td>enron bosses in 168m payout eighteen former en...</td>\n",
              "      <td>business</td>\n",
              "      <td>0</td>\n",
              "    </tr>\n",
              "  </tbody>\n",
              "</table>\n",
              "</div>\n",
              "      <button class=\"colab-df-convert\" onclick=\"convertToInteractive('df-2c1bc7b9-d334-4b24-a05e-676675d60ea9')\"\n",
              "              title=\"Convert this dataframe to an interactive table.\"\n",
              "              style=\"display:none;\">\n",
              "        \n",
              "  <svg xmlns=\"http://www.w3.org/2000/svg\" height=\"24px\"viewBox=\"0 0 24 24\"\n",
              "       width=\"24px\">\n",
              "    <path d=\"M0 0h24v24H0V0z\" fill=\"none\"/>\n",
              "    <path d=\"M18.56 5.44l.94 2.06.94-2.06 2.06-.94-2.06-.94-.94-2.06-.94 2.06-2.06.94zm-11 1L8.5 8.5l.94-2.06 2.06-.94-2.06-.94L8.5 2.5l-.94 2.06-2.06.94zm10 10l.94 2.06.94-2.06 2.06-.94-2.06-.94-.94-2.06-.94 2.06-2.06.94z\"/><path d=\"M17.41 7.96l-1.37-1.37c-.4-.4-.92-.59-1.43-.59-.52 0-1.04.2-1.43.59L10.3 9.45l-7.72 7.72c-.78.78-.78 2.05 0 2.83L4 21.41c.39.39.9.59 1.41.59.51 0 1.02-.2 1.41-.59l7.78-7.78 2.81-2.81c.8-.78.8-2.07 0-2.86zM5.41 20L4 18.59l7.72-7.72 1.47 1.35L5.41 20z\"/>\n",
              "  </svg>\n",
              "      </button>\n",
              "      \n",
              "  <style>\n",
              "    .colab-df-container {\n",
              "      display:flex;\n",
              "      flex-wrap:wrap;\n",
              "      gap: 12px;\n",
              "    }\n",
              "\n",
              "    .colab-df-convert {\n",
              "      background-color: #E8F0FE;\n",
              "      border: none;\n",
              "      border-radius: 50%;\n",
              "      cursor: pointer;\n",
              "      display: none;\n",
              "      fill: #1967D2;\n",
              "      height: 32px;\n",
              "      padding: 0 0 0 0;\n",
              "      width: 32px;\n",
              "    }\n",
              "\n",
              "    .colab-df-convert:hover {\n",
              "      background-color: #E2EBFA;\n",
              "      box-shadow: 0px 1px 2px rgba(60, 64, 67, 0.3), 0px 1px 3px 1px rgba(60, 64, 67, 0.15);\n",
              "      fill: #174EA6;\n",
              "    }\n",
              "\n",
              "    [theme=dark] .colab-df-convert {\n",
              "      background-color: #3B4455;\n",
              "      fill: #D2E3FC;\n",
              "    }\n",
              "\n",
              "    [theme=dark] .colab-df-convert:hover {\n",
              "      background-color: #434B5C;\n",
              "      box-shadow: 0px 1px 3px 1px rgba(0, 0, 0, 0.15);\n",
              "      filter: drop-shadow(0px 1px 2px rgba(0, 0, 0, 0.3));\n",
              "      fill: #FFFFFF;\n",
              "    }\n",
              "  </style>\n",
              "\n",
              "      <script>\n",
              "        const buttonEl =\n",
              "          document.querySelector('#df-2c1bc7b9-d334-4b24-a05e-676675d60ea9 button.colab-df-convert');\n",
              "        buttonEl.style.display =\n",
              "          google.colab.kernel.accessAllowed ? 'block' : 'none';\n",
              "\n",
              "        async function convertToInteractive(key) {\n",
              "          const element = document.querySelector('#df-2c1bc7b9-d334-4b24-a05e-676675d60ea9');\n",
              "          const dataTable =\n",
              "            await google.colab.kernel.invokeFunction('convertToInteractive',\n",
              "                                                     [key], {});\n",
              "          if (!dataTable) return;\n",
              "\n",
              "          const docLinkHtml = 'Like what you see? Visit the ' +\n",
              "            '<a target=\"_blank\" href=https://colab.research.google.com/notebooks/data_table.ipynb>data table notebook</a>'\n",
              "            + ' to learn more about interactive tables.';\n",
              "          element.innerHTML = '';\n",
              "          dataTable['output_type'] = 'display_data';\n",
              "          await google.colab.output.renderOutput(dataTable, element);\n",
              "          const docLink = document.createElement('div');\n",
              "          docLink.innerHTML = docLinkHtml;\n",
              "          element.appendChild(docLink);\n",
              "        }\n",
              "      </script>\n",
              "    </div>\n",
              "  </div>\n",
              "  "
            ]
          },
          "metadata": {},
          "execution_count": 10
        }
      ]
    },
    {
      "cell_type": "markdown",
      "source": [
        "**Remove Numbers**"
      ],
      "metadata": {
        "id": "5nEoyPymwnjY"
      }
    },
    {
      "cell_type": "code",
      "source": [
        "def remove_numbers_boundaries(text):\n",
        "    \"\"\"Remove boundaries of words containing numbers\"\"\"\n",
        "    pattern = r\"\\b\\w*\\d\\w*\\b\"\n",
        "    return re.sub(pattern, \"\", text)\n",
        "\n",
        "dataset[\"Text\"] = dataset[\"Text\"].apply(remove_numbers_boundaries)\n",
        "dataset.head(5)"
      ],
      "metadata": {
        "id": "eOXB6mldvn15",
        "colab": {
          "base_uri": "https://localhost:8080/",
          "height": 206
        },
        "outputId": "d6a8f731-a739-4ed6-b8f4-dc01a3a598b3"
      },
      "execution_count": 11,
      "outputs": [
        {
          "output_type": "execute_result",
          "data": {
            "text/plain": [
              "   ArticleId                                               Text  Category  \\\n",
              "0       1833  worldcom exboss launches defence lawyers defen...  business   \n",
              "1        154  german business confidence slides german busin...  business   \n",
              "2       1101  bbc poll indicates economic gloom citizens in ...  business   \n",
              "3       1976  lifestyle  governs mobile choice  faster  bett...      tech   \n",
              "4        917  enron bosses in  payout eighteen former enron ...  business   \n",
              "\n",
              "   categoryId  \n",
              "0           0  \n",
              "1           0  \n",
              "2           0  \n",
              "3           1  \n",
              "4           0  "
            ],
            "text/html": [
              "\n",
              "  <div id=\"df-052ed4ec-1e74-4659-a281-eaf27556a56c\">\n",
              "    <div class=\"colab-df-container\">\n",
              "      <div>\n",
              "<style scoped>\n",
              "    .dataframe tbody tr th:only-of-type {\n",
              "        vertical-align: middle;\n",
              "    }\n",
              "\n",
              "    .dataframe tbody tr th {\n",
              "        vertical-align: top;\n",
              "    }\n",
              "\n",
              "    .dataframe thead th {\n",
              "        text-align: right;\n",
              "    }\n",
              "</style>\n",
              "<table border=\"1\" class=\"dataframe\">\n",
              "  <thead>\n",
              "    <tr style=\"text-align: right;\">\n",
              "      <th></th>\n",
              "      <th>ArticleId</th>\n",
              "      <th>Text</th>\n",
              "      <th>Category</th>\n",
              "      <th>categoryId</th>\n",
              "    </tr>\n",
              "  </thead>\n",
              "  <tbody>\n",
              "    <tr>\n",
              "      <th>0</th>\n",
              "      <td>1833</td>\n",
              "      <td>worldcom exboss launches defence lawyers defen...</td>\n",
              "      <td>business</td>\n",
              "      <td>0</td>\n",
              "    </tr>\n",
              "    <tr>\n",
              "      <th>1</th>\n",
              "      <td>154</td>\n",
              "      <td>german business confidence slides german busin...</td>\n",
              "      <td>business</td>\n",
              "      <td>0</td>\n",
              "    </tr>\n",
              "    <tr>\n",
              "      <th>2</th>\n",
              "      <td>1101</td>\n",
              "      <td>bbc poll indicates economic gloom citizens in ...</td>\n",
              "      <td>business</td>\n",
              "      <td>0</td>\n",
              "    </tr>\n",
              "    <tr>\n",
              "      <th>3</th>\n",
              "      <td>1976</td>\n",
              "      <td>lifestyle  governs mobile choice  faster  bett...</td>\n",
              "      <td>tech</td>\n",
              "      <td>1</td>\n",
              "    </tr>\n",
              "    <tr>\n",
              "      <th>4</th>\n",
              "      <td>917</td>\n",
              "      <td>enron bosses in  payout eighteen former enron ...</td>\n",
              "      <td>business</td>\n",
              "      <td>0</td>\n",
              "    </tr>\n",
              "  </tbody>\n",
              "</table>\n",
              "</div>\n",
              "      <button class=\"colab-df-convert\" onclick=\"convertToInteractive('df-052ed4ec-1e74-4659-a281-eaf27556a56c')\"\n",
              "              title=\"Convert this dataframe to an interactive table.\"\n",
              "              style=\"display:none;\">\n",
              "        \n",
              "  <svg xmlns=\"http://www.w3.org/2000/svg\" height=\"24px\"viewBox=\"0 0 24 24\"\n",
              "       width=\"24px\">\n",
              "    <path d=\"M0 0h24v24H0V0z\" fill=\"none\"/>\n",
              "    <path d=\"M18.56 5.44l.94 2.06.94-2.06 2.06-.94-2.06-.94-.94-2.06-.94 2.06-2.06.94zm-11 1L8.5 8.5l.94-2.06 2.06-.94-2.06-.94L8.5 2.5l-.94 2.06-2.06.94zm10 10l.94 2.06.94-2.06 2.06-.94-2.06-.94-.94-2.06-.94 2.06-2.06.94z\"/><path d=\"M17.41 7.96l-1.37-1.37c-.4-.4-.92-.59-1.43-.59-.52 0-1.04.2-1.43.59L10.3 9.45l-7.72 7.72c-.78.78-.78 2.05 0 2.83L4 21.41c.39.39.9.59 1.41.59.51 0 1.02-.2 1.41-.59l7.78-7.78 2.81-2.81c.8-.78.8-2.07 0-2.86zM5.41 20L4 18.59l7.72-7.72 1.47 1.35L5.41 20z\"/>\n",
              "  </svg>\n",
              "      </button>\n",
              "      \n",
              "  <style>\n",
              "    .colab-df-container {\n",
              "      display:flex;\n",
              "      flex-wrap:wrap;\n",
              "      gap: 12px;\n",
              "    }\n",
              "\n",
              "    .colab-df-convert {\n",
              "      background-color: #E8F0FE;\n",
              "      border: none;\n",
              "      border-radius: 50%;\n",
              "      cursor: pointer;\n",
              "      display: none;\n",
              "      fill: #1967D2;\n",
              "      height: 32px;\n",
              "      padding: 0 0 0 0;\n",
              "      width: 32px;\n",
              "    }\n",
              "\n",
              "    .colab-df-convert:hover {\n",
              "      background-color: #E2EBFA;\n",
              "      box-shadow: 0px 1px 2px rgba(60, 64, 67, 0.3), 0px 1px 3px 1px rgba(60, 64, 67, 0.15);\n",
              "      fill: #174EA6;\n",
              "    }\n",
              "\n",
              "    [theme=dark] .colab-df-convert {\n",
              "      background-color: #3B4455;\n",
              "      fill: #D2E3FC;\n",
              "    }\n",
              "\n",
              "    [theme=dark] .colab-df-convert:hover {\n",
              "      background-color: #434B5C;\n",
              "      box-shadow: 0px 1px 3px 1px rgba(0, 0, 0, 0.15);\n",
              "      filter: drop-shadow(0px 1px 2px rgba(0, 0, 0, 0.3));\n",
              "      fill: #FFFFFF;\n",
              "    }\n",
              "  </style>\n",
              "\n",
              "      <script>\n",
              "        const buttonEl =\n",
              "          document.querySelector('#df-052ed4ec-1e74-4659-a281-eaf27556a56c button.colab-df-convert');\n",
              "        buttonEl.style.display =\n",
              "          google.colab.kernel.accessAllowed ? 'block' : 'none';\n",
              "\n",
              "        async function convertToInteractive(key) {\n",
              "          const element = document.querySelector('#df-052ed4ec-1e74-4659-a281-eaf27556a56c');\n",
              "          const dataTable =\n",
              "            await google.colab.kernel.invokeFunction('convertToInteractive',\n",
              "                                                     [key], {});\n",
              "          if (!dataTable) return;\n",
              "\n",
              "          const docLinkHtml = 'Like what you see? Visit the ' +\n",
              "            '<a target=\"_blank\" href=https://colab.research.google.com/notebooks/data_table.ipynb>data table notebook</a>'\n",
              "            + ' to learn more about interactive tables.';\n",
              "          element.innerHTML = '';\n",
              "          dataTable['output_type'] = 'display_data';\n",
              "          await google.colab.output.renderOutput(dataTable, element);\n",
              "          const docLink = document.createElement('div');\n",
              "          docLink.innerHTML = docLinkHtml;\n",
              "          element.appendChild(docLink);\n",
              "        }\n",
              "      </script>\n",
              "    </div>\n",
              "  </div>\n",
              "  "
            ]
          },
          "metadata": {},
          "execution_count": 11
        }
      ]
    },
    {
      "cell_type": "markdown",
      "source": [
        "**3)Removal of stopwords**"
      ],
      "metadata": {
        "id": "Ge8wi1x0lA4W"
      }
    },
    {
      "cell_type": "markdown",
      "source": [
        "*Stopwords are commonly occuring words in a language like 'the', 'a' and so on. They can be removed from the text most of the times, as they don't provide valuable information for downstream analysis.*"
      ],
      "metadata": {
        "id": "exF6wGOplCsO"
      }
    },
    {
      "cell_type": "code",
      "source": [
        "nltk.download('stopwords')"
      ],
      "metadata": {
        "id": "rK3u_HyRlS2m",
        "colab": {
          "base_uri": "https://localhost:8080/"
        },
        "outputId": "f8133176-8b04-4edc-f896-a7458e885320"
      },
      "execution_count": 12,
      "outputs": [
        {
          "output_type": "stream",
          "name": "stderr",
          "text": [
            "[nltk_data] Downloading package stopwords to /root/nltk_data...\n",
            "[nltk_data]   Package stopwords is already up-to-date!\n"
          ]
        },
        {
          "output_type": "execute_result",
          "data": {
            "text/plain": [
              "True"
            ]
          },
          "metadata": {},
          "execution_count": 12
        }
      ]
    },
    {
      "cell_type": "code",
      "source": [
        "from nltk.corpus import stopwords\n",
        "\", \".join(stopwords.words('english'))"
      ],
      "metadata": {
        "id": "wI4TuG2RlCHK",
        "colab": {
          "base_uri": "https://localhost:8080/",
          "height": 140
        },
        "outputId": "4059849e-0b43-4311-8236-3150a0b2f2bb"
      },
      "execution_count": 13,
      "outputs": [
        {
          "output_type": "execute_result",
          "data": {
            "text/plain": [
              "\"i, me, my, myself, we, our, ours, ourselves, you, you're, you've, you'll, you'd, your, yours, yourself, yourselves, he, him, his, himself, she, she's, her, hers, herself, it, it's, its, itself, they, them, their, theirs, themselves, what, which, who, whom, this, that, that'll, these, those, am, is, are, was, were, be, been, being, have, has, had, having, do, does, did, doing, a, an, the, and, but, if, or, because, as, until, while, of, at, by, for, with, about, against, between, into, through, during, before, after, above, below, to, from, up, down, in, out, on, off, over, under, again, further, then, once, here, there, when, where, why, how, all, any, both, each, few, more, most, other, some, such, no, nor, not, only, own, same, so, than, too, very, s, t, can, will, just, don, don't, should, should've, now, d, ll, m, o, re, ve, y, ain, aren, aren't, couldn, couldn't, didn, didn't, doesn, doesn't, hadn, hadn't, hasn, hasn't, haven, haven't, isn, isn't, ma, mightn, mightn't, mustn, mustn't, needn, needn't, shan, shan't, shouldn, shouldn't, wasn, wasn't, weren, weren't, won, won't, wouldn, wouldn't\""
            ],
            "application/vnd.google.colaboratory.intrinsic+json": {
              "type": "string"
            }
          },
          "metadata": {},
          "execution_count": 13
        }
      ]
    },
    {
      "cell_type": "code",
      "source": [
        "STOPWORDS = set(stopwords.words('english'))\n",
        "def remove_stopwords(text):\n",
        "    \"\"\"custom function to remove the stopwords\"\"\"\n",
        "    return \" \".join([word for word in str(text).split() if word not in STOPWORDS])\n",
        "\n",
        "dataset[\"Text\"] = dataset[\"Text\"].apply(lambda text: remove_stopwords(text))\n",
        "dataset.head()\n"
      ],
      "metadata": {
        "id": "TtXgWSLdlNV2",
        "colab": {
          "base_uri": "https://localhost:8080/",
          "height": 206
        },
        "outputId": "437f15b9-0dca-4345-988e-ced4eb0914f6"
      },
      "execution_count": 14,
      "outputs": [
        {
          "output_type": "execute_result",
          "data": {
            "text/plain": [
              "   ArticleId                                               Text  Category  \\\n",
              "0       1833  worldcom exboss launches defence lawyers defen...  business   \n",
              "1        154  german business confidence slides german busin...  business   \n",
              "2       1101  bbc poll indicates economic gloom citizens maj...  business   \n",
              "3       1976  lifestyle governs mobile choice faster better ...      tech   \n",
              "4        917  enron bosses payout eighteen former enron dire...  business   \n",
              "\n",
              "   categoryId  \n",
              "0           0  \n",
              "1           0  \n",
              "2           0  \n",
              "3           1  \n",
              "4           0  "
            ],
            "text/html": [
              "\n",
              "  <div id=\"df-b121d143-9258-42ec-b8b5-928365842a09\">\n",
              "    <div class=\"colab-df-container\">\n",
              "      <div>\n",
              "<style scoped>\n",
              "    .dataframe tbody tr th:only-of-type {\n",
              "        vertical-align: middle;\n",
              "    }\n",
              "\n",
              "    .dataframe tbody tr th {\n",
              "        vertical-align: top;\n",
              "    }\n",
              "\n",
              "    .dataframe thead th {\n",
              "        text-align: right;\n",
              "    }\n",
              "</style>\n",
              "<table border=\"1\" class=\"dataframe\">\n",
              "  <thead>\n",
              "    <tr style=\"text-align: right;\">\n",
              "      <th></th>\n",
              "      <th>ArticleId</th>\n",
              "      <th>Text</th>\n",
              "      <th>Category</th>\n",
              "      <th>categoryId</th>\n",
              "    </tr>\n",
              "  </thead>\n",
              "  <tbody>\n",
              "    <tr>\n",
              "      <th>0</th>\n",
              "      <td>1833</td>\n",
              "      <td>worldcom exboss launches defence lawyers defen...</td>\n",
              "      <td>business</td>\n",
              "      <td>0</td>\n",
              "    </tr>\n",
              "    <tr>\n",
              "      <th>1</th>\n",
              "      <td>154</td>\n",
              "      <td>german business confidence slides german busin...</td>\n",
              "      <td>business</td>\n",
              "      <td>0</td>\n",
              "    </tr>\n",
              "    <tr>\n",
              "      <th>2</th>\n",
              "      <td>1101</td>\n",
              "      <td>bbc poll indicates economic gloom citizens maj...</td>\n",
              "      <td>business</td>\n",
              "      <td>0</td>\n",
              "    </tr>\n",
              "    <tr>\n",
              "      <th>3</th>\n",
              "      <td>1976</td>\n",
              "      <td>lifestyle governs mobile choice faster better ...</td>\n",
              "      <td>tech</td>\n",
              "      <td>1</td>\n",
              "    </tr>\n",
              "    <tr>\n",
              "      <th>4</th>\n",
              "      <td>917</td>\n",
              "      <td>enron bosses payout eighteen former enron dire...</td>\n",
              "      <td>business</td>\n",
              "      <td>0</td>\n",
              "    </tr>\n",
              "  </tbody>\n",
              "</table>\n",
              "</div>\n",
              "      <button class=\"colab-df-convert\" onclick=\"convertToInteractive('df-b121d143-9258-42ec-b8b5-928365842a09')\"\n",
              "              title=\"Convert this dataframe to an interactive table.\"\n",
              "              style=\"display:none;\">\n",
              "        \n",
              "  <svg xmlns=\"http://www.w3.org/2000/svg\" height=\"24px\"viewBox=\"0 0 24 24\"\n",
              "       width=\"24px\">\n",
              "    <path d=\"M0 0h24v24H0V0z\" fill=\"none\"/>\n",
              "    <path d=\"M18.56 5.44l.94 2.06.94-2.06 2.06-.94-2.06-.94-.94-2.06-.94 2.06-2.06.94zm-11 1L8.5 8.5l.94-2.06 2.06-.94-2.06-.94L8.5 2.5l-.94 2.06-2.06.94zm10 10l.94 2.06.94-2.06 2.06-.94-2.06-.94-.94-2.06-.94 2.06-2.06.94z\"/><path d=\"M17.41 7.96l-1.37-1.37c-.4-.4-.92-.59-1.43-.59-.52 0-1.04.2-1.43.59L10.3 9.45l-7.72 7.72c-.78.78-.78 2.05 0 2.83L4 21.41c.39.39.9.59 1.41.59.51 0 1.02-.2 1.41-.59l7.78-7.78 2.81-2.81c.8-.78.8-2.07 0-2.86zM5.41 20L4 18.59l7.72-7.72 1.47 1.35L5.41 20z\"/>\n",
              "  </svg>\n",
              "      </button>\n",
              "      \n",
              "  <style>\n",
              "    .colab-df-container {\n",
              "      display:flex;\n",
              "      flex-wrap:wrap;\n",
              "      gap: 12px;\n",
              "    }\n",
              "\n",
              "    .colab-df-convert {\n",
              "      background-color: #E8F0FE;\n",
              "      border: none;\n",
              "      border-radius: 50%;\n",
              "      cursor: pointer;\n",
              "      display: none;\n",
              "      fill: #1967D2;\n",
              "      height: 32px;\n",
              "      padding: 0 0 0 0;\n",
              "      width: 32px;\n",
              "    }\n",
              "\n",
              "    .colab-df-convert:hover {\n",
              "      background-color: #E2EBFA;\n",
              "      box-shadow: 0px 1px 2px rgba(60, 64, 67, 0.3), 0px 1px 3px 1px rgba(60, 64, 67, 0.15);\n",
              "      fill: #174EA6;\n",
              "    }\n",
              "\n",
              "    [theme=dark] .colab-df-convert {\n",
              "      background-color: #3B4455;\n",
              "      fill: #D2E3FC;\n",
              "    }\n",
              "\n",
              "    [theme=dark] .colab-df-convert:hover {\n",
              "      background-color: #434B5C;\n",
              "      box-shadow: 0px 1px 3px 1px rgba(0, 0, 0, 0.15);\n",
              "      filter: drop-shadow(0px 1px 2px rgba(0, 0, 0, 0.3));\n",
              "      fill: #FFFFFF;\n",
              "    }\n",
              "  </style>\n",
              "\n",
              "      <script>\n",
              "        const buttonEl =\n",
              "          document.querySelector('#df-b121d143-9258-42ec-b8b5-928365842a09 button.colab-df-convert');\n",
              "        buttonEl.style.display =\n",
              "          google.colab.kernel.accessAllowed ? 'block' : 'none';\n",
              "\n",
              "        async function convertToInteractive(key) {\n",
              "          const element = document.querySelector('#df-b121d143-9258-42ec-b8b5-928365842a09');\n",
              "          const dataTable =\n",
              "            await google.colab.kernel.invokeFunction('convertToInteractive',\n",
              "                                                     [key], {});\n",
              "          if (!dataTable) return;\n",
              "\n",
              "          const docLinkHtml = 'Like what you see? Visit the ' +\n",
              "            '<a target=\"_blank\" href=https://colab.research.google.com/notebooks/data_table.ipynb>data table notebook</a>'\n",
              "            + ' to learn more about interactive tables.';\n",
              "          element.innerHTML = '';\n",
              "          dataTable['output_type'] = 'display_data';\n",
              "          await google.colab.output.renderOutput(dataTable, element);\n",
              "          const docLink = document.createElement('div');\n",
              "          docLink.innerHTML = docLinkHtml;\n",
              "          element.appendChild(docLink);\n",
              "        }\n",
              "      </script>\n",
              "    </div>\n",
              "  </div>\n",
              "  "
            ]
          },
          "metadata": {},
          "execution_count": 14
        }
      ]
    },
    {
      "cell_type": "markdown",
      "source": [
        "**Perform lemmatization to reduce words to their root form.**"
      ],
      "metadata": {
        "id": "03UQC371rQ5s"
      }
    },
    {
      "cell_type": "markdown",
      "source": [
        "*Stemming is the process of reducing inflected (or sometimes derived) words to their word stem, base or root form (From Wikipedia)*"
      ],
      "metadata": {
        "id": "nQlWI7lQrVcf"
      }
    },
    {
      "cell_type": "code",
      "source": [
        "nltk.download('wordnet')\n",
        "nltk.download('averaged_perceptron_tagger')"
      ],
      "metadata": {
        "id": "3sGQXztftXBG",
        "colab": {
          "base_uri": "https://localhost:8080/"
        },
        "outputId": "3d07f08b-6d0d-46eb-a949-736e87d2494c"
      },
      "execution_count": 17,
      "outputs": [
        {
          "output_type": "stream",
          "name": "stderr",
          "text": [
            "[nltk_data] Downloading package wordnet to /root/nltk_data...\n",
            "[nltk_data]   Package wordnet is already up-to-date!\n",
            "[nltk_data] Downloading package averaged_perceptron_tagger to\n",
            "[nltk_data]     /root/nltk_data...\n",
            "[nltk_data]   Package averaged_perceptron_tagger is already up-to-\n",
            "[nltk_data]       date!\n"
          ]
        },
        {
          "output_type": "execute_result",
          "data": {
            "text/plain": [
              "True"
            ]
          },
          "metadata": {},
          "execution_count": 17
        }
      ]
    },
    {
      "cell_type": "code",
      "source": [
        "from nltk.corpus import wordnet\n",
        "from nltk.stem import WordNetLemmatizer\n",
        "\n",
        "lemmatizer = WordNetLemmatizer()\n",
        "wordnet_map = {\"N\":wordnet.NOUN, \"V\":wordnet.VERB, \"J\":wordnet.ADJ, \"R\":wordnet.ADV}\n",
        "def lemmatize_words(text):\n",
        "    pos_tagged_text = nltk.pos_tag(text.split())\n",
        "    return \" \".join([lemmatizer.lemmatize(word, wordnet_map.get(pos[0], wordnet.NOUN)) for word, pos in pos_tagged_text])\n",
        "\n",
        "dataset[\"Text\"] = dataset[\"Text\"].apply(lambda text: lemmatize_words(text))\n",
        "dataset.head()"
      ],
      "metadata": {
        "id": "Fj4gi6iNpKZA",
        "colab": {
          "base_uri": "https://localhost:8080/",
          "height": 206
        },
        "outputId": "f7ccaf6c-62e6-418d-dd09-01f7c29d8502"
      },
      "execution_count": 18,
      "outputs": [
        {
          "output_type": "execute_result",
          "data": {
            "text/plain": [
              "   ArticleId                                               Text  Category  \\\n",
              "0       1833  worldcom exboss launch defence lawyer defend f...  business   \n",
              "1        154  german business confidence slides german busin...  business   \n",
              "2       1101  bbc poll indicate economic gloom citizen major...  business   \n",
              "3       1976  lifestyle governs mobile choice faster well fu...      tech   \n",
              "4        917  enron boss payout eighteen former enron direct...  business   \n",
              "\n",
              "   categoryId  \n",
              "0           0  \n",
              "1           0  \n",
              "2           0  \n",
              "3           1  \n",
              "4           0  "
            ],
            "text/html": [
              "\n",
              "  <div id=\"df-30df7e5f-259a-4870-90df-8c98c95dfdca\">\n",
              "    <div class=\"colab-df-container\">\n",
              "      <div>\n",
              "<style scoped>\n",
              "    .dataframe tbody tr th:only-of-type {\n",
              "        vertical-align: middle;\n",
              "    }\n",
              "\n",
              "    .dataframe tbody tr th {\n",
              "        vertical-align: top;\n",
              "    }\n",
              "\n",
              "    .dataframe thead th {\n",
              "        text-align: right;\n",
              "    }\n",
              "</style>\n",
              "<table border=\"1\" class=\"dataframe\">\n",
              "  <thead>\n",
              "    <tr style=\"text-align: right;\">\n",
              "      <th></th>\n",
              "      <th>ArticleId</th>\n",
              "      <th>Text</th>\n",
              "      <th>Category</th>\n",
              "      <th>categoryId</th>\n",
              "    </tr>\n",
              "  </thead>\n",
              "  <tbody>\n",
              "    <tr>\n",
              "      <th>0</th>\n",
              "      <td>1833</td>\n",
              "      <td>worldcom exboss launch defence lawyer defend f...</td>\n",
              "      <td>business</td>\n",
              "      <td>0</td>\n",
              "    </tr>\n",
              "    <tr>\n",
              "      <th>1</th>\n",
              "      <td>154</td>\n",
              "      <td>german business confidence slides german busin...</td>\n",
              "      <td>business</td>\n",
              "      <td>0</td>\n",
              "    </tr>\n",
              "    <tr>\n",
              "      <th>2</th>\n",
              "      <td>1101</td>\n",
              "      <td>bbc poll indicate economic gloom citizen major...</td>\n",
              "      <td>business</td>\n",
              "      <td>0</td>\n",
              "    </tr>\n",
              "    <tr>\n",
              "      <th>3</th>\n",
              "      <td>1976</td>\n",
              "      <td>lifestyle governs mobile choice faster well fu...</td>\n",
              "      <td>tech</td>\n",
              "      <td>1</td>\n",
              "    </tr>\n",
              "    <tr>\n",
              "      <th>4</th>\n",
              "      <td>917</td>\n",
              "      <td>enron boss payout eighteen former enron direct...</td>\n",
              "      <td>business</td>\n",
              "      <td>0</td>\n",
              "    </tr>\n",
              "  </tbody>\n",
              "</table>\n",
              "</div>\n",
              "      <button class=\"colab-df-convert\" onclick=\"convertToInteractive('df-30df7e5f-259a-4870-90df-8c98c95dfdca')\"\n",
              "              title=\"Convert this dataframe to an interactive table.\"\n",
              "              style=\"display:none;\">\n",
              "        \n",
              "  <svg xmlns=\"http://www.w3.org/2000/svg\" height=\"24px\"viewBox=\"0 0 24 24\"\n",
              "       width=\"24px\">\n",
              "    <path d=\"M0 0h24v24H0V0z\" fill=\"none\"/>\n",
              "    <path d=\"M18.56 5.44l.94 2.06.94-2.06 2.06-.94-2.06-.94-.94-2.06-.94 2.06-2.06.94zm-11 1L8.5 8.5l.94-2.06 2.06-.94-2.06-.94L8.5 2.5l-.94 2.06-2.06.94zm10 10l.94 2.06.94-2.06 2.06-.94-2.06-.94-.94-2.06-.94 2.06-2.06.94z\"/><path d=\"M17.41 7.96l-1.37-1.37c-.4-.4-.92-.59-1.43-.59-.52 0-1.04.2-1.43.59L10.3 9.45l-7.72 7.72c-.78.78-.78 2.05 0 2.83L4 21.41c.39.39.9.59 1.41.59.51 0 1.02-.2 1.41-.59l7.78-7.78 2.81-2.81c.8-.78.8-2.07 0-2.86zM5.41 20L4 18.59l7.72-7.72 1.47 1.35L5.41 20z\"/>\n",
              "  </svg>\n",
              "      </button>\n",
              "      \n",
              "  <style>\n",
              "    .colab-df-container {\n",
              "      display:flex;\n",
              "      flex-wrap:wrap;\n",
              "      gap: 12px;\n",
              "    }\n",
              "\n",
              "    .colab-df-convert {\n",
              "      background-color: #E8F0FE;\n",
              "      border: none;\n",
              "      border-radius: 50%;\n",
              "      cursor: pointer;\n",
              "      display: none;\n",
              "      fill: #1967D2;\n",
              "      height: 32px;\n",
              "      padding: 0 0 0 0;\n",
              "      width: 32px;\n",
              "    }\n",
              "\n",
              "    .colab-df-convert:hover {\n",
              "      background-color: #E2EBFA;\n",
              "      box-shadow: 0px 1px 2px rgba(60, 64, 67, 0.3), 0px 1px 3px 1px rgba(60, 64, 67, 0.15);\n",
              "      fill: #174EA6;\n",
              "    }\n",
              "\n",
              "    [theme=dark] .colab-df-convert {\n",
              "      background-color: #3B4455;\n",
              "      fill: #D2E3FC;\n",
              "    }\n",
              "\n",
              "    [theme=dark] .colab-df-convert:hover {\n",
              "      background-color: #434B5C;\n",
              "      box-shadow: 0px 1px 3px 1px rgba(0, 0, 0, 0.15);\n",
              "      filter: drop-shadow(0px 1px 2px rgba(0, 0, 0, 0.3));\n",
              "      fill: #FFFFFF;\n",
              "    }\n",
              "  </style>\n",
              "\n",
              "      <script>\n",
              "        const buttonEl =\n",
              "          document.querySelector('#df-30df7e5f-259a-4870-90df-8c98c95dfdca button.colab-df-convert');\n",
              "        buttonEl.style.display =\n",
              "          google.colab.kernel.accessAllowed ? 'block' : 'none';\n",
              "\n",
              "        async function convertToInteractive(key) {\n",
              "          const element = document.querySelector('#df-30df7e5f-259a-4870-90df-8c98c95dfdca');\n",
              "          const dataTable =\n",
              "            await google.colab.kernel.invokeFunction('convertToInteractive',\n",
              "                                                     [key], {});\n",
              "          if (!dataTable) return;\n",
              "\n",
              "          const docLinkHtml = 'Like what you see? Visit the ' +\n",
              "            '<a target=\"_blank\" href=https://colab.research.google.com/notebooks/data_table.ipynb>data table notebook</a>'\n",
              "            + ' to learn more about interactive tables.';\n",
              "          element.innerHTML = '';\n",
              "          dataTable['output_type'] = 'display_data';\n",
              "          await google.colab.output.renderOutput(dataTable, element);\n",
              "          const docLink = document.createElement('div');\n",
              "          docLink.innerHTML = docLinkHtml;\n",
              "          element.appendChild(docLink);\n",
              "        }\n",
              "      </script>\n",
              "    </div>\n",
              "  </div>\n",
              "  "
            ]
          },
          "metadata": {},
          "execution_count": 18
        }
      ]
    },
    {
      "cell_type": "markdown",
      "source": [
        "**Converting every articles into tokens after text preprocessing**"
      ],
      "metadata": {
        "id": "gPUVYx6mrBUA"
      }
    },
    {
      "cell_type": "code",
      "source": [
        "!pip install --user -U nltk"
      ],
      "metadata": {
        "id": "YP9I-fN5lNZr",
        "colab": {
          "base_uri": "https://localhost:8080/"
        },
        "outputId": "29a85cc7-dd5c-49a2-c88f-b32cf987fb7d"
      },
      "execution_count": 19,
      "outputs": [
        {
          "output_type": "stream",
          "name": "stdout",
          "text": [
            "Looking in indexes: https://pypi.org/simple, https://us-python.pkg.dev/colab-wheels/public/simple/\n",
            "Requirement already satisfied: nltk in /usr/local/lib/python3.9/dist-packages (3.8.1)\n",
            "Requirement already satisfied: tqdm in /usr/local/lib/python3.9/dist-packages (from nltk) (4.65.0)\n",
            "Requirement already satisfied: joblib in /usr/local/lib/python3.9/dist-packages (from nltk) (1.1.1)\n",
            "Requirement already satisfied: regex>=2021.8.3 in /usr/local/lib/python3.9/dist-packages (from nltk) (2022.10.31)\n",
            "Requirement already satisfied: click in /usr/local/lib/python3.9/dist-packages (from nltk) (8.1.3)\n"
          ]
        }
      ]
    },
    {
      "cell_type": "code",
      "source": [
        "nltk.download('punkt')"
      ],
      "metadata": {
        "id": "HFB8n6ron1i9",
        "colab": {
          "base_uri": "https://localhost:8080/"
        },
        "outputId": "b56b5632-5249-4149-a75d-b2a55b89ae87"
      },
      "execution_count": 20,
      "outputs": [
        {
          "output_type": "stream",
          "name": "stderr",
          "text": [
            "[nltk_data] Downloading package punkt to /root/nltk_data...\n",
            "[nltk_data]   Package punkt is already up-to-date!\n"
          ]
        },
        {
          "output_type": "execute_result",
          "data": {
            "text/plain": [
              "True"
            ]
          },
          "metadata": {},
          "execution_count": 20
        }
      ]
    },
    {
      "cell_type": "code",
      "source": [
        "text = dataset.iloc[0][\"Text\"]\n",
        "print(text)"
      ],
      "metadata": {
        "id": "C6yuz84snXJk",
        "colab": {
          "base_uri": "https://localhost:8080/"
        },
        "outputId": "f3770bc2-bbfb-478d-c030-7e8fe6f633f8"
      },
      "execution_count": 21,
      "outputs": [
        {
          "output_type": "stream",
          "name": "stdout",
          "text": [
            "worldcom exboss launch defence lawyer defend former worldcom chief bernie ebbers battery fraud charge call company whistleblower first witness cynthia cooper worldcom exhead internal accounting alert director irregular accounting practice u telecoms giant warning lead collapse firm follow discovery £ accounting fraud mr ebbers plead guilty charge fraud conspiracy prosecution lawyer argue mr ebbers orchestrate series accounting trick worldcom order employee hide expense inflate revenue meet wall street earnings estimate ms cooper run consult business tell jury new york wednesday external auditor arthur andersen approve worldcom account early say andersen give green light procedure practice use worldcom mr ebber lawyer say unaware fraud argue auditor alert problem ms cooper also say shareholder meeting mr ebbers often pass technical question company finance chief give brief answer prosecution star witness former worldcom financial chief scott sullivan say mr ebbers order accounting adjustment firm tell hit book however ms cooper say mr sullivan mention anything uncomfortable worldcom accounting audit committee meet mr ebbers could face jail sentence year convict charge face worldcom emerge bankruptcy protection know mci last week mci agree buyout verizon communication deal value\n"
          ]
        }
      ]
    },
    {
      "cell_type": "code",
      "source": [
        "from nltk.tokenize import word_tokenize\n",
        "tokens = word_tokenize(text)\n",
        "print(tokens)"
      ],
      "metadata": {
        "id": "3rLCKxVWlNb_",
        "colab": {
          "base_uri": "https://localhost:8080/"
        },
        "outputId": "9c3a730a-7160-4066-ce62-1afa2f413f36"
      },
      "execution_count": 22,
      "outputs": [
        {
          "output_type": "stream",
          "name": "stdout",
          "text": [
            "['worldcom', 'exboss', 'launch', 'defence', 'lawyer', 'defend', 'former', 'worldcom', 'chief', 'bernie', 'ebbers', 'battery', 'fraud', 'charge', 'call', 'company', 'whistleblower', 'first', 'witness', 'cynthia', 'cooper', 'worldcom', 'exhead', 'internal', 'accounting', 'alert', 'director', 'irregular', 'accounting', 'practice', 'u', 'telecoms', 'giant', 'warning', 'lead', 'collapse', 'firm', 'follow', 'discovery', '£', 'accounting', 'fraud', 'mr', 'ebbers', 'plead', 'guilty', 'charge', 'fraud', 'conspiracy', 'prosecution', 'lawyer', 'argue', 'mr', 'ebbers', 'orchestrate', 'series', 'accounting', 'trick', 'worldcom', 'order', 'employee', 'hide', 'expense', 'inflate', 'revenue', 'meet', 'wall', 'street', 'earnings', 'estimate', 'ms', 'cooper', 'run', 'consult', 'business', 'tell', 'jury', 'new', 'york', 'wednesday', 'external', 'auditor', 'arthur', 'andersen', 'approve', 'worldcom', 'account', 'early', 'say', 'andersen', 'give', 'green', 'light', 'procedure', 'practice', 'use', 'worldcom', 'mr', 'ebber', 'lawyer', 'say', 'unaware', 'fraud', 'argue', 'auditor', 'alert', 'problem', 'ms', 'cooper', 'also', 'say', 'shareholder', 'meeting', 'mr', 'ebbers', 'often', 'pass', 'technical', 'question', 'company', 'finance', 'chief', 'give', 'brief', 'answer', 'prosecution', 'star', 'witness', 'former', 'worldcom', 'financial', 'chief', 'scott', 'sullivan', 'say', 'mr', 'ebbers', 'order', 'accounting', 'adjustment', 'firm', 'tell', 'hit', 'book', 'however', 'ms', 'cooper', 'say', 'mr', 'sullivan', 'mention', 'anything', 'uncomfortable', 'worldcom', 'accounting', 'audit', 'committee', 'meet', 'mr', 'ebbers', 'could', 'face', 'jail', 'sentence', 'year', 'convict', 'charge', 'face', 'worldcom', 'emerge', 'bankruptcy', 'protection', 'know', 'mci', 'last', 'week', 'mci', 'agree', 'buyout', 'verizon', 'communication', 'deal', 'value']\n"
          ]
        }
      ]
    },
    {
      "cell_type": "code",
      "source": [
        "type(tokens)"
      ],
      "metadata": {
        "id": "hxkddBrUpOdA",
        "colab": {
          "base_uri": "https://localhost:8080/"
        },
        "outputId": "e60e9044-3c47-4af3-cb8d-5088d4148b7d"
      },
      "execution_count": 23,
      "outputs": [
        {
          "output_type": "execute_result",
          "data": {
            "text/plain": [
              "list"
            ]
          },
          "metadata": {},
          "execution_count": 23
        }
      ]
    },
    {
      "cell_type": "code",
      "source": [
        "dataset['tokens'] =0"
      ],
      "metadata": {
        "id": "1e94Xgrl-1Hp"
      },
      "execution_count": 24,
      "outputs": []
    },
    {
      "cell_type": "code",
      "source": [
        "from nltk.tokenize import word_tokenize\n",
        "def tokensz(data):\n",
        "    data['tokens'] = data['Text'].apply(word_tokenize)\n",
        "    return data"
      ],
      "metadata": {
        "id": "iVwZC1hklNd9"
      },
      "execution_count": 25,
      "outputs": []
    },
    {
      "cell_type": "code",
      "source": [
        "dataset = tokensz(dataset)"
      ],
      "metadata": {
        "id": "J0NVHbWElNg4"
      },
      "execution_count": 26,
      "outputs": []
    },
    {
      "cell_type": "code",
      "source": [
        "dataset.head(5)"
      ],
      "metadata": {
        "id": "5HH_ThHxoqWI",
        "colab": {
          "base_uri": "https://localhost:8080/",
          "height": 206
        },
        "outputId": "6add2cb8-2f12-4f44-eb60-df19d6f72cb8"
      },
      "execution_count": 27,
      "outputs": [
        {
          "output_type": "execute_result",
          "data": {
            "text/plain": [
              "   ArticleId                                               Text  Category  \\\n",
              "0       1833  worldcom exboss launch defence lawyer defend f...  business   \n",
              "1        154  german business confidence slides german busin...  business   \n",
              "2       1101  bbc poll indicate economic gloom citizen major...  business   \n",
              "3       1976  lifestyle governs mobile choice faster well fu...      tech   \n",
              "4        917  enron boss payout eighteen former enron direct...  business   \n",
              "\n",
              "   categoryId                                             tokens  \n",
              "0           0  [worldcom, exboss, launch, defence, lawyer, de...  \n",
              "1           0  [german, business, confidence, slides, german,...  \n",
              "2           0  [bbc, poll, indicate, economic, gloom, citizen...  \n",
              "3           1  [lifestyle, governs, mobile, choice, faster, w...  \n",
              "4           0  [enron, boss, payout, eighteen, former, enron,...  "
            ],
            "text/html": [
              "\n",
              "  <div id=\"df-d7147678-491e-4327-b9c3-425af2df62e9\">\n",
              "    <div class=\"colab-df-container\">\n",
              "      <div>\n",
              "<style scoped>\n",
              "    .dataframe tbody tr th:only-of-type {\n",
              "        vertical-align: middle;\n",
              "    }\n",
              "\n",
              "    .dataframe tbody tr th {\n",
              "        vertical-align: top;\n",
              "    }\n",
              "\n",
              "    .dataframe thead th {\n",
              "        text-align: right;\n",
              "    }\n",
              "</style>\n",
              "<table border=\"1\" class=\"dataframe\">\n",
              "  <thead>\n",
              "    <tr style=\"text-align: right;\">\n",
              "      <th></th>\n",
              "      <th>ArticleId</th>\n",
              "      <th>Text</th>\n",
              "      <th>Category</th>\n",
              "      <th>categoryId</th>\n",
              "      <th>tokens</th>\n",
              "    </tr>\n",
              "  </thead>\n",
              "  <tbody>\n",
              "    <tr>\n",
              "      <th>0</th>\n",
              "      <td>1833</td>\n",
              "      <td>worldcom exboss launch defence lawyer defend f...</td>\n",
              "      <td>business</td>\n",
              "      <td>0</td>\n",
              "      <td>[worldcom, exboss, launch, defence, lawyer, de...</td>\n",
              "    </tr>\n",
              "    <tr>\n",
              "      <th>1</th>\n",
              "      <td>154</td>\n",
              "      <td>german business confidence slides german busin...</td>\n",
              "      <td>business</td>\n",
              "      <td>0</td>\n",
              "      <td>[german, business, confidence, slides, german,...</td>\n",
              "    </tr>\n",
              "    <tr>\n",
              "      <th>2</th>\n",
              "      <td>1101</td>\n",
              "      <td>bbc poll indicate economic gloom citizen major...</td>\n",
              "      <td>business</td>\n",
              "      <td>0</td>\n",
              "      <td>[bbc, poll, indicate, economic, gloom, citizen...</td>\n",
              "    </tr>\n",
              "    <tr>\n",
              "      <th>3</th>\n",
              "      <td>1976</td>\n",
              "      <td>lifestyle governs mobile choice faster well fu...</td>\n",
              "      <td>tech</td>\n",
              "      <td>1</td>\n",
              "      <td>[lifestyle, governs, mobile, choice, faster, w...</td>\n",
              "    </tr>\n",
              "    <tr>\n",
              "      <th>4</th>\n",
              "      <td>917</td>\n",
              "      <td>enron boss payout eighteen former enron direct...</td>\n",
              "      <td>business</td>\n",
              "      <td>0</td>\n",
              "      <td>[enron, boss, payout, eighteen, former, enron,...</td>\n",
              "    </tr>\n",
              "  </tbody>\n",
              "</table>\n",
              "</div>\n",
              "      <button class=\"colab-df-convert\" onclick=\"convertToInteractive('df-d7147678-491e-4327-b9c3-425af2df62e9')\"\n",
              "              title=\"Convert this dataframe to an interactive table.\"\n",
              "              style=\"display:none;\">\n",
              "        \n",
              "  <svg xmlns=\"http://www.w3.org/2000/svg\" height=\"24px\"viewBox=\"0 0 24 24\"\n",
              "       width=\"24px\">\n",
              "    <path d=\"M0 0h24v24H0V0z\" fill=\"none\"/>\n",
              "    <path d=\"M18.56 5.44l.94 2.06.94-2.06 2.06-.94-2.06-.94-.94-2.06-.94 2.06-2.06.94zm-11 1L8.5 8.5l.94-2.06 2.06-.94-2.06-.94L8.5 2.5l-.94 2.06-2.06.94zm10 10l.94 2.06.94-2.06 2.06-.94-2.06-.94-.94-2.06-.94 2.06-2.06.94z\"/><path d=\"M17.41 7.96l-1.37-1.37c-.4-.4-.92-.59-1.43-.59-.52 0-1.04.2-1.43.59L10.3 9.45l-7.72 7.72c-.78.78-.78 2.05 0 2.83L4 21.41c.39.39.9.59 1.41.59.51 0 1.02-.2 1.41-.59l7.78-7.78 2.81-2.81c.8-.78.8-2.07 0-2.86zM5.41 20L4 18.59l7.72-7.72 1.47 1.35L5.41 20z\"/>\n",
              "  </svg>\n",
              "      </button>\n",
              "      \n",
              "  <style>\n",
              "    .colab-df-container {\n",
              "      display:flex;\n",
              "      flex-wrap:wrap;\n",
              "      gap: 12px;\n",
              "    }\n",
              "\n",
              "    .colab-df-convert {\n",
              "      background-color: #E8F0FE;\n",
              "      border: none;\n",
              "      border-radius: 50%;\n",
              "      cursor: pointer;\n",
              "      display: none;\n",
              "      fill: #1967D2;\n",
              "      height: 32px;\n",
              "      padding: 0 0 0 0;\n",
              "      width: 32px;\n",
              "    }\n",
              "\n",
              "    .colab-df-convert:hover {\n",
              "      background-color: #E2EBFA;\n",
              "      box-shadow: 0px 1px 2px rgba(60, 64, 67, 0.3), 0px 1px 3px 1px rgba(60, 64, 67, 0.15);\n",
              "      fill: #174EA6;\n",
              "    }\n",
              "\n",
              "    [theme=dark] .colab-df-convert {\n",
              "      background-color: #3B4455;\n",
              "      fill: #D2E3FC;\n",
              "    }\n",
              "\n",
              "    [theme=dark] .colab-df-convert:hover {\n",
              "      background-color: #434B5C;\n",
              "      box-shadow: 0px 1px 3px 1px rgba(0, 0, 0, 0.15);\n",
              "      filter: drop-shadow(0px 1px 2px rgba(0, 0, 0, 0.3));\n",
              "      fill: #FFFFFF;\n",
              "    }\n",
              "  </style>\n",
              "\n",
              "      <script>\n",
              "        const buttonEl =\n",
              "          document.querySelector('#df-d7147678-491e-4327-b9c3-425af2df62e9 button.colab-df-convert');\n",
              "        buttonEl.style.display =\n",
              "          google.colab.kernel.accessAllowed ? 'block' : 'none';\n",
              "\n",
              "        async function convertToInteractive(key) {\n",
              "          const element = document.querySelector('#df-d7147678-491e-4327-b9c3-425af2df62e9');\n",
              "          const dataTable =\n",
              "            await google.colab.kernel.invokeFunction('convertToInteractive',\n",
              "                                                     [key], {});\n",
              "          if (!dataTable) return;\n",
              "\n",
              "          const docLinkHtml = 'Like what you see? Visit the ' +\n",
              "            '<a target=\"_blank\" href=https://colab.research.google.com/notebooks/data_table.ipynb>data table notebook</a>'\n",
              "            + ' to learn more about interactive tables.';\n",
              "          element.innerHTML = '';\n",
              "          dataTable['output_type'] = 'display_data';\n",
              "          await google.colab.output.renderOutput(dataTable, element);\n",
              "          const docLink = document.createElement('div');\n",
              "          docLink.innerHTML = docLinkHtml;\n",
              "          element.appendChild(docLink);\n",
              "        }\n",
              "      </script>\n",
              "    </div>\n",
              "  </div>\n",
              "  "
            ]
          },
          "metadata": {},
          "execution_count": 27
        }
      ]
    },
    {
      "cell_type": "code",
      "source": [
        "dataset.shape"
      ],
      "metadata": {
        "id": "JVtYjEA8dgLF",
        "colab": {
          "base_uri": "https://localhost:8080/"
        },
        "outputId": "5062a23c-2c96-48b0-81ed-f0792b7bc436"
      },
      "execution_count": 28,
      "outputs": [
        {
          "output_type": "execute_result",
          "data": {
            "text/plain": [
              "(1490, 5)"
            ]
          },
          "metadata": {},
          "execution_count": 28
        }
      ]
    },
    {
      "cell_type": "markdown",
      "source": [
        "**Total unique words - 21092**"
      ],
      "metadata": {
        "id": "OfbpLUV6m4dr"
      }
    },
    {
      "cell_type": "code",
      "source": [
        "# Create a set of all unique words in the dataset\n",
        "vocab = set()\n",
        "for article in dataset['Text']:\n",
        "    for word in article.split():\n",
        "        vocab.add(word)"
      ],
      "metadata": {
        "id": "UO-C7dQvm8DA"
      },
      "execution_count": 45,
      "outputs": []
    },
    {
      "cell_type": "code",
      "source": [
        "\n",
        "len(vocab)"
      ],
      "metadata": {
        "colab": {
          "base_uri": "https://localhost:8080/"
        },
        "id": "JTexokxDm9z2",
        "outputId": "d2ff21d0-71e1-4047-a5f1-a73bba8d877a"
      },
      "execution_count": 46,
      "outputs": [
        {
          "output_type": "execute_result",
          "data": {
            "text/plain": [
              "21092"
            ]
          },
          "metadata": {},
          "execution_count": 46
        }
      ]
    },
    {
      "cell_type": "markdown",
      "source": [
        "**Vectorize the Text Data**"
      ],
      "metadata": {
        "id": "wRrS34UfdXv4"
      }
    },
    {
      "cell_type": "code",
      "source": [
        "\n",
        "def build_BBC_matrix(train_data):\n",
        "\n",
        "  from sklearn.feature_extraction.text import CountVectorizer\n",
        "  import pandas as pd\n",
        "\n",
        "  vocab = set()\n",
        "  for article in train_data['Text']:\n",
        "     for word in article.split():\n",
        "         vocab.add(word)\n",
        "  print(len(vocab))\n",
        "\n",
        "  # Create a CountVectorizer object\n",
        "  vectorizer = CountVectorizer(vocabulary=vocab)\n",
        "\n",
        "\n",
        "  # Fit the vectorizer to the text data\n",
        "  X = vectorizer.fit_transform(train_data['Text'])\n",
        "\n",
        "  feature_names = vectorizer.get_feature_names_out()\n",
        "\n",
        "\n",
        "\n",
        "  # Create a DataFrame with the vectorized data and the article IDs as the index\n",
        "  BBC_data_matrix = pd.DataFrame(X.toarray(), columns = feature_names)\n",
        "  print(BBC_data_matrix.shape)\n",
        "  # Add a Category column to BBC_data_matrix and populate it with the category labels\n",
        "  BBC_data_matrix['Category']  = 'nan'\n",
        "  for index in range(BBC_data_matrix.shape[0]):\n",
        "    BBC_data_matrix['Category'].iloc[index] = train_data['Category'].iloc[index]\n",
        "\n",
        "\n",
        "  #BBC_data_matrix['CategoryID'] = y_train['categoryId'].values\n",
        "\n",
        "  # Print the Category column to verify that it has been added correctly\n",
        "  return BBC_data_matrix"
      ],
      "metadata": {
        "id": "OeyKtl5IdbMe"
      },
      "execution_count": 47,
      "outputs": []
    },
    {
      "cell_type": "code",
      "source": [
        "# # for word in vocab:\n",
        "  #     tf_icf[word] = {}\n",
        "  #     for category in categories:\n",
        "  #         tf_icf[word][category] = 0\n",
        "           #print(tf_icf[word][category])\n",
        "          #tf_icf[word] = {}\n",
        "          #tf_icf[word][category] = 0\n",
        "          # tf_icf[word][category] = tf[category].get(word) * math.log10(num_classes / cf[word])"
      ],
      "metadata": {
        "id": "763FKnm3SsW4"
      },
      "execution_count": 48,
      "outputs": []
    },
    {
      "cell_type": "markdown",
      "source": [
        "**Calculate TF-ICF**"
      ],
      "metadata": {
        "id": "DmHIxl5-sIZZ"
      }
    },
    {
      "cell_type": "code",
      "source": [
        "# ncols = len(list(BBC_data_matrix.columns)) - 2\n",
        "# cols = list(BBC_data_matrix.columns)\n",
        "# for artcID in BBC_data_matrix.index:\n",
        "#   art_category = BBC_data_matrix.loc[artcID]['Category']\n",
        "#   for i in range(ncols):\n",
        "#     if(BBC_data_matrix.loc[artcID][cols[i]] != 0):\n",
        "#       tf_icf_cols = tf_icf_df.loc[cols[i]][art_category]\n",
        "#       BBC_data_matrix.loc[artcID][cols[i]] =  BBC_data_matrix.loc[artcID][cols[i]] * tf_icf_cols \n",
        "    "
      ],
      "metadata": {
        "id": "ctlEuIsklucx"
      },
      "execution_count": 49,
      "outputs": []
    },
    {
      "cell_type": "code",
      "source": [
        "# for i in BBC_data_matrix.index:\n",
        "#   if BBC_data_matrix.loc[i]['££']>0:\n",
        "#         print(i)"
      ],
      "metadata": {
        "id": "et3b2rfRSiHf"
      },
      "execution_count": 50,
      "outputs": []
    },
    {
      "cell_type": "code",
      "source": [
        "# # get the number of columns in the dataframe\n",
        "# ncols = BBC_data_matrix.shape[1] - 2\n",
        "\n",
        "# # get a list of column names\n",
        "# cols = BBC_data_matrix.columns.tolist()\n",
        "\n",
        "# # loop over the columns and update the values in the dataframe\n",
        "# for col in cols[:-2]:\n",
        "#     # get the row of tf-idf values for the current column and category\n",
        "#     tf_icf_row = tf_icf_df.loc[col, BBC_data_matrix['Category']]\n",
        "#     #print(col)\n",
        "#     #multiply the tf-idf values with the original values in the dataframe\n",
        "#     BBC_data_matrix[col] = BBC_data_matrix[col] * tf_icf_row.values\n"
      ],
      "metadata": {
        "id": "Mv3OOttkTzgh"
      },
      "execution_count": 51,
      "outputs": []
    },
    {
      "cell_type": "code",
      "source": [
        "import math\n",
        "import pandas as pd\n",
        "\n",
        "def make_tf_icf(train_data):\n",
        "\n",
        "# Define categories\n",
        "  categories = train_data['Category'].unique()\n",
        "  # Compute TF for each category\n",
        "  tf = {}\n",
        "  for category in categories:\n",
        "      articles = train_data[train_data['Category'] == category]\n",
        "      article_count = len(articles)\n",
        "      tf[category] = {}\n",
        "      for article in articles['Text']:\n",
        "          #print(article)\n",
        "          for word in article.split():\n",
        "              tf[category][word] = tf[category].get(word, 0) + 1\n",
        "\n",
        "  # Compute CF and ICF for each term and category\n",
        "  num_classes = len(categories)\n",
        "  cf = {}\n",
        "  # Compute TF-ICF scores for all words in each category\n",
        "  tf_icf = {}\n",
        " \n",
        "  for category in categories:\n",
        "      for article in tf[category]:\n",
        "          word = article\n",
        "          cf[word] = len([category for category in categories if word in tf[category]])\n",
        "          #print(cf[word])\n",
        "          tf_icf[word] = tf_icf.get(word, {})\n",
        "          tf_icf[word][category] = float(tf[category].get(word)) * float(math.log10(num_classes / cf[word]))\n",
        " \n",
        "  # Create DataFrame of TF-ICF scores\n",
        "  tf_icf_df = pd.DataFrame(tf_icf)\n",
        "  # Transpose the DataFrame\n",
        "  tf_icf_df = tf_icf_df.transpose()\n",
        "\n",
        "  # Display the DataFrame\n",
        "  return tf_icf\n"
      ],
      "metadata": {
        "id": "iPdr2hnDjlI7"
      },
      "execution_count": 52,
      "outputs": []
    },
    {
      "cell_type": "code",
      "source": [
        "# cols = BBC_data_matrix.columns\n",
        "# tf_dict = {col: tf[col] for col in cols}\n",
        "\n",
        "# for artcID, row in BBC_data_matrix.iterrows():\n",
        "#     art_category = row['Category']\n",
        "#     for col in cols[:-1]:\n",
        "#         cell_value = row[col]\n",
        "#         if cell_value != 0:\n",
        "#             tf_icf = tf_dict[col][art_category]\n",
        "#             print(cell_value)\n",
        "#             row[col] = tf_icf"
      ],
      "metadata": {
        "id": "3fOG8qvgQ5X9"
      },
      "execution_count": 54,
      "outputs": []
    },
    {
      "cell_type": "code",
      "source": [
        "# BBC_data_matrix.iloc[:, 5000:7000]"
      ],
      "metadata": {
        "id": "TWZvIxSTSjKP"
      },
      "execution_count": 55,
      "outputs": []
    },
    {
      "cell_type": "code",
      "source": [
        "# cols = list(BBC_data_matrix.columns)\n",
        "# for artcID, row in BBC_data_matrix.iterrows():\n",
        "#   art_category = row['Category']\n",
        "#   for col_name in cols[:-1]:\n",
        "#     print(artcID)\n",
        "#     col_value = row[col_name]\n",
        "#     if col_value != 0:\n",
        "#       tf_icf_col = tf.get(col_name, {}).get(art_category, 0)\n",
        "#       row[col_name] =  tf_icf_col"
      ],
      "metadata": {
        "id": "fR58T9Cv2a7o"
      },
      "execution_count": 56,
      "outputs": []
    },
    {
      "cell_type": "code",
      "source": [
        "# import pandas as pd\n",
        "# from sklearn.feature_extraction.text import CountVectorizer\n",
        "\n",
        "# # Sample data\n",
        "# data = {\n",
        "#     \"ArticleId\": [1833, 154, 1101, 1976, 917],\n",
        "#     \"Text\": [\n",
        "#         \"worldcom ex-boss launches defence lawyers defe...\",\n",
        "#         \"german business confidence slides german busin...\",\n",
        "#         \"bbc poll indicates economic gloom citizens in ...\",\n",
        "#         \"lifestyle governs mobile choice faster bett...\",\n",
        "#         \"enron bosses in $168m payout eighteen former e...\"\n",
        "#     ]\n",
        "# }\n",
        "\n",
        "# # Convert data to dataframe\n",
        "# df = pd.DataFrame(data)\n",
        "\n",
        "# # Initialize CountVectorizer with n-gram range from 1 to 3\n",
        "# vectorizer = CountVectorizer(ngram_range=(2, 2))\n",
        "\n",
        "# # Fit and transform the text data to n-gram vectorized form\n",
        "# ngram_matrix = vectorizer.fit_transform(df[\"Text\"])\n",
        "\n",
        "# # Create a new dataframe with the n-gram matrix and article ID as index\n",
        "# ngram_df = pd.DataFrame(\n",
        "#     ngram_matrix.toarray(), columns=vectorizer.get_feature_names_out(), index=df[\"ArticleId\"]\n",
        "# )\n",
        "\n",
        "# # Display the n-gram dataframe\n",
        "# print(ngram_df)"
      ],
      "metadata": {
        "id": "YQY0c2xM-5K7"
      },
      "execution_count": null,
      "outputs": []
    },
    {
      "cell_type": "markdown",
      "source": [
        "# **Naive Bayes Classifier**"
      ],
      "metadata": {
        "id": "DEjUdFd_4tla"
      }
    },
    {
      "cell_type": "code",
      "source": [],
      "metadata": {
        "id": "hBY7OIIYDyu3"
      },
      "execution_count": 56,
      "outputs": []
    },
    {
      "cell_type": "code",
      "source": [
        "def predict_documents(docs,nb_prior_proba,words_proba):\n",
        "  #Create an empty dictionary to store the posterior probabilities for each category\n",
        "  nb_posterior_proba = {}\n",
        "  #Create an empty list to store the predicted category for each document\n",
        "  y_pred = []\n",
        "    #preprocess the data\n",
        "  for index, article in docs.iterrows():\n",
        "      for category in nb_prior_proba:\n",
        "\n",
        "      # Calculate the log prior probability for the category\n",
        "        nb_posterior_proba[category] = nb_prior_proba[category]\n",
        "        #print(nb_posterior_proba[category])\n",
        "        for words in article['Text'].split():\n",
        "\n",
        "     # If the feature (word) is in the vocabulary for the category, calculate its probability\n",
        "          if( words in words_proba[category] ):\n",
        "            feature_proba = words_proba[category][words]\n",
        "\n",
        "             # Handle the case when the feature probability is 0\n",
        "            if math.isclose(feature_proba,0):\n",
        "              feature_proba = 0.0\n",
        "            nb_posterior_proba[category]  = nb_posterior_proba[category] + feature_proba\n",
        "          else:\n",
        "    # If the feature (word) is not in the vocabulary for the category, assume a small probability\n",
        "            nb_posterior_proba[category]  = nb_posterior_proba[category] + 0.0\n",
        "\n",
        "  # Find the key (category) with the maximum value (probability)\n",
        "      \n",
        "      max_category = max(nb_posterior_proba, key=nb_posterior_proba.get)\n",
        "      #print(index,nb_posterior_proba)\n",
        "  #for every doc we append category who is giving max probability\n",
        "      y_pred.append(max_category) \n",
        "  \n",
        "\n",
        "  #Return the predicted category for each document\n",
        "  return y_pred\n",
        "\n",
        "\n",
        "\n"
      ],
      "metadata": {
        "id": "vjtaSE7MCZ4Y"
      },
      "execution_count": 57,
      "outputs": []
    },
    {
      "cell_type": "code",
      "source": [
        "  # category_tf_icf = {}\n",
        "  # for word in train_tf_icf:\n",
        "  #   for category in categories:\n",
        "  #     if(category in category_tf_icf ):\n",
        "  #       print(category)\n",
        "  #       category_tf_icf[category] += train_tf_icf[word][category]\n",
        "  #     else:\n",
        "  #       category_tf_icf[category] = 0"
      ],
      "metadata": {
        "id": "gtoZDukNB-3k"
      },
      "execution_count": 58,
      "outputs": []
    },
    {
      "cell_type": "code",
      "source": [
        "# def build_tf_icf_matrix(BBC_matrix,train_tf_icf):\n",
        "#     # get the number of columns in the dataframe\n",
        "#   ncols = BBC_matrix.shape[1] - 1\n",
        "\n",
        "#   # get a list of column names\n",
        "#   cols = BBC_matrix.columns.tolist()\n",
        "#   for ID in range(BBC_matrix.shape[0]):\n",
        "#     for col in cols[:-1]:\n",
        "#       if(BBC_matrix.iloc[ID][col] > 0):\n",
        "#         category = BBC_matrix.iloc[ID]['Category']\n",
        "#         tf_icf_value = train_tf_icf[col][category]\n",
        "#         BBC_matrix.iloc[ID][col] = BBC_matrix.iloc[ID][col] * tf_icf_value"
      ],
      "metadata": {
        "id": "3WY55UwNVMiM"
      },
      "execution_count": 59,
      "outputs": []
    },
    {
      "cell_type": "code",
      "source": [
        "def fit_NBTF_ICF(BBC_data_matrix,train_tf_icf):\n",
        "   # Initialize an empty dictionary to store probabilities of words in each category\n",
        "  words_proba = {}\n",
        "  #Find the unique categories in the training data\n",
        "  categories = BBC_data_matrix['Category'].unique()\n",
        "  #Iterate over each category and each word in that category to calculate its probability\n",
        "  category_tf_icf = {}\n",
        "  for category in categories:\n",
        "    category_tf_icf[category] = 0.0\n",
        "    for word in train_tf_icf:\n",
        "       if category in train_tf_icf[word]:\n",
        "         # Add tf-icf score of the word for the current category to category_tf_icf\n",
        "         category_tf_icf[category] += train_tf_icf[word][category]\n",
        "\n",
        "\n",
        "  words_proba = {}\n",
        "  for categ in categories:\n",
        "      words_proba[categ] = {}\n",
        "     # Iterate over each word and its tf-icf score for the current category\n",
        "      for word in train_tf_icf:\n",
        "        if categ in train_tf_icf[word]:\n",
        "          # Calculate probability of the word in the current category using tf-icf and category_tf_icf\n",
        "          words_proba[categ][word] = train_tf_icf[word][categ] / np.log(category_tf_icf[categ])\n",
        "        else:\n",
        "          words_proba[categ][word] = 0\n",
        "\n",
        "\n",
        "  \n",
        "  #Create an empty dictionary to store the prior probabilities for each category\n",
        "  nb_prior_proba = {}\n",
        "  # Use value_counts() method to count the number of documents in each category\n",
        "  category_counts = BBC_data_matrix['Category'].value_counts()\n",
        "  total_articles = BBC_data_matrix.shape[0]\n",
        "\n",
        "  # Print the counts for each category\n",
        "  for category, count in category_counts.items():\n",
        "    nb_prior_proba[category] = category_counts[category] / total_articles\n",
        "\n",
        "#Return the probabilities for each word in each category and the prior probabilities for each category\n",
        "  return words_proba,nb_prior_proba"
      ],
      "metadata": {
        "id": "4Hl5BKDVUpzy"
      },
      "execution_count": 60,
      "outputs": []
    },
    {
      "cell_type": "code",
      "source": [
        "def build_tf_icf_matrix(BBC_matrix, train_tf_icf):\n",
        "    # get the column names excluding the last column\n",
        "    cols = BBC_matrix.columns[:-1]\n",
        "\n",
        "    # loop through each row in the matrix\n",
        "    for i, row in BBC_matrix.iterrows():\n",
        "        # get the category for the current row\n",
        "        category = row['Category']\n",
        "        #print(i)\n",
        "        # loop through each column (excluding the last column)\n",
        "        for col in cols:\n",
        "            # if the value in the current cell is greater than 0\n",
        "            if row[col] > 0:\n",
        "                # get the tf_icf value for the current column and category\n",
        "                # print(col)\n",
        "                if category in train_tf_icf[col]:\n",
        "                  tf_icf_value = train_tf_icf[col][category]\n",
        "                  BBC_matrix.at[i, col] *= tf_icf_value\n",
        "\n",
        "\n",
        "                # update the cell value with the tf_icf value\n",
        "    return BBC_matrix\n"
      ],
      "metadata": {
        "id": "5Ln9VC4uhCHp"
      },
      "execution_count": 61,
      "outputs": []
    },
    {
      "cell_type": "markdown",
      "source": [
        "# **Training and Testing the Naive Bayes Classifier with TF-ICF**"
      ],
      "metadata": {
        "id": "9JBaoNcbvZQt"
      }
    },
    {
      "cell_type": "markdown",
      "source": [
        "**Splitting the dataset into training and testing sets**"
      ],
      "metadata": {
        "id": "-qBg1uTSvQ8V"
      }
    },
    {
      "cell_type": "code",
      "source": [],
      "metadata": {
        "id": "C01C-XicvYvF"
      },
      "execution_count": null,
      "outputs": []
    },
    {
      "cell_type": "code",
      "source": [
        "from sklearn.model_selection import train_test_split\n",
        "\n",
        "\n",
        "  \n",
        "X = dataset.drop(['Category','categoryId'],axis = 1)\n",
        "y = dataset['Category']\n",
        "\n",
        "#Splitting the dataset into training and testing sets\n",
        "X_train, X_test, y_train, y_test = train_test_split(X, y, test_size=0.30,random_state = 42)\n",
        "\n",
        "train_data = X_train\n",
        "train_data['Category'] = y_train\n",
        "\n",
        "#Creating a TF-ICF\n",
        "#weighted term frequency (TF) matrix using the make_tf_icf() function \n",
        "train_tf_icf = make_tf_icf(train_data)\n",
        "\n",
        "#Building a document-term matrix (DTM) using the build_BBC_matrix() function \n",
        "BBC_data_matrix = build_BBC_matrix(train_data)\n",
        "\n",
        "#Building a TF-ICF weighted DTM using the build_tf_icf_matrix() function \n",
        "BBC_data_matrix_rf_icf = build_tf_icf_matrix(BBC_data_matrix,train_tf_icf)\n",
        "\n",
        "#Fitting a Naive Bayes classifier to the training data using the fit_NBTF_ICF()\n",
        "#function from the given code and obtaining the probabilities of features \n",
        "\n",
        "\n",
        "\n",
        "training_features_prob_dict, NB_prior_proba = fit_NBTF_ICF(BBC_data_matrix_rf_icf,train_tf_icf)\n",
        "\n",
        "#Predicting the category labels of the test set \n",
        "#using the predict_documents() function from the given code with the obtained probabilities\n",
        "y_pred = predict_documents( X_test, NB_prior_proba, training_features_prob_dict )\n",
        "\n"
      ],
      "metadata": {
        "colab": {
          "base_uri": "https://localhost:8080/"
        },
        "id": "npmyJAzzOwT4",
        "outputId": "46308d54-c5fe-4803-9c35-30b8c948cc4f"
      },
      "execution_count": null,
      "outputs": [
        {
          "output_type": "stream",
          "name": "stdout",
          "text": [
            "18007\n",
            "(1043, 18007)\n"
          ]
        }
      ]
    },
    {
      "cell_type": "code",
      "source": [
        "BBC_data_matrix_rf_icf.to_pickle(\"BBC_TF_ICF.pkl\")  "
      ],
      "metadata": {
        "id": "-NfcipYuw26y"
      },
      "execution_count": null,
      "outputs": []
    },
    {
      "cell_type": "code",
      "source": [
        "acc = accuracy_score(y_test, y_pred)\n",
        "print(\"Accuracy: {:.2f}%\".format(acc * 100))"
      ],
      "metadata": {
        "colab": {
          "base_uri": "https://localhost:8080/"
        },
        "id": "TqtZ8GixGz0f",
        "outputId": "1193a230-a139-4e40-e8d9-cf388a9f02ef"
      },
      "execution_count": null,
      "outputs": [
        {
          "output_type": "stream",
          "name": "stdout",
          "text": [
            "Accuracy: 94.41%\n"
          ]
        }
      ]
    },
    {
      "cell_type": "code",
      "source": [
        "#Classification Report\n",
        "from sklearn import metrics\n",
        "print(metrics.classification_report(y_test,y_pred))"
      ],
      "metadata": {
        "colab": {
          "base_uri": "https://localhost:8080/"
        },
        "id": "WcTLi7jhu0N6",
        "outputId": "e3b4358a-7f35-4626-db08-3e3fc86cef64"
      },
      "execution_count": null,
      "outputs": [
        {
          "output_type": "stream",
          "name": "stdout",
          "text": [
            "               precision    recall  f1-score   support\n",
            "\n",
            "     business       0.96      0.91      0.93        97\n",
            "entertainment       0.95      0.91      0.93        79\n",
            "     politics       0.92      0.96      0.94        76\n",
            "        sport       0.97      0.99      0.98       110\n",
            "         tech       0.91      0.94      0.92        85\n",
            "\n",
            "     accuracy                           0.94       447\n",
            "    macro avg       0.94      0.94      0.94       447\n",
            " weighted avg       0.94      0.94      0.94       447\n",
            "\n"
          ]
        }
      ]
    },
    {
      "cell_type": "markdown",
      "source": [
        "#Improving the classifier:\n",
        "**improve\n",
        "the performance of the classifier( including different splits like 60-40,80-20,\n",
        "50-50).**"
      ],
      "metadata": {
        "id": "gOBkVvd02fWy"
      }
    },
    {
      "cell_type": "code",
      "source": [
        "from sklearn.model_selection import train_test_split\n",
        "\n",
        "ratios = [0.2, 0.4, 0.5]\n",
        "\n",
        "for test_ratio in ratios:\n",
        "\n",
        "  X = dataset.drop(['Category','categoryId'],axis = 1)\n",
        "  y = dataset['Category']\n",
        "\n",
        "  #Splitting the dataset into training and testing sets\n",
        "  X_train, X_test, y_train, y_test = train_test_split(X, y, test_size = test_ratio,random_state = 42)\n",
        "\n",
        "  train_data = X_train\n",
        "  train_data['Category'] = y_train\n",
        "\n",
        "  #Creating a TF-ICF\n",
        "  #weighted term frequency (TF) matrix using the make_tf_icf() function \n",
        "  train_tf_icf = make_tf_icf(train_data)\n",
        "\n",
        "  #Building a document-term matrix (DTM) using the build_BBC_matrix() function \n",
        "  BBC_data_matrix = build_BBC_matrix(train_data)\n",
        "\n",
        "  #Building a TF-ICF weighted DTM using the build_tf_icf_matrix() function \n",
        "  BBC_data_matrix_rf_icf = build_tf_icf_matrix(BBC_data_matrix,train_tf_icf)\n",
        "\n",
        "  #Fitting a Naive Bayes classifier to the training data using the fit_NBTF_ICF()\n",
        "  #function from the given code and obtaining the probabilities of features \n",
        "\n",
        "\n",
        "\n",
        "  training_features_prob_dict, NB_prior_proba = fit_NBTF_ICF(BBC_data_matrix_rf_icf,train_tf_icf)\n",
        "\n",
        "  #Predicting the category labels of the test set \n",
        "  #using the predict_documents() function from the given code with the obtained probabilities\n",
        "  y_pred = predict_documents( X_test, NB_prior_proba, training_features_prob_dict )\n",
        "\n",
        "  acc = accuracy_score(y_test, y_pred)\n",
        "  print(\"With Test Ratio =  {:.2f}% and Accuracy: {:.2f}%\".format(test_ratio,acc * 100))\n",
        "\n"
      ],
      "metadata": {
        "colab": {
          "base_uri": "https://localhost:8080/"
        },
        "id": "plbzWgWxx46r",
        "outputId": "e23962cd-cca8-42d5-938f-90c90c32bfd3"
      },
      "execution_count": null,
      "outputs": [
        {
          "output_type": "stream",
          "name": "stdout",
          "text": [
            "19051\n",
            "(1192, 19051)\n",
            "With Test Ratio =  0.20% and Accuracy: 96.64%\n",
            "16508\n",
            "(894, 16508)\n",
            "With Test Ratio =  0.40% and Accuracy: 97.32%\n",
            "15092\n",
            "(745, 15092)\n",
            "With Test Ratio =  0.50% and Accuracy: 96.91%\n"
          ]
        }
      ]
    },
    {
      "cell_type": "markdown",
      "source": [
        "**Try using different types of features such as n-grams or TF-IDF weights.**"
      ],
      "metadata": {
        "id": "kzYQ1-oW21vJ"
      }
    },
    {
      "cell_type": "markdown",
      "source": [
        "**Improving Classifier**"
      ],
      "metadata": {
        "id": "HhTsnF1G3a0k"
      }
    },
    {
      "cell_type": "markdown",
      "source": [
        "**Using N-grams**"
      ],
      "metadata": {
        "id": "HDmltNzG2-JU"
      }
    },
    {
      "cell_type": "code",
      "source": [
        "import pandas as pd\n",
        "from sklearn.feature_extraction.text import CountVectorizer\n",
        "\n",
        "# Initialize CountVectorizer with n-gram range from 1 to 3\n",
        "vectorizer = CountVectorizer(ngram_range=(1, 1)) \n",
        "\n",
        "# Fit and transform the text data to n-gram vectorized form\n",
        "ngram_matrix = vectorizer.fit_transform(dataset[\"Text\"])\n",
        "\n",
        "# Create a new dataframe with the n-gram matrix and article ID as index\n",
        "ngram_df = pd.DataFrame(ngram_matrix.toarray(), columns=vectorizer.get_feature_names_out())\n",
        "print(ngram_df.head(2))\n",
        "ngram_df['Category'] = dataset['Category']\n",
        "\n",
        "from sklearn.naive_bayes import MultinomialNB\n",
        "from sklearn.model_selection import train_test_split\n",
        "\n",
        "X = ngram_df.drop(['Category'],axis = 1)\n",
        "y = ngram_df['Category']\n",
        "\n",
        "X_train, X_test, y_train, y_test = train_test_split(X, y, test_size=0.30, random_state=42)\n",
        "\n",
        "\n",
        "#Fit the model\n",
        "nb=MultinomialNB()\n",
        "nb=nb.fit(X_train,y_train)\n",
        "predicted=nb.predict(X_test)\n",
        "acc = accuracy_score(y_test, predicted)\n",
        "print(\"Accuracy: {:.2f}%\".format(acc * 100))\n"
      ],
      "metadata": {
        "colab": {
          "base_uri": "https://localhost:8080/"
        },
        "id": "BoX0vej8nXej",
        "outputId": "85a30dce-2601-470b-86ec-326d7135ba8b"
      },
      "execution_count": 34,
      "outputs": [
        {
          "output_type": "stream",
          "name": "stdout",
          "text": [
            "   aa  aaa  aaas  aac  aadc  aaliyah  aaltra  aamir  aaron  abacus  ...  \\\n",
            "0   0    0     0    0     0        0       0      0      0       0  ...   \n",
            "1   0    0     0    0     0        0       0      0      0       0  ...   \n",
            "\n",
            "   zombie  zone  zonealarm  zoom  zooropa  zorro  zuluaga  zurich  zutons  \\\n",
            "0       0     0          0     0        0      0        0       0       0   \n",
            "1       0     0          0     0        0      0        0       0       0   \n",
            "\n",
            "   zvonareva  \n",
            "0          0  \n",
            "1          0  \n",
            "\n",
            "[2 rows x 21070 columns]\n",
            "Accuracy: 97.99%\n"
          ]
        }
      ]
    },
    {
      "cell_type": "code",
      "source": [
        "import pandas as pd\n",
        "from sklearn.feature_extraction.text import CountVectorizer\n",
        "\n",
        "# Initialize CountVectorizer with n-gram range from 1 to 3\n",
        "vectorizer = CountVectorizer(ngram_range=(1, 2)) \n",
        "\n",
        "# Fit and transform the text data to n-gram vectorized form\n",
        "ngram_matrix = vectorizer.fit_transform(dataset[\"Text\"])\n",
        "\n",
        "# Create a new dataframe with the n-gram matrix and article ID as index\n",
        "ngram_df = pd.DataFrame(ngram_matrix.toarray(), columns=vectorizer.get_feature_names_out())\n",
        "print(ngram_df.head(2))\n",
        "ngram_df['Category'] = dataset['Category']\n",
        "\n",
        "from sklearn.naive_bayes import MultinomialNB\n",
        "from sklearn.model_selection import train_test_split\n",
        "\n",
        "X = ngram_df.drop(['Category'],axis = 1)\n",
        "y = ngram_df['Category']\n",
        "\n",
        "X_train, X_test, y_train, y_test = train_test_split(X, y, test_size=0.30, random_state=42)\n",
        "\n",
        "\n",
        "#Fit the model\n",
        "nb=MultinomialNB()\n",
        "nb=nb.fit(X_train,y_train)\n",
        "predicted=nb.predict(X_test)\n",
        "acc = accuracy_score(y_test, predicted)\n",
        "print(\"Accuracy: {:.2f}%\".format(acc * 100))\n"
      ],
      "metadata": {
        "id": "CqAtU8Me3a0k",
        "colab": {
          "base_uri": "https://localhost:8080/"
        },
        "outputId": "0b46b17b-9a27-4f10-fb7d-7b9d2b784304"
      },
      "execution_count": 35,
      "outputs": [
        {
          "output_type": "stream",
          "name": "stdout",
          "text": [
            "   aa  aa motor  aaa  aaa championship  aaa indoor  aaa long  aaa title  aaas  \\\n",
            "0   0         0    0                 0           0         0          0     0   \n",
            "1   0         0    0                 0           0         0          0     0   \n",
            "\n",
            "   aaas american  aac  ...  zurich accord  zurich londonbased  \\\n",
            "0              0    0  ...              0                   0   \n",
            "1              0    0  ...              0                   0   \n",
            "\n",
            "   zurich premiership  zutons  zutons estelle  zvonareva  zvonareva lose  \\\n",
            "0                   0       0               0          0               0   \n",
            "1                   0       0               0          0               0   \n",
            "\n",
            "   zvonareva russia  zvonareva struggle  zvonareva wimbledon  \n",
            "0                 0                   0                    0  \n",
            "1                 0                   0                    0  \n",
            "\n",
            "[2 rows x 239470 columns]\n",
            "Accuracy: 98.21%\n"
          ]
        }
      ]
    },
    {
      "cell_type": "code",
      "source": [
        "import pandas as pd\n",
        "from sklearn.feature_extraction.text import CountVectorizer\n",
        "\n",
        "# Initialize CountVectorizer with n-gram range from 1 to 3\n",
        "vectorizer = CountVectorizer(ngram_range=(2, 2)) \n",
        "\n",
        "# Fit and transform the text data to n-gram vectorized form\n",
        "ngram_matrix = vectorizer.fit_transform(dataset[\"Text\"])\n",
        "\n",
        "# Create a new dataframe with the n-gram matrix and article ID as index\n",
        "ngram_df = pd.DataFrame(ngram_matrix.toarray(), columns=vectorizer.get_feature_names_out())\n",
        "print(ngram_df.head(2))\n",
        "ngram_df['Category'] = dataset['Category']\n",
        "\n",
        "from sklearn.naive_bayes import MultinomialNB\n",
        "from sklearn.model_selection import train_test_split\n",
        "\n",
        "X = ngram_df.drop(['Category'],axis = 1)\n",
        "y = ngram_df['Category']\n",
        "\n",
        "X_train, X_test, y_train, y_test = train_test_split(X, y, test_size=0.30, random_state=42)\n",
        "\n",
        "\n",
        "#Fit the model\n",
        "nb=MultinomialNB()\n",
        "nb=nb.fit(X_train,y_train)\n",
        "predicted=nb.predict(X_test)\n",
        "acc = accuracy_score(y_test, predicted)\n",
        "print(\"Accuracy: {:.2f}%\".format(acc * 100))\n"
      ],
      "metadata": {
        "id": "SDZ_F7413a0k",
        "colab": {
          "base_uri": "https://localhost:8080/"
        },
        "outputId": "f0e4265b-b829-4c2c-8f39-f3b25264c81f"
      },
      "execution_count": 36,
      "outputs": [
        {
          "output_type": "stream",
          "name": "stdout",
          "text": [
            "   aa motor  aaa championship  aaa indoor  aaa long  aaa title  aaas american  \\\n",
            "0         0                 0           0         0          0              0   \n",
            "1         0                 0           0         0          0              0   \n",
            "\n",
            "   aac baddeley  aac ed  aac endacott  aadc oversee  ...  zorro star  \\\n",
            "0             0       0             0             0  ...           0   \n",
            "1             0       0             0             0  ...           0   \n",
            "\n",
            "   zuluaga colombia  zurich accord  zurich londonbased  zurich premiership  \\\n",
            "0                 0              0                   0                   0   \n",
            "1                 0              0                   0                   0   \n",
            "\n",
            "   zutons estelle  zvonareva lose  zvonareva russia  zvonareva struggle  \\\n",
            "0               0               0                 0                   0   \n",
            "1               0               0                 0                   0   \n",
            "\n",
            "   zvonareva wimbledon  \n",
            "0                    0  \n",
            "1                    0  \n",
            "\n",
            "[2 rows x 218400 columns]\n",
            "Accuracy: 96.64%\n"
          ]
        }
      ]
    },
    {
      "cell_type": "markdown",
      "source": [
        "**Naive Bayes Classifier using TF-IDF Weights**"
      ],
      "metadata": {
        "id": "CRPNVN62nYOX"
      }
    },
    {
      "cell_type": "code",
      "source": [
        "from sklearn.feature_extraction.text import TfidfVectorizer\n",
        "\n",
        "vectorizer = TfidfVectorizer()\n",
        "\n",
        "X = vectorizer.fit_transform(dataset['Text'])\n",
        "\n",
        "feature_names = vectorizer.get_feature_names_out()\n",
        "\n",
        "  # Create a DataFrame with the vectorized data and the article IDs as the index\n",
        "BBC_data_matrix_tf_idf = pd.DataFrame(X.toarray(), columns = feature_names)\n",
        "\n",
        "  # Add a Category column to BBC_data_matrix and populate it with the category labels\n",
        "BBC_data_matrix_tf_idf['Category'] = dataset['Category']\n",
        "\n",
        "\n",
        "print(BBC_data_matrix_tf_idf.head(5))"
      ],
      "metadata": {
        "id": "6lVxNV09nXaK",
        "colab": {
          "base_uri": "https://localhost:8080/"
        },
        "outputId": "13cd5852-c3a1-40f3-c769-6263b8e8e3a4"
      },
      "execution_count": 35,
      "outputs": [
        {
          "output_type": "stream",
          "name": "stdout",
          "text": [
            "    aa  aaa  aaas  aac  aadc  aaliyah  aaltra  aamir  aaron  abacus  ...  \\\n",
            "0  0.0  0.0   0.0  0.0   0.0      0.0     0.0    0.0    0.0     0.0  ...   \n",
            "1  0.0  0.0   0.0  0.0   0.0      0.0     0.0    0.0    0.0     0.0  ...   \n",
            "2  0.0  0.0   0.0  0.0   0.0      0.0     0.0    0.0    0.0     0.0  ...   \n",
            "3  0.0  0.0   0.0  0.0   0.0      0.0     0.0    0.0    0.0     0.0  ...   \n",
            "4  0.0  0.0   0.0  0.0   0.0      0.0     0.0    0.0    0.0     0.0  ...   \n",
            "\n",
            "   zone  zonealarm  zoom  zooropa  zorro  zuluaga  zurich  zutons  zvonareva  \\\n",
            "0   0.0        0.0   0.0      0.0    0.0      0.0     0.0     0.0        0.0   \n",
            "1   0.0        0.0   0.0      0.0    0.0      0.0     0.0     0.0        0.0   \n",
            "2   0.0        0.0   0.0      0.0    0.0      0.0     0.0     0.0        0.0   \n",
            "3   0.0        0.0   0.0      0.0    0.0      0.0     0.0     0.0        0.0   \n",
            "4   0.0        0.0   0.0      0.0    0.0      0.0     0.0     0.0        0.0   \n",
            "\n",
            "   Category  \n",
            "0  business  \n",
            "1  business  \n",
            "2  business  \n",
            "3      tech  \n",
            "4  business  \n",
            "\n",
            "[5 rows x 21071 columns]\n"
          ]
        }
      ]
    },
    {
      "cell_type": "markdown",
      "source": [
        "**Improving Classifier**"
      ],
      "metadata": {
        "id": "AZVDHNlU3Tcw"
      }
    },
    {
      "cell_type": "code",
      "source": [
        "from sklearn.naive_bayes import MultinomialNB\n",
        "from sklearn.model_selection import train_test_split\n",
        "\n",
        "X = BBC_data_matrix_tf_idf.drop(['Category'],axis = 1)\n",
        "y = BBC_data_matrix_tf_idf['Category']\n",
        "\n",
        "X_train, X_test, y_train, y_test = train_test_split(X, y, test_size=0.30, random_state=42)\n",
        "\n",
        "\n",
        "#Fit the model\n",
        "nb=MultinomialNB()\n",
        "nb=nb.fit(X_train,y_train)"
      ],
      "metadata": {
        "id": "MeP-JPh2rv3o"
      },
      "execution_count": 40,
      "outputs": []
    },
    {
      "cell_type": "code",
      "source": [
        "predicted=nb.predict(X_test)"
      ],
      "metadata": {
        "id": "32aIKqwPnXg2"
      },
      "execution_count": 41,
      "outputs": []
    },
    {
      "cell_type": "code",
      "source": [
        "acc = accuracy_score(y_test, predicted)\n",
        "print(\"Accuracy: {:.2f}%\".format(acc * 100))"
      ],
      "metadata": {
        "colab": {
          "base_uri": "https://localhost:8080/"
        },
        "id": "ejtSePA2jW4U",
        "outputId": "9e320abf-5c24-42ad-ab4c-f6594b9d1431"
      },
      "execution_count": 42,
      "outputs": [
        {
          "output_type": "stream",
          "name": "stdout",
          "text": [
            "Accuracy: 96.87%\n"
          ]
        }
      ]
    },
    {
      "cell_type": "code",
      "source": [
        "#Classification Report\n",
        "from sklearn import metrics\n",
        "print(metrics.classification_report(y_test,predicted))"
      ],
      "metadata": {
        "id": "tmj-2duynXjo",
        "colab": {
          "base_uri": "https://localhost:8080/"
        },
        "outputId": "b841b109-41c2-452a-86d7-be116bcd39f7"
      },
      "execution_count": 43,
      "outputs": [
        {
          "output_type": "stream",
          "name": "stdout",
          "text": [
            "               precision    recall  f1-score   support\n",
            "\n",
            "     business       0.97      0.97      0.97       108\n",
            "entertainment       1.00      0.95      0.97        79\n",
            "     politics       0.94      0.97      0.95        86\n",
            "        sport       0.96      1.00      0.98       101\n",
            "         tech       0.97      0.95      0.96        73\n",
            "\n",
            "     accuracy                           0.97       447\n",
            "    macro avg       0.97      0.97      0.97       447\n",
            " weighted avg       0.97      0.97      0.97       447\n",
            "\n"
          ]
        }
      ]
    },
    {
      "cell_type": "code",
      "source": [
        "from google.colab import drive\n",
        "drive.mount('/content/drive')"
      ],
      "metadata": {
        "colab": {
          "base_uri": "https://localhost:8080/"
        },
        "id": "VZPOFcfVoiOJ",
        "outputId": "cf736bcc-ccb4-4744-9eb9-ba1fac23d8e3"
      },
      "execution_count": 62,
      "outputs": [
        {
          "output_type": "stream",
          "name": "stdout",
          "text": [
            "Mounted at /content/drive\n"
          ]
        }
      ]
    },
    {
      "cell_type": "code",
      "source": [
        "from sklearn.naive_bayes import MultinomialNB\n",
        "from sklearn.model_selection import train_test_split\n",
        "\n",
        "  \n",
        "# X = dataset.drop(['Category','categoryId'],axis = 1)\n",
        "# y = dataset['Category']\n",
        "\n",
        "# #Splitting the dataset into training and testing sets\n",
        "# X_train, X_test, y_train, y_test = train_test_split(X, y, test_size=0.30,random_state = 42)\n",
        "\n",
        "# train_data = X_train\n",
        "# train_data['Category'] = y_train\n",
        "\n",
        "# Creating a TF-ICF\n",
        "# #weighted term frequency (TF) matrix using the make_tf_icf() function \n",
        "# train_tf_icf = make_tf_icf(train_data)\n",
        "\n",
        "# #Building a document-term matrix (DTM) using the build_BBC_matrix() function \n",
        "# BBC_data_matrix = build_BBC_matrix(train_data)\n",
        "\n",
        "# #Building a TF-ICF weighted DTM using the build_tf_icf_matrix() function \n",
        "# BBC_data_matrix_rf_icf = build_tf_icf_matrix(BBC_data_matrix,train_tf_icf)\n",
        "\n",
        "import pickle\n",
        "dbfile = open('/content/drive/MyDrive/BBC_TF_ICF.pkl', 'rb')     \n",
        "BBC_matrix_tf_icf = pickle.load(dbfile)\n",
        "\n",
        "X = BBC_matrix_tf_icf.drop(['Category'],axis = 1)\n",
        "y = BBC_matrix_tf_icf['Category']\n",
        "\n",
        "#Splitting the dataset into training and testing sets\n",
        "X_train, X_test, y_train, y_test = train_test_split(X, y, test_size=0.30,random_state = 42)\n",
        "\n",
        "\n",
        "#Predicting the category labels of the test set \n",
        "\n",
        "#Fit the model\n",
        "nb=MultinomialNB()\n",
        "nb=nb.fit(X_train,y_train)"
      ],
      "metadata": {
        "id": "Xq0Psf0dsvAH"
      },
      "execution_count": 74,
      "outputs": []
    },
    {
      "cell_type": "code",
      "source": [
        "predicted=nb.predict(X_test)"
      ],
      "metadata": {
        "id": "jEPIDHiBqF2R"
      },
      "execution_count": 75,
      "outputs": []
    },
    {
      "cell_type": "code",
      "source": [
        "acc = accuracy_score(y_test, predicted)\n",
        "print(\"Accuracy: {:.2f}%\".format(acc * 100))"
      ],
      "metadata": {
        "colab": {
          "base_uri": "https://localhost:8080/"
        },
        "outputId": "eb3dcc5d-a04c-4ba4-82c4-1a5ac182847d",
        "id": "ZE_76vnQqF2R"
      },
      "execution_count": 76,
      "outputs": [
        {
          "output_type": "stream",
          "name": "stdout",
          "text": [
            "Accuracy: 99.68%\n"
          ]
        }
      ]
    },
    {
      "cell_type": "code",
      "source": [],
      "metadata": {
        "id": "VZBg5DnUPqO6"
      },
      "execution_count": null,
      "outputs": []
    }
  ]
}