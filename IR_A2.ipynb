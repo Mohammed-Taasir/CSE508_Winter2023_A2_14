{
  "nbformat": 4,
  "nbformat_minor": 0,
  "metadata": {
    "colab": {
      "provenance": []
    },
    "kernelspec": {
      "name": "python3",
      "display_name": "Python 3"
    },
    "language_info": {
      "name": "python"
    }
  },
  "cells": [
    {
      "cell_type": "code",
      "execution_count": null,
      "metadata": {
        "id": "nmfo6qEpQimI"
      },
      "outputs": [],
      "source": [
        "import numpy as np\n",
        "import pandas as pd\n",
        "import matplotlib.pyplot as plt\n",
        "import seaborn as sns\n",
        "import re\n",
        "import nltk\n",
        "import spacy\n",
        "import string\n",
        "from sklearn.model_selection import train_test_split\n",
        "\n",
        "import time\n",
        "from collections import Counter\n",
        "\n",
        "from sklearn.feature_extraction.text import TfidfVectorizer,CountVectorizer\n",
        "from sklearn.feature_selection import chi2\n",
        "from sklearn.linear_model import LogisticRegression\n",
        "from sklearn.tree import DecisionTreeClassifier\n",
        "from sklearn.ensemble import RandomForestClassifier\n",
        "from sklearn.svm import LinearSVC\n",
        "from sklearn.model_selection import cross_val_score\n",
        "from sklearn.metrics import accuracy_score\n",
        "\n",
        "from scipy import sparse\n",
        "import warnings\n",
        "warnings.filterwarnings(\"ignore\")"
      ]
    },
    {
      "cell_type": "markdown",
      "source": [
        "# **Load the Dataset**"
      ],
      "metadata": {
        "id": "6UcEKZBvSHce"
      }
    },
    {
      "cell_type": "code",
      "source": [
        "dataset = pd.read_csv('BBC News Train.csv')\n",
        "# test_set = pd.read_csv(\"BBC News Test.csv\")"
      ],
      "metadata": {
        "id": "-6NCQZPrRUMP"
      },
      "execution_count": null,
      "outputs": []
    },
    {
      "cell_type": "code",
      "source": [
        "dataset.head(5)"
      ],
      "metadata": {
        "id": "VraFzEGaRUOg",
        "colab": {
          "base_uri": "https://localhost:8080/",
          "height": 206
        },
        "outputId": "b095cad5-0885-459a-fcf4-a9e039ec4f8a"
      },
      "execution_count": null,
      "outputs": [
        {
          "output_type": "execute_result",
          "data": {
            "text/plain": [
              "   ArticleId                                               Text  Category\n",
              "0       1833  worldcom ex-boss launches defence lawyers defe...  business\n",
              "1        154  german business confidence slides german busin...  business\n",
              "2       1101  bbc poll indicates economic gloom citizens in ...  business\n",
              "3       1976  lifestyle  governs mobile choice  faster  bett...      tech\n",
              "4        917  enron bosses in $168m payout eighteen former e...  business"
            ],
            "text/html": [
              "\n",
              "  <div id=\"df-ddebaccf-f5a7-4a60-884c-5341a06c5a73\">\n",
              "    <div class=\"colab-df-container\">\n",
              "      <div>\n",
              "<style scoped>\n",
              "    .dataframe tbody tr th:only-of-type {\n",
              "        vertical-align: middle;\n",
              "    }\n",
              "\n",
              "    .dataframe tbody tr th {\n",
              "        vertical-align: top;\n",
              "    }\n",
              "\n",
              "    .dataframe thead th {\n",
              "        text-align: right;\n",
              "    }\n",
              "</style>\n",
              "<table border=\"1\" class=\"dataframe\">\n",
              "  <thead>\n",
              "    <tr style=\"text-align: right;\">\n",
              "      <th></th>\n",
              "      <th>ArticleId</th>\n",
              "      <th>Text</th>\n",
              "      <th>Category</th>\n",
              "    </tr>\n",
              "  </thead>\n",
              "  <tbody>\n",
              "    <tr>\n",
              "      <th>0</th>\n",
              "      <td>1833</td>\n",
              "      <td>worldcom ex-boss launches defence lawyers defe...</td>\n",
              "      <td>business</td>\n",
              "    </tr>\n",
              "    <tr>\n",
              "      <th>1</th>\n",
              "      <td>154</td>\n",
              "      <td>german business confidence slides german busin...</td>\n",
              "      <td>business</td>\n",
              "    </tr>\n",
              "    <tr>\n",
              "      <th>2</th>\n",
              "      <td>1101</td>\n",
              "      <td>bbc poll indicates economic gloom citizens in ...</td>\n",
              "      <td>business</td>\n",
              "    </tr>\n",
              "    <tr>\n",
              "      <th>3</th>\n",
              "      <td>1976</td>\n",
              "      <td>lifestyle  governs mobile choice  faster  bett...</td>\n",
              "      <td>tech</td>\n",
              "    </tr>\n",
              "    <tr>\n",
              "      <th>4</th>\n",
              "      <td>917</td>\n",
              "      <td>enron bosses in $168m payout eighteen former e...</td>\n",
              "      <td>business</td>\n",
              "    </tr>\n",
              "  </tbody>\n",
              "</table>\n",
              "</div>\n",
              "      <button class=\"colab-df-convert\" onclick=\"convertToInteractive('df-ddebaccf-f5a7-4a60-884c-5341a06c5a73')\"\n",
              "              title=\"Convert this dataframe to an interactive table.\"\n",
              "              style=\"display:none;\">\n",
              "        \n",
              "  <svg xmlns=\"http://www.w3.org/2000/svg\" height=\"24px\"viewBox=\"0 0 24 24\"\n",
              "       width=\"24px\">\n",
              "    <path d=\"M0 0h24v24H0V0z\" fill=\"none\"/>\n",
              "    <path d=\"M18.56 5.44l.94 2.06.94-2.06 2.06-.94-2.06-.94-.94-2.06-.94 2.06-2.06.94zm-11 1L8.5 8.5l.94-2.06 2.06-.94-2.06-.94L8.5 2.5l-.94 2.06-2.06.94zm10 10l.94 2.06.94-2.06 2.06-.94-2.06-.94-.94-2.06-.94 2.06-2.06.94z\"/><path d=\"M17.41 7.96l-1.37-1.37c-.4-.4-.92-.59-1.43-.59-.52 0-1.04.2-1.43.59L10.3 9.45l-7.72 7.72c-.78.78-.78 2.05 0 2.83L4 21.41c.39.39.9.59 1.41.59.51 0 1.02-.2 1.41-.59l7.78-7.78 2.81-2.81c.8-.78.8-2.07 0-2.86zM5.41 20L4 18.59l7.72-7.72 1.47 1.35L5.41 20z\"/>\n",
              "  </svg>\n",
              "      </button>\n",
              "      \n",
              "  <style>\n",
              "    .colab-df-container {\n",
              "      display:flex;\n",
              "      flex-wrap:wrap;\n",
              "      gap: 12px;\n",
              "    }\n",
              "\n",
              "    .colab-df-convert {\n",
              "      background-color: #E8F0FE;\n",
              "      border: none;\n",
              "      border-radius: 50%;\n",
              "      cursor: pointer;\n",
              "      display: none;\n",
              "      fill: #1967D2;\n",
              "      height: 32px;\n",
              "      padding: 0 0 0 0;\n",
              "      width: 32px;\n",
              "    }\n",
              "\n",
              "    .colab-df-convert:hover {\n",
              "      background-color: #E2EBFA;\n",
              "      box-shadow: 0px 1px 2px rgba(60, 64, 67, 0.3), 0px 1px 3px 1px rgba(60, 64, 67, 0.15);\n",
              "      fill: #174EA6;\n",
              "    }\n",
              "\n",
              "    [theme=dark] .colab-df-convert {\n",
              "      background-color: #3B4455;\n",
              "      fill: #D2E3FC;\n",
              "    }\n",
              "\n",
              "    [theme=dark] .colab-df-convert:hover {\n",
              "      background-color: #434B5C;\n",
              "      box-shadow: 0px 1px 3px 1px rgba(0, 0, 0, 0.15);\n",
              "      filter: drop-shadow(0px 1px 2px rgba(0, 0, 0, 0.3));\n",
              "      fill: #FFFFFF;\n",
              "    }\n",
              "  </style>\n",
              "\n",
              "      <script>\n",
              "        const buttonEl =\n",
              "          document.querySelector('#df-ddebaccf-f5a7-4a60-884c-5341a06c5a73 button.colab-df-convert');\n",
              "        buttonEl.style.display =\n",
              "          google.colab.kernel.accessAllowed ? 'block' : 'none';\n",
              "\n",
              "        async function convertToInteractive(key) {\n",
              "          const element = document.querySelector('#df-ddebaccf-f5a7-4a60-884c-5341a06c5a73');\n",
              "          const dataTable =\n",
              "            await google.colab.kernel.invokeFunction('convertToInteractive',\n",
              "                                                     [key], {});\n",
              "          if (!dataTable) return;\n",
              "\n",
              "          const docLinkHtml = 'Like what you see? Visit the ' +\n",
              "            '<a target=\"_blank\" href=https://colab.research.google.com/notebooks/data_table.ipynb>data table notebook</a>'\n",
              "            + ' to learn more about interactive tables.';\n",
              "          element.innerHTML = '';\n",
              "          dataTable['output_type'] = 'display_data';\n",
              "          await google.colab.output.renderOutput(dataTable, element);\n",
              "          const docLink = document.createElement('div');\n",
              "          docLink.innerHTML = docLinkHtml;\n",
              "          element.appendChild(docLink);\n",
              "        }\n",
              "      </script>\n",
              "    </div>\n",
              "  </div>\n",
              "  "
            ]
          },
          "metadata": {},
          "execution_count": 124
        }
      ]
    },
    {
      "cell_type": "code",
      "source": [
        "target_category = dataset['Category'].unique()\n",
        "print(target_category)"
      ],
      "metadata": {
        "id": "6W_x38iDSCbK",
        "colab": {
          "base_uri": "https://localhost:8080/"
        },
        "outputId": "0ca4b169-7400-4a62-b155-7a91957a3579"
      },
      "execution_count": null,
      "outputs": [
        {
          "output_type": "stream",
          "name": "stdout",
          "text": [
            "['business' 'tech' 'politics' 'sport' 'entertainment']\n"
          ]
        }
      ]
    },
    {
      "cell_type": "code",
      "source": [
        "dataset['categoryId'] = dataset['Category'].factorize()[0]\n",
        "dataset.head()"
      ],
      "metadata": {
        "id": "ED2TavlXUKgn",
        "colab": {
          "base_uri": "https://localhost:8080/",
          "height": 206
        },
        "outputId": "0cc9d764-7550-448d-8af8-28f01f1c8b6c"
      },
      "execution_count": null,
      "outputs": [
        {
          "output_type": "execute_result",
          "data": {
            "text/plain": [
              "   ArticleId                                               Text  Category  \\\n",
              "0       1833  worldcom ex-boss launches defence lawyers defe...  business   \n",
              "1        154  german business confidence slides german busin...  business   \n",
              "2       1101  bbc poll indicates economic gloom citizens in ...  business   \n",
              "3       1976  lifestyle  governs mobile choice  faster  bett...      tech   \n",
              "4        917  enron bosses in $168m payout eighteen former e...  business   \n",
              "\n",
              "   categoryId  \n",
              "0           0  \n",
              "1           0  \n",
              "2           0  \n",
              "3           1  \n",
              "4           0  "
            ],
            "text/html": [
              "\n",
              "  <div id=\"df-6ad9bd40-4f17-4a23-bd39-4abcbd49ebc6\">\n",
              "    <div class=\"colab-df-container\">\n",
              "      <div>\n",
              "<style scoped>\n",
              "    .dataframe tbody tr th:only-of-type {\n",
              "        vertical-align: middle;\n",
              "    }\n",
              "\n",
              "    .dataframe tbody tr th {\n",
              "        vertical-align: top;\n",
              "    }\n",
              "\n",
              "    .dataframe thead th {\n",
              "        text-align: right;\n",
              "    }\n",
              "</style>\n",
              "<table border=\"1\" class=\"dataframe\">\n",
              "  <thead>\n",
              "    <tr style=\"text-align: right;\">\n",
              "      <th></th>\n",
              "      <th>ArticleId</th>\n",
              "      <th>Text</th>\n",
              "      <th>Category</th>\n",
              "      <th>categoryId</th>\n",
              "    </tr>\n",
              "  </thead>\n",
              "  <tbody>\n",
              "    <tr>\n",
              "      <th>0</th>\n",
              "      <td>1833</td>\n",
              "      <td>worldcom ex-boss launches defence lawyers defe...</td>\n",
              "      <td>business</td>\n",
              "      <td>0</td>\n",
              "    </tr>\n",
              "    <tr>\n",
              "      <th>1</th>\n",
              "      <td>154</td>\n",
              "      <td>german business confidence slides german busin...</td>\n",
              "      <td>business</td>\n",
              "      <td>0</td>\n",
              "    </tr>\n",
              "    <tr>\n",
              "      <th>2</th>\n",
              "      <td>1101</td>\n",
              "      <td>bbc poll indicates economic gloom citizens in ...</td>\n",
              "      <td>business</td>\n",
              "      <td>0</td>\n",
              "    </tr>\n",
              "    <tr>\n",
              "      <th>3</th>\n",
              "      <td>1976</td>\n",
              "      <td>lifestyle  governs mobile choice  faster  bett...</td>\n",
              "      <td>tech</td>\n",
              "      <td>1</td>\n",
              "    </tr>\n",
              "    <tr>\n",
              "      <th>4</th>\n",
              "      <td>917</td>\n",
              "      <td>enron bosses in $168m payout eighteen former e...</td>\n",
              "      <td>business</td>\n",
              "      <td>0</td>\n",
              "    </tr>\n",
              "  </tbody>\n",
              "</table>\n",
              "</div>\n",
              "      <button class=\"colab-df-convert\" onclick=\"convertToInteractive('df-6ad9bd40-4f17-4a23-bd39-4abcbd49ebc6')\"\n",
              "              title=\"Convert this dataframe to an interactive table.\"\n",
              "              style=\"display:none;\">\n",
              "        \n",
              "  <svg xmlns=\"http://www.w3.org/2000/svg\" height=\"24px\"viewBox=\"0 0 24 24\"\n",
              "       width=\"24px\">\n",
              "    <path d=\"M0 0h24v24H0V0z\" fill=\"none\"/>\n",
              "    <path d=\"M18.56 5.44l.94 2.06.94-2.06 2.06-.94-2.06-.94-.94-2.06-.94 2.06-2.06.94zm-11 1L8.5 8.5l.94-2.06 2.06-.94-2.06-.94L8.5 2.5l-.94 2.06-2.06.94zm10 10l.94 2.06.94-2.06 2.06-.94-2.06-.94-.94-2.06-.94 2.06-2.06.94z\"/><path d=\"M17.41 7.96l-1.37-1.37c-.4-.4-.92-.59-1.43-.59-.52 0-1.04.2-1.43.59L10.3 9.45l-7.72 7.72c-.78.78-.78 2.05 0 2.83L4 21.41c.39.39.9.59 1.41.59.51 0 1.02-.2 1.41-.59l7.78-7.78 2.81-2.81c.8-.78.8-2.07 0-2.86zM5.41 20L4 18.59l7.72-7.72 1.47 1.35L5.41 20z\"/>\n",
              "  </svg>\n",
              "      </button>\n",
              "      \n",
              "  <style>\n",
              "    .colab-df-container {\n",
              "      display:flex;\n",
              "      flex-wrap:wrap;\n",
              "      gap: 12px;\n",
              "    }\n",
              "\n",
              "    .colab-df-convert {\n",
              "      background-color: #E8F0FE;\n",
              "      border: none;\n",
              "      border-radius: 50%;\n",
              "      cursor: pointer;\n",
              "      display: none;\n",
              "      fill: #1967D2;\n",
              "      height: 32px;\n",
              "      padding: 0 0 0 0;\n",
              "      width: 32px;\n",
              "    }\n",
              "\n",
              "    .colab-df-convert:hover {\n",
              "      background-color: #E2EBFA;\n",
              "      box-shadow: 0px 1px 2px rgba(60, 64, 67, 0.3), 0px 1px 3px 1px rgba(60, 64, 67, 0.15);\n",
              "      fill: #174EA6;\n",
              "    }\n",
              "\n",
              "    [theme=dark] .colab-df-convert {\n",
              "      background-color: #3B4455;\n",
              "      fill: #D2E3FC;\n",
              "    }\n",
              "\n",
              "    [theme=dark] .colab-df-convert:hover {\n",
              "      background-color: #434B5C;\n",
              "      box-shadow: 0px 1px 3px 1px rgba(0, 0, 0, 0.15);\n",
              "      filter: drop-shadow(0px 1px 2px rgba(0, 0, 0, 0.3));\n",
              "      fill: #FFFFFF;\n",
              "    }\n",
              "  </style>\n",
              "\n",
              "      <script>\n",
              "        const buttonEl =\n",
              "          document.querySelector('#df-6ad9bd40-4f17-4a23-bd39-4abcbd49ebc6 button.colab-df-convert');\n",
              "        buttonEl.style.display =\n",
              "          google.colab.kernel.accessAllowed ? 'block' : 'none';\n",
              "\n",
              "        async function convertToInteractive(key) {\n",
              "          const element = document.querySelector('#df-6ad9bd40-4f17-4a23-bd39-4abcbd49ebc6');\n",
              "          const dataTable =\n",
              "            await google.colab.kernel.invokeFunction('convertToInteractive',\n",
              "                                                     [key], {});\n",
              "          if (!dataTable) return;\n",
              "\n",
              "          const docLinkHtml = 'Like what you see? Visit the ' +\n",
              "            '<a target=\"_blank\" href=https://colab.research.google.com/notebooks/data_table.ipynb>data table notebook</a>'\n",
              "            + ' to learn more about interactive tables.';\n",
              "          element.innerHTML = '';\n",
              "          dataTable['output_type'] = 'display_data';\n",
              "          await google.colab.output.renderOutput(dataTable, element);\n",
              "          const docLink = document.createElement('div');\n",
              "          docLink.innerHTML = docLinkHtml;\n",
              "          element.appendChild(docLink);\n",
              "        }\n",
              "      </script>\n",
              "    </div>\n",
              "  </div>\n",
              "  "
            ]
          },
          "metadata": {},
          "execution_count": 126
        }
      ]
    },
    {
      "cell_type": "markdown",
      "source": [
        "**Class labels**"
      ],
      "metadata": {
        "id": "XRU6q6FvUQAA"
      }
    },
    {
      "cell_type": "code",
      "source": [
        "category = dataset[[\"Category\",\"categoryId\"]].drop_duplicates().sort_values('categoryId')\n",
        "category"
      ],
      "metadata": {
        "id": "zCcltF3zUKkh",
        "colab": {
          "base_uri": "https://localhost:8080/",
          "height": 206
        },
        "outputId": "495a22d2-d726-41d7-f155-20f255784c36"
      },
      "execution_count": null,
      "outputs": [
        {
          "output_type": "execute_result",
          "data": {
            "text/plain": [
              "        Category  categoryId\n",
              "0       business           0\n",
              "3           tech           1\n",
              "5       politics           2\n",
              "6          sport           3\n",
              "7  entertainment           4"
            ],
            "text/html": [
              "\n",
              "  <div id=\"df-14ba1d75-735e-4789-8570-a55938f9bff8\">\n",
              "    <div class=\"colab-df-container\">\n",
              "      <div>\n",
              "<style scoped>\n",
              "    .dataframe tbody tr th:only-of-type {\n",
              "        vertical-align: middle;\n",
              "    }\n",
              "\n",
              "    .dataframe tbody tr th {\n",
              "        vertical-align: top;\n",
              "    }\n",
              "\n",
              "    .dataframe thead th {\n",
              "        text-align: right;\n",
              "    }\n",
              "</style>\n",
              "<table border=\"1\" class=\"dataframe\">\n",
              "  <thead>\n",
              "    <tr style=\"text-align: right;\">\n",
              "      <th></th>\n",
              "      <th>Category</th>\n",
              "      <th>categoryId</th>\n",
              "    </tr>\n",
              "  </thead>\n",
              "  <tbody>\n",
              "    <tr>\n",
              "      <th>0</th>\n",
              "      <td>business</td>\n",
              "      <td>0</td>\n",
              "    </tr>\n",
              "    <tr>\n",
              "      <th>3</th>\n",
              "      <td>tech</td>\n",
              "      <td>1</td>\n",
              "    </tr>\n",
              "    <tr>\n",
              "      <th>5</th>\n",
              "      <td>politics</td>\n",
              "      <td>2</td>\n",
              "    </tr>\n",
              "    <tr>\n",
              "      <th>6</th>\n",
              "      <td>sport</td>\n",
              "      <td>3</td>\n",
              "    </tr>\n",
              "    <tr>\n",
              "      <th>7</th>\n",
              "      <td>entertainment</td>\n",
              "      <td>4</td>\n",
              "    </tr>\n",
              "  </tbody>\n",
              "</table>\n",
              "</div>\n",
              "      <button class=\"colab-df-convert\" onclick=\"convertToInteractive('df-14ba1d75-735e-4789-8570-a55938f9bff8')\"\n",
              "              title=\"Convert this dataframe to an interactive table.\"\n",
              "              style=\"display:none;\">\n",
              "        \n",
              "  <svg xmlns=\"http://www.w3.org/2000/svg\" height=\"24px\"viewBox=\"0 0 24 24\"\n",
              "       width=\"24px\">\n",
              "    <path d=\"M0 0h24v24H0V0z\" fill=\"none\"/>\n",
              "    <path d=\"M18.56 5.44l.94 2.06.94-2.06 2.06-.94-2.06-.94-.94-2.06-.94 2.06-2.06.94zm-11 1L8.5 8.5l.94-2.06 2.06-.94-2.06-.94L8.5 2.5l-.94 2.06-2.06.94zm10 10l.94 2.06.94-2.06 2.06-.94-2.06-.94-.94-2.06-.94 2.06-2.06.94z\"/><path d=\"M17.41 7.96l-1.37-1.37c-.4-.4-.92-.59-1.43-.59-.52 0-1.04.2-1.43.59L10.3 9.45l-7.72 7.72c-.78.78-.78 2.05 0 2.83L4 21.41c.39.39.9.59 1.41.59.51 0 1.02-.2 1.41-.59l7.78-7.78 2.81-2.81c.8-.78.8-2.07 0-2.86zM5.41 20L4 18.59l7.72-7.72 1.47 1.35L5.41 20z\"/>\n",
              "  </svg>\n",
              "      </button>\n",
              "      \n",
              "  <style>\n",
              "    .colab-df-container {\n",
              "      display:flex;\n",
              "      flex-wrap:wrap;\n",
              "      gap: 12px;\n",
              "    }\n",
              "\n",
              "    .colab-df-convert {\n",
              "      background-color: #E8F0FE;\n",
              "      border: none;\n",
              "      border-radius: 50%;\n",
              "      cursor: pointer;\n",
              "      display: none;\n",
              "      fill: #1967D2;\n",
              "      height: 32px;\n",
              "      padding: 0 0 0 0;\n",
              "      width: 32px;\n",
              "    }\n",
              "\n",
              "    .colab-df-convert:hover {\n",
              "      background-color: #E2EBFA;\n",
              "      box-shadow: 0px 1px 2px rgba(60, 64, 67, 0.3), 0px 1px 3px 1px rgba(60, 64, 67, 0.15);\n",
              "      fill: #174EA6;\n",
              "    }\n",
              "\n",
              "    [theme=dark] .colab-df-convert {\n",
              "      background-color: #3B4455;\n",
              "      fill: #D2E3FC;\n",
              "    }\n",
              "\n",
              "    [theme=dark] .colab-df-convert:hover {\n",
              "      background-color: #434B5C;\n",
              "      box-shadow: 0px 1px 3px 1px rgba(0, 0, 0, 0.15);\n",
              "      filter: drop-shadow(0px 1px 2px rgba(0, 0, 0, 0.3));\n",
              "      fill: #FFFFFF;\n",
              "    }\n",
              "  </style>\n",
              "\n",
              "      <script>\n",
              "        const buttonEl =\n",
              "          document.querySelector('#df-14ba1d75-735e-4789-8570-a55938f9bff8 button.colab-df-convert');\n",
              "        buttonEl.style.display =\n",
              "          google.colab.kernel.accessAllowed ? 'block' : 'none';\n",
              "\n",
              "        async function convertToInteractive(key) {\n",
              "          const element = document.querySelector('#df-14ba1d75-735e-4789-8570-a55938f9bff8');\n",
              "          const dataTable =\n",
              "            await google.colab.kernel.invokeFunction('convertToInteractive',\n",
              "                                                     [key], {});\n",
              "          if (!dataTable) return;\n",
              "\n",
              "          const docLinkHtml = 'Like what you see? Visit the ' +\n",
              "            '<a target=\"_blank\" href=https://colab.research.google.com/notebooks/data_table.ipynb>data table notebook</a>'\n",
              "            + ' to learn more about interactive tables.';\n",
              "          element.innerHTML = '';\n",
              "          dataTable['output_type'] = 'display_data';\n",
              "          await google.colab.output.renderOutput(dataTable, element);\n",
              "          const docLink = document.createElement('div');\n",
              "          docLink.innerHTML = docLinkHtml;\n",
              "          element.appendChild(docLink);\n",
              "        }\n",
              "      </script>\n",
              "    </div>\n",
              "  </div>\n",
              "  "
            ]
          },
          "metadata": {},
          "execution_count": 127
        }
      ]
    },
    {
      "cell_type": "markdown",
      "source": [
        "**Class Distribution**"
      ],
      "metadata": {
        "id": "bNhVVjK_UXOx"
      }
    },
    {
      "cell_type": "code",
      "source": [
        "dataset.groupby('Category').categoryId.count()"
      ],
      "metadata": {
        "id": "je11GiZzUW6v",
        "colab": {
          "base_uri": "https://localhost:8080/"
        },
        "outputId": "f0fc3239-559c-4806-9d41-ac7b908a2f61"
      },
      "execution_count": null,
      "outputs": [
        {
          "output_type": "execute_result",
          "data": {
            "text/plain": [
              "Category\n",
              "business         336\n",
              "entertainment    273\n",
              "politics         274\n",
              "sport            346\n",
              "tech             261\n",
              "Name: categoryId, dtype: int64"
            ]
          },
          "metadata": {},
          "execution_count": 128
        }
      ]
    },
    {
      "cell_type": "markdown",
      "source": [
        "**Data Visualization**"
      ],
      "metadata": {
        "id": "51Z9KhCiaV7Q"
      }
    },
    {
      "cell_type": "code",
      "source": [
        "dataset.groupby('Category').categoryId.count().plot.bar(ylim=0)"
      ],
      "metadata": {
        "id": "rDIrmAfLUKm4",
        "colab": {
          "base_uri": "https://localhost:8080/",
          "height": 358
        },
        "outputId": "9062918b-1453-4e79-c90f-369070475a0b"
      },
      "execution_count": null,
      "outputs": [
        {
          "output_type": "execute_result",
          "data": {
            "text/plain": [
              "<Axes: xlabel='Category'>"
            ]
          },
          "metadata": {},
          "execution_count": 129
        },
        {
          "output_type": "display_data",
          "data": {
            "text/plain": [
              "<Figure size 432x288 with 1 Axes>"
            ],
            "image/png": "[encoded data removed]"
          },
          "metadata": {
            "needs_background": "light"
          }
        }
      ]
    },
    {
      "cell_type": "markdown",
      "source": [
        "**We have confirmed 5 categories for our news articles: business, tech, politics, sport, and entertainment.we can see that our data is roughly balanced.**"
      ],
      "metadata": {
        "id": "yeFknQZqjsaO"
      }
    },
    {
      "cell_type": "markdown",
      "source": [
        "# **Data Preprocessing**"
      ],
      "metadata": {
        "id": "LY3Wf903jUgv"
      }
    },
    {
      "cell_type": "markdown",
      "source": [
        "**i)Clean the text by removing punctuation, stop words, and converting all text to\n",
        "lowercase.**"
      ],
      "metadata": {
        "id": "C397QpyKjaWG"
      }
    },
    {
      "cell_type": "markdown",
      "source": [
        "**1)Lower Casing**"
      ],
      "metadata": {
        "id": "LnRKs4pTkJ6N"
      }
    },
    {
      "cell_type": "markdown",
      "source": [
        "*Lower casing is a common text preprocessing technique. The idea is to convert the input text into same casing format so that 'text', 'Text' and 'TEXT' are treated the same way.*"
      ],
      "metadata": {
        "id": "PXAv6SVjkOX3"
      }
    },
    {
      "cell_type": "code",
      "source": [
        "dataset[\"Text\"] = dataset[\"Text\"].str.lower()\n",
        "dataset.head()"
      ],
      "metadata": {
        "id": "LZ8i-CgIkJSB",
        "colab": {
          "base_uri": "https://localhost:8080/",
          "height": 206
        },
        "outputId": "5e8496ec-9a68-4606-83cf-3852c30daa7d"
      },
      "execution_count": null,
      "outputs": [
        {
          "output_type": "execute_result",
          "data": {
            "text/plain": [
              "   ArticleId                                               Text  Category  \\\n",
              "0       1833  worldcom ex-boss launches defence lawyers defe...  business   \n",
              "1        154  german business confidence slides german busin...  business   \n",
              "2       1101  bbc poll indicates economic gloom citizens in ...  business   \n",
              "3       1976  lifestyle  governs mobile choice  faster  bett...      tech   \n",
              "4        917  enron bosses in $168m payout eighteen former e...  business   \n",
              "\n",
              "   categoryId  \n",
              "0           0  \n",
              "1           0  \n",
              "2           0  \n",
              "3           1  \n",
              "4           0  "
            ],
            "text/html": [
              "\n",
              "  <div id=\"df-d432186e-eeab-4765-a3c7-633910da7297\">\n",
              "    <div class=\"colab-df-container\">\n",
              "      <div>\n",
              "<style scoped>\n",
              "    .dataframe tbody tr th:only-of-type {\n",
              "        vertical-align: middle;\n",
              "    }\n",
              "\n",
              "    .dataframe tbody tr th {\n",
              "        vertical-align: top;\n",
              "    }\n",
              "\n",
              "    .dataframe thead th {\n",
              "        text-align: right;\n",
              "    }\n",
              "</style>\n",
              "<table border=\"1\" class=\"dataframe\">\n",
              "  <thead>\n",
              "    <tr style=\"text-align: right;\">\n",
              "      <th></th>\n",
              "      <th>ArticleId</th>\n",
              "      <th>Text</th>\n",
              "      <th>Category</th>\n",
              "      <th>categoryId</th>\n",
              "    </tr>\n",
              "  </thead>\n",
              "  <tbody>\n",
              "    <tr>\n",
              "      <th>0</th>\n",
              "      <td>1833</td>\n",
              "      <td>worldcom ex-boss launches defence lawyers defe...</td>\n",
              "      <td>business</td>\n",
              "      <td>0</td>\n",
              "    </tr>\n",
              "    <tr>\n",
              "      <th>1</th>\n",
              "      <td>154</td>\n",
              "      <td>german business confidence slides german busin...</td>\n",
              "      <td>business</td>\n",
              "      <td>0</td>\n",
              "    </tr>\n",
              "    <tr>\n",
              "      <th>2</th>\n",
              "      <td>1101</td>\n",
              "      <td>bbc poll indicates economic gloom citizens in ...</td>\n",
              "      <td>business</td>\n",
              "      <td>0</td>\n",
              "    </tr>\n",
              "    <tr>\n",
              "      <th>3</th>\n",
              "      <td>1976</td>\n",
              "      <td>lifestyle  governs mobile choice  faster  bett...</td>\n",
              "      <td>tech</td>\n",
              "      <td>1</td>\n",
              "    </tr>\n",
              "    <tr>\n",
              "      <th>4</th>\n",
              "      <td>917</td>\n",
              "      <td>enron bosses in $168m payout eighteen former e...</td>\n",
              "      <td>business</td>\n",
              "      <td>0</td>\n",
              "    </tr>\n",
              "  </tbody>\n",
              "</table>\n",
              "</div>\n",
              "      <button class=\"colab-df-convert\" onclick=\"convertToInteractive('df-d432186e-eeab-4765-a3c7-633910da7297')\"\n",
              "              title=\"Convert this dataframe to an interactive table.\"\n",
              "              style=\"display:none;\">\n",
              "        \n",
              "  <svg xmlns=\"http://www.w3.org/2000/svg\" height=\"24px\"viewBox=\"0 0 24 24\"\n",
              "       width=\"24px\">\n",
              "    <path d=\"M0 0h24v24H0V0z\" fill=\"none\"/>\n",
              "    <path d=\"M18.56 5.44l.94 2.06.94-2.06 2.06-.94-2.06-.94-.94-2.06-.94 2.06-2.06.94zm-11 1L8.5 8.5l.94-2.06 2.06-.94-2.06-.94L8.5 2.5l-.94 2.06-2.06.94zm10 10l.94 2.06.94-2.06 2.06-.94-2.06-.94-.94-2.06-.94 2.06-2.06.94z\"/><path d=\"M17.41 7.96l-1.37-1.37c-.4-.4-.92-.59-1.43-.59-.52 0-1.04.2-1.43.59L10.3 9.45l-7.72 7.72c-.78.78-.78 2.05 0 2.83L4 21.41c.39.39.9.59 1.41.59.51 0 1.02-.2 1.41-.59l7.78-7.78 2.81-2.81c.8-.78.8-2.07 0-2.86zM5.41 20L4 18.59l7.72-7.72 1.47 1.35L5.41 20z\"/>\n",
              "  </svg>\n",
              "      </button>\n",
              "      \n",
              "  <style>\n",
              "    .colab-df-container {\n",
              "      display:flex;\n",
              "      flex-wrap:wrap;\n",
              "      gap: 12px;\n",
              "    }\n",
              "\n",
              "    .colab-df-convert {\n",
              "      background-color: #E8F0FE;\n",
              "      border: none;\n",
              "      border-radius: 50%;\n",
              "      cursor: pointer;\n",
              "      display: none;\n",
              "      fill: #1967D2;\n",
              "      height: 32px;\n",
              "      padding: 0 0 0 0;\n",
              "      width: 32px;\n",
              "    }\n",
              "\n",
              "    .colab-df-convert:hover {\n",
              "      background-color: #E2EBFA;\n",
              "      box-shadow: 0px 1px 2px rgba(60, 64, 67, 0.3), 0px 1px 3px 1px rgba(60, 64, 67, 0.15);\n",
              "      fill: #174EA6;\n",
              "    }\n",
              "\n",
              "    [theme=dark] .colab-df-convert {\n",
              "      background-color: #3B4455;\n",
              "      fill: #D2E3FC;\n",
              "    }\n",
              "\n",
              "    [theme=dark] .colab-df-convert:hover {\n",
              "      background-color: #434B5C;\n",
              "      box-shadow: 0px 1px 3px 1px rgba(0, 0, 0, 0.15);\n",
              "      filter: drop-shadow(0px 1px 2px rgba(0, 0, 0, 0.3));\n",
              "      fill: #FFFFFF;\n",
              "    }\n",
              "  </style>\n",
              "\n",
              "      <script>\n",
              "        const buttonEl =\n",
              "          document.querySelector('#df-d432186e-eeab-4765-a3c7-633910da7297 button.colab-df-convert');\n",
              "        buttonEl.style.display =\n",
              "          google.colab.kernel.accessAllowed ? 'block' : 'none';\n",
              "\n",
              "        async function convertToInteractive(key) {\n",
              "          const element = document.querySelector('#df-d432186e-eeab-4765-a3c7-633910da7297');\n",
              "          const dataTable =\n",
              "            await google.colab.kernel.invokeFunction('convertToInteractive',\n",
              "                                                     [key], {});\n",
              "          if (!dataTable) return;\n",
              "\n",
              "          const docLinkHtml = 'Like what you see? Visit the ' +\n",
              "            '<a target=\"_blank\" href=https://colab.research.google.com/notebooks/data_table.ipynb>data table notebook</a>'\n",
              "            + ' to learn more about interactive tables.';\n",
              "          element.innerHTML = '';\n",
              "          dataTable['output_type'] = 'display_data';\n",
              "          await google.colab.output.renderOutput(dataTable, element);\n",
              "          const docLink = document.createElement('div');\n",
              "          docLink.innerHTML = docLinkHtml;\n",
              "          element.appendChild(docLink);\n",
              "        }\n",
              "      </script>\n",
              "    </div>\n",
              "  </div>\n",
              "  "
            ]
          },
          "metadata": {},
          "execution_count": 130
        }
      ]
    },
    {
      "cell_type": "markdown",
      "source": [
        "**2)Removal of Punctuations**"
      ],
      "metadata": {
        "id": "usw7JmNAkfQY"
      }
    },
    {
      "cell_type": "markdown",
      "source": [
        "*One another common text preprocessing technique is to remove the punctuations from the text data. This is again a text standardization process that will help to treat 'hurray' and 'hurray!' in the same way.*"
      ],
      "metadata": {
        "id": "w6LvvzP0khOW"
      }
    },
    {
      "cell_type": "code",
      "source": [
        "PUNCT_TO_REMOVE = string.punctuation\n",
        "def remove_punctuation(text):\n",
        "    \"\"\"custom function to remove the punctuation\"\"\"\n",
        "    return text.translate(str.maketrans('', '', PUNCT_TO_REMOVE))\n",
        "\n",
        "dataset[\"Text\"] = dataset[\"Text\"].apply(lambda text: remove_punctuation(text))\n",
        "dataset.head()"
      ],
      "metadata": {
        "id": "95kLA4NOaatA",
        "colab": {
          "base_uri": "https://localhost:8080/",
          "height": 206
        },
        "outputId": "e67013f4-babe-46be-8334-f1d1b420e5ff"
      },
      "execution_count": null,
      "outputs": [
        {
          "output_type": "execute_result",
          "data": {
            "text/plain": [
              "   ArticleId                                               Text  Category  \\\n",
              "0       1833  worldcom exboss launches defence lawyers defen...  business   \n",
              "1        154  german business confidence slides german busin...  business   \n",
              "2       1101  bbc poll indicates economic gloom citizens in ...  business   \n",
              "3       1976  lifestyle  governs mobile choice  faster  bett...      tech   \n",
              "4        917  enron bosses in 168m payout eighteen former en...  business   \n",
              "\n",
              "   categoryId  \n",
              "0           0  \n",
              "1           0  \n",
              "2           0  \n",
              "3           1  \n",
              "4           0  "
            ],
            "text/html": [
              "\n",
              "  <div id=\"df-35842399-cc5c-4711-8a7b-ee194659793b\">\n",
              "    <div class=\"colab-df-container\">\n",
              "      <div>\n",
              "<style scoped>\n",
              "    .dataframe tbody tr th:only-of-type {\n",
              "        vertical-align: middle;\n",
              "    }\n",
              "\n",
              "    .dataframe tbody tr th {\n",
              "        vertical-align: top;\n",
              "    }\n",
              "\n",
              "    .dataframe thead th {\n",
              "        text-align: right;\n",
              "    }\n",
              "</style>\n",
              "<table border=\"1\" class=\"dataframe\">\n",
              "  <thead>\n",
              "    <tr style=\"text-align: right;\">\n",
              "      <th></th>\n",
              "      <th>ArticleId</th>\n",
              "      <th>Text</th>\n",
              "      <th>Category</th>\n",
              "      <th>categoryId</th>\n",
              "    </tr>\n",
              "  </thead>\n",
              "  <tbody>\n",
              "    <tr>\n",
              "      <th>0</th>\n",
              "      <td>1833</td>\n",
              "      <td>worldcom exboss launches defence lawyers defen...</td>\n",
              "      <td>business</td>\n",
              "      <td>0</td>\n",
              "    </tr>\n",
              "    <tr>\n",
              "      <th>1</th>\n",
              "      <td>154</td>\n",
              "      <td>german business confidence slides german busin...</td>\n",
              "      <td>business</td>\n",
              "      <td>0</td>\n",
              "    </tr>\n",
              "    <tr>\n",
              "      <th>2</th>\n",
              "      <td>1101</td>\n",
              "      <td>bbc poll indicates economic gloom citizens in ...</td>\n",
              "      <td>business</td>\n",
              "      <td>0</td>\n",
              "    </tr>\n",
              "    <tr>\n",
              "      <th>3</th>\n",
              "      <td>1976</td>\n",
              "      <td>lifestyle  governs mobile choice  faster  bett...</td>\n",
              "      <td>tech</td>\n",
              "      <td>1</td>\n",
              "    </tr>\n",
              "    <tr>\n",
              "      <th>4</th>\n",
              "      <td>917</td>\n",
              "      <td>enron bosses in 168m payout eighteen former en...</td>\n",
              "      <td>business</td>\n",
              "      <td>0</td>\n",
              "    </tr>\n",
              "  </tbody>\n",
              "</table>\n",
              "</div>\n",
              "      <button class=\"colab-df-convert\" onclick=\"convertToInteractive('df-35842399-cc5c-4711-8a7b-ee194659793b')\"\n",
              "              title=\"Convert this dataframe to an interactive table.\"\n",
              "              style=\"display:none;\">\n",
              "        \n",
              "  <svg xmlns=\"http://www.w3.org/2000/svg\" height=\"24px\"viewBox=\"0 0 24 24\"\n",
              "       width=\"24px\">\n",
              "    <path d=\"M0 0h24v24H0V0z\" fill=\"none\"/>\n",
              "    <path d=\"M18.56 5.44l.94 2.06.94-2.06 2.06-.94-2.06-.94-.94-2.06-.94 2.06-2.06.94zm-11 1L8.5 8.5l.94-2.06 2.06-.94-2.06-.94L8.5 2.5l-.94 2.06-2.06.94zm10 10l.94 2.06.94-2.06 2.06-.94-2.06-.94-.94-2.06-.94 2.06-2.06.94z\"/><path d=\"M17.41 7.96l-1.37-1.37c-.4-.4-.92-.59-1.43-.59-.52 0-1.04.2-1.43.59L10.3 9.45l-7.72 7.72c-.78.78-.78 2.05 0 2.83L4 21.41c.39.39.9.59 1.41.59.51 0 1.02-.2 1.41-.59l7.78-7.78 2.81-2.81c.8-.78.8-2.07 0-2.86zM5.41 20L4 18.59l7.72-7.72 1.47 1.35L5.41 20z\"/>\n",
              "  </svg>\n",
              "      </button>\n",
              "      \n",
              "  <style>\n",
              "    .colab-df-container {\n",
              "      display:flex;\n",
              "      flex-wrap:wrap;\n",
              "      gap: 12px;\n",
              "    }\n",
              "\n",
              "    .colab-df-convert {\n",
              "      background-color: #E8F0FE;\n",
              "      border: none;\n",
              "      border-radius: 50%;\n",
              "      cursor: pointer;\n",
              "      display: none;\n",
              "      fill: #1967D2;\n",
              "      height: 32px;\n",
              "      padding: 0 0 0 0;\n",
              "      width: 32px;\n",
              "    }\n",
              "\n",
              "    .colab-df-convert:hover {\n",
              "      background-color: #E2EBFA;\n",
              "      box-shadow: 0px 1px 2px rgba(60, 64, 67, 0.3), 0px 1px 3px 1px rgba(60, 64, 67, 0.15);\n",
              "      fill: #174EA6;\n",
              "    }\n",
              "\n",
              "    [theme=dark] .colab-df-convert {\n",
              "      background-color: #3B4455;\n",
              "      fill: #D2E3FC;\n",
              "    }\n",
              "\n",
              "    [theme=dark] .colab-df-convert:hover {\n",
              "      background-color: #434B5C;\n",
              "      box-shadow: 0px 1px 3px 1px rgba(0, 0, 0, 0.15);\n",
              "      filter: drop-shadow(0px 1px 2px rgba(0, 0, 0, 0.3));\n",
              "      fill: #FFFFFF;\n",
              "    }\n",
              "  </style>\n",
              "\n",
              "      <script>\n",
              "        const buttonEl =\n",
              "          document.querySelector('#df-35842399-cc5c-4711-8a7b-ee194659793b button.colab-df-convert');\n",
              "        buttonEl.style.display =\n",
              "          google.colab.kernel.accessAllowed ? 'block' : 'none';\n",
              "\n",
              "        async function convertToInteractive(key) {\n",
              "          const element = document.querySelector('#df-35842399-cc5c-4711-8a7b-ee194659793b');\n",
              "          const dataTable =\n",
              "            await google.colab.kernel.invokeFunction('convertToInteractive',\n",
              "                                                     [key], {});\n",
              "          if (!dataTable) return;\n",
              "\n",
              "          const docLinkHtml = 'Like what you see? Visit the ' +\n",
              "            '<a target=\"_blank\" href=https://colab.research.google.com/notebooks/data_table.ipynb>data table notebook</a>'\n",
              "            + ' to learn more about interactive tables.';\n",
              "          element.innerHTML = '';\n",
              "          dataTable['output_type'] = 'display_data';\n",
              "          await google.colab.output.renderOutput(dataTable, element);\n",
              "          const docLink = document.createElement('div');\n",
              "          docLink.innerHTML = docLinkHtml;\n",
              "          element.appendChild(docLink);\n",
              "        }\n",
              "      </script>\n",
              "    </div>\n",
              "  </div>\n",
              "  "
            ]
          },
          "metadata": {},
          "execution_count": 131
        }
      ]
    },
    {
      "cell_type": "markdown",
      "source": [
        "**Remove Numbers**"
      ],
      "metadata": {
        "id": "5nEoyPymwnjY"
      }
    },
    {
      "cell_type": "code",
      "source": [
        "def remove_numbers_boundaries(text):\n",
        "    \"\"\"Remove boundaries of words containing numbers\"\"\"\n",
        "    pattern = r\"\\b\\w*\\d\\w*\\b\"\n",
        "    return re.sub(pattern, \"\", text)\n",
        "\n",
        "dataset[\"Text\"] = dataset[\"Text\"].apply(remove_numbers_boundaries)\n",
        "dataset.head(5)"
      ],
      "metadata": {
        "id": "eOXB6mldvn15",
        "colab": {
          "base_uri": "https://localhost:8080/",
          "height": 206
        },
        "outputId": "c502566e-cdf9-4781-e1d0-1f3746031b09"
      },
      "execution_count": null,
      "outputs": [
        {
          "output_type": "execute_result",
          "data": {
            "text/plain": [
              "   ArticleId                                               Text  Category  \\\n",
              "0       1833  worldcom exboss launches defence lawyers defen...  business   \n",
              "1        154  german business confidence slides german busin...  business   \n",
              "2       1101  bbc poll indicates economic gloom citizens in ...  business   \n",
              "3       1976  lifestyle  governs mobile choice  faster  bett...      tech   \n",
              "4        917  enron bosses in  payout eighteen former enron ...  business   \n",
              "\n",
              "   categoryId  \n",
              "0           0  \n",
              "1           0  \n",
              "2           0  \n",
              "3           1  \n",
              "4           0  "
            ],
            "text/html": [
              "\n",
              "  <div id=\"df-4ab569ef-2ab6-41c3-8149-00a49f6874b2\">\n",
              "    <div class=\"colab-df-container\">\n",
              "      <div>\n",
              "<style scoped>\n",
              "    .dataframe tbody tr th:only-of-type {\n",
              "        vertical-align: middle;\n",
              "    }\n",
              "\n",
              "    .dataframe tbody tr th {\n",
              "        vertical-align: top;\n",
              "    }\n",
              "\n",
              "    .dataframe thead th {\n",
              "        text-align: right;\n",
              "    }\n",
              "</style>\n",
              "<table border=\"1\" class=\"dataframe\">\n",
              "  <thead>\n",
              "    <tr style=\"text-align: right;\">\n",
              "      <th></th>\n",
              "      <th>ArticleId</th>\n",
              "      <th>Text</th>\n",
              "      <th>Category</th>\n",
              "      <th>categoryId</th>\n",
              "    </tr>\n",
              "  </thead>\n",
              "  <tbody>\n",
              "    <tr>\n",
              "      <th>0</th>\n",
              "      <td>1833</td>\n",
              "      <td>worldcom exboss launches defence lawyers defen...</td>\n",
              "      <td>business</td>\n",
              "      <td>0</td>\n",
              "    </tr>\n",
              "    <tr>\n",
              "      <th>1</th>\n",
              "      <td>154</td>\n",
              "      <td>german business confidence slides german busin...</td>\n",
              "      <td>business</td>\n",
              "      <td>0</td>\n",
              "    </tr>\n",
              "    <tr>\n",
              "      <th>2</th>\n",
              "      <td>1101</td>\n",
              "      <td>bbc poll indicates economic gloom citizens in ...</td>\n",
              "      <td>business</td>\n",
              "      <td>0</td>\n",
              "    </tr>\n",
              "    <tr>\n",
              "      <th>3</th>\n",
              "      <td>1976</td>\n",
              "      <td>lifestyle  governs mobile choice  faster  bett...</td>\n",
              "      <td>tech</td>\n",
              "      <td>1</td>\n",
              "    </tr>\n",
              "    <tr>\n",
              "      <th>4</th>\n",
              "      <td>917</td>\n",
              "      <td>enron bosses in  payout eighteen former enron ...</td>\n",
              "      <td>business</td>\n",
              "      <td>0</td>\n",
              "    </tr>\n",
              "  </tbody>\n",
              "</table>\n",
              "</div>\n",
              "      <button class=\"colab-df-convert\" onclick=\"convertToInteractive('df-4ab569ef-2ab6-41c3-8149-00a49f6874b2')\"\n",
              "              title=\"Convert this dataframe to an interactive table.\"\n",
              "              style=\"display:none;\">\n",
              "        \n",
              "  <svg xmlns=\"http://www.w3.org/2000/svg\" height=\"24px\"viewBox=\"0 0 24 24\"\n",
              "       width=\"24px\">\n",
              "    <path d=\"M0 0h24v24H0V0z\" fill=\"none\"/>\n",
              "    <path d=\"M18.56 5.44l.94 2.06.94-2.06 2.06-.94-2.06-.94-.94-2.06-.94 2.06-2.06.94zm-11 1L8.5 8.5l.94-2.06 2.06-.94-2.06-.94L8.5 2.5l-.94 2.06-2.06.94zm10 10l.94 2.06.94-2.06 2.06-.94-2.06-.94-.94-2.06-.94 2.06-2.06.94z\"/><path d=\"M17.41 7.96l-1.37-1.37c-.4-.4-.92-.59-1.43-.59-.52 0-1.04.2-1.43.59L10.3 9.45l-7.72 7.72c-.78.78-.78 2.05 0 2.83L4 21.41c.39.39.9.59 1.41.59.51 0 1.02-.2 1.41-.59l7.78-7.78 2.81-2.81c.8-.78.8-2.07 0-2.86zM5.41 20L4 18.59l7.72-7.72 1.47 1.35L5.41 20z\"/>\n",
              "  </svg>\n",
              "      </button>\n",
              "      \n",
              "  <style>\n",
              "    .colab-df-container {\n",
              "      display:flex;\n",
              "      flex-wrap:wrap;\n",
              "      gap: 12px;\n",
              "    }\n",
              "\n",
              "    .colab-df-convert {\n",
              "      background-color: #E8F0FE;\n",
              "      border: none;\n",
              "      border-radius: 50%;\n",
              "      cursor: pointer;\n",
              "      display: none;\n",
              "      fill: #1967D2;\n",
              "      height: 32px;\n",
              "      padding: 0 0 0 0;\n",
              "      width: 32px;\n",
              "    }\n",
              "\n",
              "    .colab-df-convert:hover {\n",
              "      background-color: #E2EBFA;\n",
              "      box-shadow: 0px 1px 2px rgba(60, 64, 67, 0.3), 0px 1px 3px 1px rgba(60, 64, 67, 0.15);\n",
              "      fill: #174EA6;\n",
              "    }\n",
              "\n",
              "    [theme=dark] .colab-df-convert {\n",
              "      background-color: #3B4455;\n",
              "      fill: #D2E3FC;\n",
              "    }\n",
              "\n",
              "    [theme=dark] .colab-df-convert:hover {\n",
              "      background-color: #434B5C;\n",
              "      box-shadow: 0px 1px 3px 1px rgba(0, 0, 0, 0.15);\n",
              "      filter: drop-shadow(0px 1px 2px rgba(0, 0, 0, 0.3));\n",
              "      fill: #FFFFFF;\n",
              "    }\n",
              "  </style>\n",
              "\n",
              "      <script>\n",
              "        const buttonEl =\n",
              "          document.querySelector('#df-4ab569ef-2ab6-41c3-8149-00a49f6874b2 button.colab-df-convert');\n",
              "        buttonEl.style.display =\n",
              "          google.colab.kernel.accessAllowed ? 'block' : 'none';\n",
              "\n",
              "        async function convertToInteractive(key) {\n",
              "          const element = document.querySelector('#df-4ab569ef-2ab6-41c3-8149-00a49f6874b2');\n",
              "          const dataTable =\n",
              "            await google.colab.kernel.invokeFunction('convertToInteractive',\n",
              "                                                     [key], {});\n",
              "          if (!dataTable) return;\n",
              "\n",
              "          const docLinkHtml = 'Like what you see? Visit the ' +\n",
              "            '<a target=\"_blank\" href=https://colab.research.google.com/notebooks/data_table.ipynb>data table notebook</a>'\n",
              "            + ' to learn more about interactive tables.';\n",
              "          element.innerHTML = '';\n",
              "          dataTable['output_type'] = 'display_data';\n",
              "          await google.colab.output.renderOutput(dataTable, element);\n",
              "          const docLink = document.createElement('div');\n",
              "          docLink.innerHTML = docLinkHtml;\n",
              "          element.appendChild(docLink);\n",
              "        }\n",
              "      </script>\n",
              "    </div>\n",
              "  </div>\n",
              "  "
            ]
          },
          "metadata": {},
          "execution_count": 132
        }
      ]
    },
    {
      "cell_type": "markdown",
      "source": [
        "**3)Removal of stopwords**"
      ],
      "metadata": {
        "id": "Ge8wi1x0lA4W"
      }
    },
    {
      "cell_type": "markdown",
      "source": [
        "*Stopwords are commonly occuring words in a language like 'the', 'a' and so on. They can be removed from the text most of the times, as they don't provide valuable information for downstream analysis.*"
      ],
      "metadata": {
        "id": "exF6wGOplCsO"
      }
    },
    {
      "cell_type": "code",
      "source": [
        "nltk.download('stopwords')"
      ],
      "metadata": {
        "id": "rK3u_HyRlS2m",
        "colab": {
          "base_uri": "https://localhost:8080/"
        },
        "outputId": "e6b74a66-2c0e-4814-87cc-249da2829a82"
      },
      "execution_count": null,
      "outputs": [
        {
          "output_type": "stream",
          "name": "stderr",
          "text": [
            "[nltk_data] Downloading package stopwords to /root/nltk_data...\n",
            "[nltk_data]   Package stopwords is already up-to-date!\n"
          ]
        },
        {
          "output_type": "execute_result",
          "data": {
            "text/plain": [
              "True"
            ]
          },
          "metadata": {},
          "execution_count": 133
        }
      ]
    },
    {
      "cell_type": "code",
      "source": [
        "from nltk.corpus import stopwords\n",
        "\", \".join(stopwords.words('english'))"
      ],
      "metadata": {
        "id": "wI4TuG2RlCHK",
        "colab": {
          "base_uri": "https://localhost:8080/",
          "height": 140
        },
        "outputId": "af804599-bbe5-49db-b74c-cfcedeb9c56e"
      },
      "execution_count": null,
      "outputs": [
        {
          "output_type": "execute_result",
          "data": {
            "text/plain": [
              "\"i, me, my, myself, we, our, ours, ourselves, you, you're, you've, you'll, you'd, your, yours, yourself, yourselves, he, him, his, himself, she, she's, her, hers, herself, it, it's, its, itself, they, them, their, theirs, themselves, what, which, who, whom, this, that, that'll, these, those, am, is, are, was, were, be, been, being, have, has, had, having, do, does, did, doing, a, an, the, and, but, if, or, because, as, until, while, of, at, by, for, with, about, against, between, into, through, during, before, after, above, below, to, from, up, down, in, out, on, off, over, under, again, further, then, once, here, there, when, where, why, how, all, any, both, each, few, more, most, other, some, such, no, nor, not, only, own, same, so, than, too, very, s, t, can, will, just, don, don't, should, should've, now, d, ll, m, o, re, ve, y, ain, aren, aren't, couldn, couldn't, didn, didn't, doesn, doesn't, hadn, hadn't, hasn, hasn't, haven, haven't, isn, isn't, ma, mightn, mightn't, mustn, mustn't, needn, needn't, shan, shan't, shouldn, shouldn't, wasn, wasn't, weren, weren't, won, won't, wouldn, wouldn't\""
            ],
            "application/vnd.google.colaboratory.intrinsic+json": {
              "type": "string"
            }
          },
          "metadata": {},
          "execution_count": 134
        }
      ]
    },
    {
      "cell_type": "code",
      "source": [
        "STOPWORDS = set(stopwords.words('english'))\n",
        "def remove_stopwords(text):\n",
        "    \"\"\"custom function to remove the stopwords\"\"\"\n",
        "    return \" \".join([word for word in str(text).split() if word not in STOPWORDS])\n",
        "\n",
        "dataset[\"Text\"] = dataset[\"Text\"].apply(lambda text: remove_stopwords(text))\n",
        "dataset.head()\n"
      ],
      "metadata": {
        "id": "TtXgWSLdlNV2",
        "colab": {
          "base_uri": "https://localhost:8080/",
          "height": 206
        },
        "outputId": "d57cbc23-286d-4609-fc6f-14fd15417d31"
      },
      "execution_count": null,
      "outputs": [
        {
          "output_type": "execute_result",
          "data": {
            "text/plain": [
              "   ArticleId                                               Text  Category  \\\n",
              "0       1833  worldcom exboss launches defence lawyers defen...  business   \n",
              "1        154  german business confidence slides german busin...  business   \n",
              "2       1101  bbc poll indicates economic gloom citizens maj...  business   \n",
              "3       1976  lifestyle governs mobile choice faster better ...      tech   \n",
              "4        917  enron bosses payout eighteen former enron dire...  business   \n",
              "\n",
              "   categoryId  \n",
              "0           0  \n",
              "1           0  \n",
              "2           0  \n",
              "3           1  \n",
              "4           0  "
            ],
            "text/html": [
              "\n",
              "  <div id=\"df-7a5480f1-0751-4770-a847-96e07e5c73a1\">\n",
              "    <div class=\"colab-df-container\">\n",
              "      <div>\n",
              "<style scoped>\n",
              "    .dataframe tbody tr th:only-of-type {\n",
              "        vertical-align: middle;\n",
              "    }\n",
              "\n",
              "    .dataframe tbody tr th {\n",
              "        vertical-align: top;\n",
              "    }\n",
              "\n",
              "    .dataframe thead th {\n",
              "        text-align: right;\n",
              "    }\n",
              "</style>\n",
              "<table border=\"1\" class=\"dataframe\">\n",
              "  <thead>\n",
              "    <tr style=\"text-align: right;\">\n",
              "      <th></th>\n",
              "      <th>ArticleId</th>\n",
              "      <th>Text</th>\n",
              "      <th>Category</th>\n",
              "      <th>categoryId</th>\n",
              "    </tr>\n",
              "  </thead>\n",
              "  <tbody>\n",
              "    <tr>\n",
              "      <th>0</th>\n",
              "      <td>1833</td>\n",
              "      <td>worldcom exboss launches defence lawyers defen...</td>\n",
              "      <td>business</td>\n",
              "      <td>0</td>\n",
              "    </tr>\n",
              "    <tr>\n",
              "      <th>1</th>\n",
              "      <td>154</td>\n",
              "      <td>german business confidence slides german busin...</td>\n",
              "      <td>business</td>\n",
              "      <td>0</td>\n",
              "    </tr>\n",
              "    <tr>\n",
              "      <th>2</th>\n",
              "      <td>1101</td>\n",
              "      <td>bbc poll indicates economic gloom citizens maj...</td>\n",
              "      <td>business</td>\n",
              "      <td>0</td>\n",
              "    </tr>\n",
              "    <tr>\n",
              "      <th>3</th>\n",
              "      <td>1976</td>\n",
              "      <td>lifestyle governs mobile choice faster better ...</td>\n",
              "      <td>tech</td>\n",
              "      <td>1</td>\n",
              "    </tr>\n",
              "    <tr>\n",
              "      <th>4</th>\n",
              "      <td>917</td>\n",
              "      <td>enron bosses payout eighteen former enron dire...</td>\n",
              "      <td>business</td>\n",
              "      <td>0</td>\n",
              "    </tr>\n",
              "  </tbody>\n",
              "</table>\n",
              "</div>\n",
              "      <button class=\"colab-df-convert\" onclick=\"convertToInteractive('df-7a5480f1-0751-4770-a847-96e07e5c73a1')\"\n",
              "              title=\"Convert this dataframe to an interactive table.\"\n",
              "              style=\"display:none;\">\n",
              "        \n",
              "  <svg xmlns=\"http://www.w3.org/2000/svg\" height=\"24px\"viewBox=\"0 0 24 24\"\n",
              "       width=\"24px\">\n",
              "    <path d=\"M0 0h24v24H0V0z\" fill=\"none\"/>\n",
              "    <path d=\"M18.56 5.44l.94 2.06.94-2.06 2.06-.94-2.06-.94-.94-2.06-.94 2.06-2.06.94zm-11 1L8.5 8.5l.94-2.06 2.06-.94-2.06-.94L8.5 2.5l-.94 2.06-2.06.94zm10 10l.94 2.06.94-2.06 2.06-.94-2.06-.94-.94-2.06-.94 2.06-2.06.94z\"/><path d=\"M17.41 7.96l-1.37-1.37c-.4-.4-.92-.59-1.43-.59-.52 0-1.04.2-1.43.59L10.3 9.45l-7.72 7.72c-.78.78-.78 2.05 0 2.83L4 21.41c.39.39.9.59 1.41.59.51 0 1.02-.2 1.41-.59l7.78-7.78 2.81-2.81c.8-.78.8-2.07 0-2.86zM5.41 20L4 18.59l7.72-7.72 1.47 1.35L5.41 20z\"/>\n",
              "  </svg>\n",
              "      </button>\n",
              "      \n",
              "  <style>\n",
              "    .colab-df-container {\n",
              "      display:flex;\n",
              "      flex-wrap:wrap;\n",
              "      gap: 12px;\n",
              "    }\n",
              "\n",
              "    .colab-df-convert {\n",
              "      background-color: #E8F0FE;\n",
              "      border: none;\n",
              "      border-radius: 50%;\n",
              "      cursor: pointer;\n",
              "      display: none;\n",
              "      fill: #1967D2;\n",
              "      height: 32px;\n",
              "      padding: 0 0 0 0;\n",
              "      width: 32px;\n",
              "    }\n",
              "\n",
              "    .colab-df-convert:hover {\n",
              "      background-color: #E2EBFA;\n",
              "      box-shadow: 0px 1px 2px rgba(60, 64, 67, 0.3), 0px 1px 3px 1px rgba(60, 64, 67, 0.15);\n",
              "      fill: #174EA6;\n",
              "    }\n",
              "\n",
              "    [theme=dark] .colab-df-convert {\n",
              "      background-color: #3B4455;\n",
              "      fill: #D2E3FC;\n",
              "    }\n",
              "\n",
              "    [theme=dark] .colab-df-convert:hover {\n",
              "      background-color: #434B5C;\n",
              "      box-shadow: 0px 1px 3px 1px rgba(0, 0, 0, 0.15);\n",
              "      filter: drop-shadow(0px 1px 2px rgba(0, 0, 0, 0.3));\n",
              "      fill: #FFFFFF;\n",
              "    }\n",
              "  </style>\n",
              "\n",
              "      <script>\n",
              "        const buttonEl =\n",
              "          document.querySelector('#df-7a5480f1-0751-4770-a847-96e07e5c73a1 button.colab-df-convert');\n",
              "        buttonEl.style.display =\n",
              "          google.colab.kernel.accessAllowed ? 'block' : 'none';\n",
              "\n",
              "        async function convertToInteractive(key) {\n",
              "          const element = document.querySelector('#df-7a5480f1-0751-4770-a847-96e07e5c73a1');\n",
              "          const dataTable =\n",
              "            await google.colab.kernel.invokeFunction('convertToInteractive',\n",
              "                                                     [key], {});\n",
              "          if (!dataTable) return;\n",
              "\n",
              "          const docLinkHtml = 'Like what you see? Visit the ' +\n",
              "            '<a target=\"_blank\" href=https://colab.research.google.com/notebooks/data_table.ipynb>data table notebook</a>'\n",
              "            + ' to learn more about interactive tables.';\n",
              "          element.innerHTML = '';\n",
              "          dataTable['output_type'] = 'display_data';\n",
              "          await google.colab.output.renderOutput(dataTable, element);\n",
              "          const docLink = document.createElement('div');\n",
              "          docLink.innerHTML = docLinkHtml;\n",
              "          element.appendChild(docLink);\n",
              "        }\n",
              "      </script>\n",
              "    </div>\n",
              "  </div>\n",
              "  "
            ]
          },
          "metadata": {},
          "execution_count": 135
        }
      ]
    },
    {
      "cell_type": "markdown",
      "source": [
        "**Remove Numbers**"
      ],
      "metadata": {
        "id": "82VX3S8yqf4W"
      }
    },
    {
      "cell_type": "code",
      "source": [
        "# def remove_standalone_digits(text):\n",
        "#     \"\"\"Replace standalone digits with spaces\"\"\"\n",
        "#     words = text.split()\n",
        "#     new_words = []\n",
        "#     for word in words:\n",
        "#         if word.isdigit():  # check if the entire word is a digit\n",
        "#             new_words.append('')  # replace the entire word with a space\n",
        "#         else:\n",
        "#             # replace standalone digits within the word with a space\n",
        "#             new_word = re.sub(r'\\b\\d+\\b', '', word)\n",
        "#             new_words.append(new_word)\n",
        "#     return ' '.join(new_words)"
      ],
      "metadata": {
        "id": "ltdfnNqDu-2p"
      },
      "execution_count": null,
      "outputs": []
    },
    {
      "cell_type": "code",
      "source": [
        "# import re\n",
        "# def replace_numbers_with_space(text):\n",
        "#     \"\"\"Replace any numbers in the text with a space character\"\"\"\n",
        "#     words = text.split()\n",
        "#     words = [re.replace(r'\\b\\d+\\b', '', word) for word in words]  # replace standalone digits\n",
        "#     return ' '.join(words)\n",
        "\n",
        "\n",
        "# dataset[\"Text\"] = dataset[\"Text\"].apply(lambda text: remove_numbers_boundaries(text))\n",
        "# dataset.head(5)\n"
      ],
      "metadata": {
        "id": "JMTvVKAdqmMm"
      },
      "execution_count": null,
      "outputs": []
    },
    {
      "cell_type": "markdown",
      "source": [
        "**Perform lemmatization to reduce words to their root form.**"
      ],
      "metadata": {
        "id": "03UQC371rQ5s"
      }
    },
    {
      "cell_type": "markdown",
      "source": [
        "*Stemming is the process of reducing inflected (or sometimes derived) words to their word stem, base or root form (From Wikipedia)*"
      ],
      "metadata": {
        "id": "nQlWI7lQrVcf"
      }
    },
    {
      "cell_type": "code",
      "source": [
        "nltk.download('wordnet')\n",
        "nltk.download('averaged_perceptron_tagger')"
      ],
      "metadata": {
        "id": "3sGQXztftXBG",
        "colab": {
          "base_uri": "https://localhost:8080/"
        },
        "outputId": "ba5b39f8-6d1c-4666-bc24-cc8341d5f31c"
      },
      "execution_count": null,
      "outputs": [
        {
          "output_type": "stream",
          "name": "stderr",
          "text": [
            "[nltk_data] Downloading package wordnet to /root/nltk_data...\n",
            "[nltk_data]   Package wordnet is already up-to-date!\n",
            "[nltk_data] Downloading package averaged_perceptron_tagger to\n",
            "[nltk_data]     /root/nltk_data...\n",
            "[nltk_data]   Package averaged_perceptron_tagger is already up-to-\n",
            "[nltk_data]       date!\n"
          ]
        },
        {
          "output_type": "execute_result",
          "data": {
            "text/plain": [
              "True"
            ]
          },
          "metadata": {},
          "execution_count": 138
        }
      ]
    },
    {
      "cell_type": "code",
      "source": [
        "from nltk.corpus import wordnet\n",
        "from nltk.stem import WordNetLemmatizer\n",
        "\n",
        "lemmatizer = WordNetLemmatizer()\n",
        "wordnet_map = {\"N\":wordnet.NOUN, \"V\":wordnet.VERB, \"J\":wordnet.ADJ, \"R\":wordnet.ADV}\n",
        "def lemmatize_words(text):\n",
        "    pos_tagged_text = nltk.pos_tag(text.split())\n",
        "    return \" \".join([lemmatizer.lemmatize(word, wordnet_map.get(pos[0], wordnet.NOUN)) for word, pos in pos_tagged_text])\n",
        "\n",
        "dataset[\"Text\"] = dataset[\"Text\"].apply(lambda text: lemmatize_words(text))\n",
        "dataset.head()"
      ],
      "metadata": {
        "id": "Fj4gi6iNpKZA",
        "colab": {
          "base_uri": "https://localhost:8080/",
          "height": 206
        },
        "outputId": "b6d8e7b0-7380-47f5-aee3-4d7f925a92a9"
      },
      "execution_count": null,
      "outputs": [
        {
          "output_type": "execute_result",
          "data": {
            "text/plain": [
              "   ArticleId                                               Text  Category  \\\n",
              "0       1833  worldcom exboss launch defence lawyer defend f...  business   \n",
              "1        154  german business confidence slides german busin...  business   \n",
              "2       1101  bbc poll indicate economic gloom citizen major...  business   \n",
              "3       1976  lifestyle governs mobile choice faster well fu...      tech   \n",
              "4        917  enron boss payout eighteen former enron direct...  business   \n",
              "\n",
              "   categoryId  \n",
              "0           0  \n",
              "1           0  \n",
              "2           0  \n",
              "3           1  \n",
              "4           0  "
            ],
            "text/html": [
              "\n",
              "  <div id=\"df-ca8b1f75-bcac-46fe-83a0-2872ae747f9e\">\n",
              "    <div class=\"colab-df-container\">\n",
              "      <div>\n",
              "<style scoped>\n",
              "    .dataframe tbody tr th:only-of-type {\n",
              "        vertical-align: middle;\n",
              "    }\n",
              "\n",
              "    .dataframe tbody tr th {\n",
              "        vertical-align: top;\n",
              "    }\n",
              "\n",
              "    .dataframe thead th {\n",
              "        text-align: right;\n",
              "    }\n",
              "</style>\n",
              "<table border=\"1\" class=\"dataframe\">\n",
              "  <thead>\n",
              "    <tr style=\"text-align: right;\">\n",
              "      <th></th>\n",
              "      <th>ArticleId</th>\n",
              "      <th>Text</th>\n",
              "      <th>Category</th>\n",
              "      <th>categoryId</th>\n",
              "    </tr>\n",
              "  </thead>\n",
              "  <tbody>\n",
              "    <tr>\n",
              "      <th>0</th>\n",
              "      <td>1833</td>\n",
              "      <td>worldcom exboss launch defence lawyer defend f...</td>\n",
              "      <td>business</td>\n",
              "      <td>0</td>\n",
              "    </tr>\n",
              "    <tr>\n",
              "      <th>1</th>\n",
              "      <td>154</td>\n",
              "      <td>german business confidence slides german busin...</td>\n",
              "      <td>business</td>\n",
              "      <td>0</td>\n",
              "    </tr>\n",
              "    <tr>\n",
              "      <th>2</th>\n",
              "      <td>1101</td>\n",
              "      <td>bbc poll indicate economic gloom citizen major...</td>\n",
              "      <td>business</td>\n",
              "      <td>0</td>\n",
              "    </tr>\n",
              "    <tr>\n",
              "      <th>3</th>\n",
              "      <td>1976</td>\n",
              "      <td>lifestyle governs mobile choice faster well fu...</td>\n",
              "      <td>tech</td>\n",
              "      <td>1</td>\n",
              "    </tr>\n",
              "    <tr>\n",
              "      <th>4</th>\n",
              "      <td>917</td>\n",
              "      <td>enron boss payout eighteen former enron direct...</td>\n",
              "      <td>business</td>\n",
              "      <td>0</td>\n",
              "    </tr>\n",
              "  </tbody>\n",
              "</table>\n",
              "</div>\n",
              "      <button class=\"colab-df-convert\" onclick=\"convertToInteractive('df-ca8b1f75-bcac-46fe-83a0-2872ae747f9e')\"\n",
              "              title=\"Convert this dataframe to an interactive table.\"\n",
              "              style=\"display:none;\">\n",
              "        \n",
              "  <svg xmlns=\"http://www.w3.org/2000/svg\" height=\"24px\"viewBox=\"0 0 24 24\"\n",
              "       width=\"24px\">\n",
              "    <path d=\"M0 0h24v24H0V0z\" fill=\"none\"/>\n",
              "    <path d=\"M18.56 5.44l.94 2.06.94-2.06 2.06-.94-2.06-.94-.94-2.06-.94 2.06-2.06.94zm-11 1L8.5 8.5l.94-2.06 2.06-.94-2.06-.94L8.5 2.5l-.94 2.06-2.06.94zm10 10l.94 2.06.94-2.06 2.06-.94-2.06-.94-.94-2.06-.94 2.06-2.06.94z\"/><path d=\"M17.41 7.96l-1.37-1.37c-.4-.4-.92-.59-1.43-.59-.52 0-1.04.2-1.43.59L10.3 9.45l-7.72 7.72c-.78.78-.78 2.05 0 2.83L4 21.41c.39.39.9.59 1.41.59.51 0 1.02-.2 1.41-.59l7.78-7.78 2.81-2.81c.8-.78.8-2.07 0-2.86zM5.41 20L4 18.59l7.72-7.72 1.47 1.35L5.41 20z\"/>\n",
              "  </svg>\n",
              "      </button>\n",
              "      \n",
              "  <style>\n",
              "    .colab-df-container {\n",
              "      display:flex;\n",
              "      flex-wrap:wrap;\n",
              "      gap: 12px;\n",
              "    }\n",
              "\n",
              "    .colab-df-convert {\n",
              "      background-color: #E8F0FE;\n",
              "      border: none;\n",
              "      border-radius: 50%;\n",
              "      cursor: pointer;\n",
              "      display: none;\n",
              "      fill: #1967D2;\n",
              "      height: 32px;\n",
              "      padding: 0 0 0 0;\n",
              "      width: 32px;\n",
              "    }\n",
              "\n",
              "    .colab-df-convert:hover {\n",
              "      background-color: #E2EBFA;\n",
              "      box-shadow: 0px 1px 2px rgba(60, 64, 67, 0.3), 0px 1px 3px 1px rgba(60, 64, 67, 0.15);\n",
              "      fill: #174EA6;\n",
              "    }\n",
              "\n",
              "    [theme=dark] .colab-df-convert {\n",
              "      background-color: #3B4455;\n",
              "      fill: #D2E3FC;\n",
              "    }\n",
              "\n",
              "    [theme=dark] .colab-df-convert:hover {\n",
              "      background-color: #434B5C;\n",
              "      box-shadow: 0px 1px 3px 1px rgba(0, 0, 0, 0.15);\n",
              "      filter: drop-shadow(0px 1px 2px rgba(0, 0, 0, 0.3));\n",
              "      fill: #FFFFFF;\n",
              "    }\n",
              "  </style>\n",
              "\n",
              "      <script>\n",
              "        const buttonEl =\n",
              "          document.querySelector('#df-ca8b1f75-bcac-46fe-83a0-2872ae747f9e button.colab-df-convert');\n",
              "        buttonEl.style.display =\n",
              "          google.colab.kernel.accessAllowed ? 'block' : 'none';\n",
              "\n",
              "        async function convertToInteractive(key) {\n",
              "          const element = document.querySelector('#df-ca8b1f75-bcac-46fe-83a0-2872ae747f9e');\n",
              "          const dataTable =\n",
              "            await google.colab.kernel.invokeFunction('convertToInteractive',\n",
              "                                                     [key], {});\n",
              "          if (!dataTable) return;\n",
              "\n",
              "          const docLinkHtml = 'Like what you see? Visit the ' +\n",
              "            '<a target=\"_blank\" href=https://colab.research.google.com/notebooks/data_table.ipynb>data table notebook</a>'\n",
              "            + ' to learn more about interactive tables.';\n",
              "          element.innerHTML = '';\n",
              "          dataTable['output_type'] = 'display_data';\n",
              "          await google.colab.output.renderOutput(dataTable, element);\n",
              "          const docLink = document.createElement('div');\n",
              "          docLink.innerHTML = docLinkHtml;\n",
              "          element.appendChild(docLink);\n",
              "        }\n",
              "      </script>\n",
              "    </div>\n",
              "  </div>\n",
              "  "
            ]
          },
          "metadata": {},
          "execution_count": 139
        }
      ]
    },
    {
      "cell_type": "markdown",
      "source": [
        "**Converting every articles into tokens after text preprocessing**"
      ],
      "metadata": {
        "id": "gPUVYx6mrBUA"
      }
    },
    {
      "cell_type": "code",
      "source": [
        "!pip install --user -U nltk"
      ],
      "metadata": {
        "id": "YP9I-fN5lNZr",
        "colab": {
          "base_uri": "https://localhost:8080/"
        },
        "outputId": "8853ee83-de3f-4b84-8985-521ac6ec3b36"
      },
      "execution_count": null,
      "outputs": [
        {
          "output_type": "stream",
          "name": "stdout",
          "text": [
            "Looking in indexes: https://pypi.org/simple, https://us-python.pkg.dev/colab-wheels/public/simple/\n",
            "Requirement already satisfied: nltk in /usr/local/lib/python3.9/dist-packages (3.8.1)\n",
            "Requirement already satisfied: joblib in /usr/local/lib/python3.9/dist-packages (from nltk) (1.1.1)\n",
            "Requirement already satisfied: tqdm in /usr/local/lib/python3.9/dist-packages (from nltk) (4.65.0)\n",
            "Requirement already satisfied: click in /usr/local/lib/python3.9/dist-packages (from nltk) (8.1.3)\n",
            "Requirement already satisfied: regex>=2021.8.3 in /usr/local/lib/python3.9/dist-packages (from nltk) (2022.10.31)\n"
          ]
        }
      ]
    },
    {
      "cell_type": "code",
      "source": [
        "nltk.download('punkt')"
      ],
      "metadata": {
        "id": "HFB8n6ron1i9",
        "colab": {
          "base_uri": "https://localhost:8080/"
        },
        "outputId": "bebd83e4-3766-476f-f445-9e4fbf2de45d"
      },
      "execution_count": null,
      "outputs": [
        {
          "output_type": "stream",
          "name": "stderr",
          "text": [
            "[nltk_data] Downloading package punkt to /root/nltk_data...\n",
            "[nltk_data]   Package punkt is already up-to-date!\n"
          ]
        },
        {
          "output_type": "execute_result",
          "data": {
            "text/plain": [
              "True"
            ]
          },
          "metadata": {},
          "execution_count": 141
        }
      ]
    },
    {
      "cell_type": "code",
      "source": [
        "text = dataset.iloc[0][\"Text\"]\n",
        "print(text)"
      ],
      "metadata": {
        "id": "C6yuz84snXJk",
        "colab": {
          "base_uri": "https://localhost:8080/"
        },
        "outputId": "718d53ed-9901-47f4-e5d0-772bdaa04d03"
      },
      "execution_count": null,
      "outputs": [
        {
          "output_type": "stream",
          "name": "stdout",
          "text": [
            "worldcom exboss launch defence lawyer defend former worldcom chief bernie ebbers battery fraud charge call company whistleblower first witness cynthia cooper worldcom exhead internal accounting alert director irregular accounting practice u telecoms giant warning lead collapse firm follow discovery £ accounting fraud mr ebbers plead guilty charge fraud conspiracy prosecution lawyer argue mr ebbers orchestrate series accounting trick worldcom order employee hide expense inflate revenue meet wall street earnings estimate ms cooper run consult business tell jury new york wednesday external auditor arthur andersen approve worldcom account early say andersen give green light procedure practice use worldcom mr ebber lawyer say unaware fraud argue auditor alert problem ms cooper also say shareholder meeting mr ebbers often pass technical question company finance chief give brief answer prosecution star witness former worldcom financial chief scott sullivan say mr ebbers order accounting adjustment firm tell hit book however ms cooper say mr sullivan mention anything uncomfortable worldcom accounting audit committee meet mr ebbers could face jail sentence year convict charge face worldcom emerge bankruptcy protection know mci last week mci agree buyout verizon communication deal value\n"
          ]
        }
      ]
    },
    {
      "cell_type": "code",
      "source": [
        "from nltk.tokenize import word_tokenize\n",
        "tokens = word_tokenize(text)\n",
        "print(tokens)"
      ],
      "metadata": {
        "id": "3rLCKxVWlNb_",
        "colab": {
          "base_uri": "https://localhost:8080/"
        },
        "outputId": "2774ab9c-e8b7-4a3c-9182-b27b065f338f"
      },
      "execution_count": null,
      "outputs": [
        {
          "output_type": "stream",
          "name": "stdout",
          "text": [
            "['worldcom', 'exboss', 'launch', 'defence', 'lawyer', 'defend', 'former', 'worldcom', 'chief', 'bernie', 'ebbers', 'battery', 'fraud', 'charge', 'call', 'company', 'whistleblower', 'first', 'witness', 'cynthia', 'cooper', 'worldcom', 'exhead', 'internal', 'accounting', 'alert', 'director', 'irregular', 'accounting', 'practice', 'u', 'telecoms', 'giant', 'warning', 'lead', 'collapse', 'firm', 'follow', 'discovery', '£', 'accounting', 'fraud', 'mr', 'ebbers', 'plead', 'guilty', 'charge', 'fraud', 'conspiracy', 'prosecution', 'lawyer', 'argue', 'mr', 'ebbers', 'orchestrate', 'series', 'accounting', 'trick', 'worldcom', 'order', 'employee', 'hide', 'expense', 'inflate', 'revenue', 'meet', 'wall', 'street', 'earnings', 'estimate', 'ms', 'cooper', 'run', 'consult', 'business', 'tell', 'jury', 'new', 'york', 'wednesday', 'external', 'auditor', 'arthur', 'andersen', 'approve', 'worldcom', 'account', 'early', 'say', 'andersen', 'give', 'green', 'light', 'procedure', 'practice', 'use', 'worldcom', 'mr', 'ebber', 'lawyer', 'say', 'unaware', 'fraud', 'argue', 'auditor', 'alert', 'problem', 'ms', 'cooper', 'also', 'say', 'shareholder', 'meeting', 'mr', 'ebbers', 'often', 'pass', 'technical', 'question', 'company', 'finance', 'chief', 'give', 'brief', 'answer', 'prosecution', 'star', 'witness', 'former', 'worldcom', 'financial', 'chief', 'scott', 'sullivan', 'say', 'mr', 'ebbers', 'order', 'accounting', 'adjustment', 'firm', 'tell', 'hit', 'book', 'however', 'ms', 'cooper', 'say', 'mr', 'sullivan', 'mention', 'anything', 'uncomfortable', 'worldcom', 'accounting', 'audit', 'committee', 'meet', 'mr', 'ebbers', 'could', 'face', 'jail', 'sentence', 'year', 'convict', 'charge', 'face', 'worldcom', 'emerge', 'bankruptcy', 'protection', 'know', 'mci', 'last', 'week', 'mci', 'agree', 'buyout', 'verizon', 'communication', 'deal', 'value']\n"
          ]
        }
      ]
    },
    {
      "cell_type": "code",
      "source": [
        "type(tokens)"
      ],
      "metadata": {
        "id": "hxkddBrUpOdA",
        "colab": {
          "base_uri": "https://localhost:8080/"
        },
        "outputId": "6843b99b-b4d6-451e-d6d1-a4d26613a0e4"
      },
      "execution_count": null,
      "outputs": [
        {
          "output_type": "execute_result",
          "data": {
            "text/plain": [
              "list"
            ]
          },
          "metadata": {},
          "execution_count": 144
        }
      ]
    },
    {
      "cell_type": "code",
      "source": [
        "dataset['tokens'] =0"
      ],
      "metadata": {
        "id": "1e94Xgrl-1Hp"
      },
      "execution_count": null,
      "outputs": []
    },
    {
      "cell_type": "code",
      "source": [
        "from nltk.tokenize import word_tokenize\n",
        "def tokensz(data):\n",
        "    data['tokens'] = data['Text'].apply(word_tokenize)\n",
        "    return data"
      ],
      "metadata": {
        "id": "iVwZC1hklNd9"
      },
      "execution_count": null,
      "outputs": []
    },
    {
      "cell_type": "code",
      "source": [
        "dataset = tokensz(dataset)"
      ],
      "metadata": {
        "id": "J0NVHbWElNg4"
      },
      "execution_count": null,
      "outputs": []
    },
    {
      "cell_type": "code",
      "source": [
        "dataset.head(5)"
      ],
      "metadata": {
        "id": "5HH_ThHxoqWI",
        "colab": {
          "base_uri": "https://localhost:8080/",
          "height": 206
        },
        "outputId": "7020d035-4c74-40a1-e7ed-64741b3c44ad"
      },
      "execution_count": null,
      "outputs": [
        {
          "output_type": "execute_result",
          "data": {
            "text/plain": [
              "   ArticleId                                               Text  Category  \\\n",
              "0       1833  worldcom exboss launch defence lawyer defend f...  business   \n",
              "1        154  german business confidence slides german busin...  business   \n",
              "2       1101  bbc poll indicate economic gloom citizen major...  business   \n",
              "3       1976  lifestyle governs mobile choice faster well fu...      tech   \n",
              "4        917  enron boss payout eighteen former enron direct...  business   \n",
              "\n",
              "   categoryId                                             tokens  \n",
              "0           0  [worldcom, exboss, launch, defence, lawyer, de...  \n",
              "1           0  [german, business, confidence, slides, german,...  \n",
              "2           0  [bbc, poll, indicate, economic, gloom, citizen...  \n",
              "3           1  [lifestyle, governs, mobile, choice, faster, w...  \n",
              "4           0  [enron, boss, payout, eighteen, former, enron,...  "
            ],
            "text/html": [
              "\n",
              "  <div id=\"df-1471fc6d-b565-4f8e-82b4-d8da0cfb5656\">\n",
              "    <div class=\"colab-df-container\">\n",
              "      <div>\n",
              "<style scoped>\n",
              "    .dataframe tbody tr th:only-of-type {\n",
              "        vertical-align: middle;\n",
              "    }\n",
              "\n",
              "    .dataframe tbody tr th {\n",
              "        vertical-align: top;\n",
              "    }\n",
              "\n",
              "    .dataframe thead th {\n",
              "        text-align: right;\n",
              "    }\n",
              "</style>\n",
              "<table border=\"1\" class=\"dataframe\">\n",
              "  <thead>\n",
              "    <tr style=\"text-align: right;\">\n",
              "      <th></th>\n",
              "      <th>ArticleId</th>\n",
              "      <th>Text</th>\n",
              "      <th>Category</th>\n",
              "      <th>categoryId</th>\n",
              "      <th>tokens</th>\n",
              "    </tr>\n",
              "  </thead>\n",
              "  <tbody>\n",
              "    <tr>\n",
              "      <th>0</th>\n",
              "      <td>1833</td>\n",
              "      <td>worldcom exboss launch defence lawyer defend f...</td>\n",
              "      <td>business</td>\n",
              "      <td>0</td>\n",
              "      <td>[worldcom, exboss, launch, defence, lawyer, de...</td>\n",
              "    </tr>\n",
              "    <tr>\n",
              "      <th>1</th>\n",
              "      <td>154</td>\n",
              "      <td>german business confidence slides german busin...</td>\n",
              "      <td>business</td>\n",
              "      <td>0</td>\n",
              "      <td>[german, business, confidence, slides, german,...</td>\n",
              "    </tr>\n",
              "    <tr>\n",
              "      <th>2</th>\n",
              "      <td>1101</td>\n",
              "      <td>bbc poll indicate economic gloom citizen major...</td>\n",
              "      <td>business</td>\n",
              "      <td>0</td>\n",
              "      <td>[bbc, poll, indicate, economic, gloom, citizen...</td>\n",
              "    </tr>\n",
              "    <tr>\n",
              "      <th>3</th>\n",
              "      <td>1976</td>\n",
              "      <td>lifestyle governs mobile choice faster well fu...</td>\n",
              "      <td>tech</td>\n",
              "      <td>1</td>\n",
              "      <td>[lifestyle, governs, mobile, choice, faster, w...</td>\n",
              "    </tr>\n",
              "    <tr>\n",
              "      <th>4</th>\n",
              "      <td>917</td>\n",
              "      <td>enron boss payout eighteen former enron direct...</td>\n",
              "      <td>business</td>\n",
              "      <td>0</td>\n",
              "      <td>[enron, boss, payout, eighteen, former, enron,...</td>\n",
              "    </tr>\n",
              "  </tbody>\n",
              "</table>\n",
              "</div>\n",
              "      <button class=\"colab-df-convert\" onclick=\"convertToInteractive('df-1471fc6d-b565-4f8e-82b4-d8da0cfb5656')\"\n",
              "              title=\"Convert this dataframe to an interactive table.\"\n",
              "              style=\"display:none;\">\n",
              "        \n",
              "  <svg xmlns=\"http://www.w3.org/2000/svg\" height=\"24px\"viewBox=\"0 0 24 24\"\n",
              "       width=\"24px\">\n",
              "    <path d=\"M0 0h24v24H0V0z\" fill=\"none\"/>\n",
              "    <path d=\"M18.56 5.44l.94 2.06.94-2.06 2.06-.94-2.06-.94-.94-2.06-.94 2.06-2.06.94zm-11 1L8.5 8.5l.94-2.06 2.06-.94-2.06-.94L8.5 2.5l-.94 2.06-2.06.94zm10 10l.94 2.06.94-2.06 2.06-.94-2.06-.94-.94-2.06-.94 2.06-2.06.94z\"/><path d=\"M17.41 7.96l-1.37-1.37c-.4-.4-.92-.59-1.43-.59-.52 0-1.04.2-1.43.59L10.3 9.45l-7.72 7.72c-.78.78-.78 2.05 0 2.83L4 21.41c.39.39.9.59 1.41.59.51 0 1.02-.2 1.41-.59l7.78-7.78 2.81-2.81c.8-.78.8-2.07 0-2.86zM5.41 20L4 18.59l7.72-7.72 1.47 1.35L5.41 20z\"/>\n",
              "  </svg>\n",
              "      </button>\n",
              "      \n",
              "  <style>\n",
              "    .colab-df-container {\n",
              "      display:flex;\n",
              "      flex-wrap:wrap;\n",
              "      gap: 12px;\n",
              "    }\n",
              "\n",
              "    .colab-df-convert {\n",
              "      background-color: #E8F0FE;\n",
              "      border: none;\n",
              "      border-radius: 50%;\n",
              "      cursor: pointer;\n",
              "      display: none;\n",
              "      fill: #1967D2;\n",
              "      height: 32px;\n",
              "      padding: 0 0 0 0;\n",
              "      width: 32px;\n",
              "    }\n",
              "\n",
              "    .colab-df-convert:hover {\n",
              "      background-color: #E2EBFA;\n",
              "      box-shadow: 0px 1px 2px rgba(60, 64, 67, 0.3), 0px 1px 3px 1px rgba(60, 64, 67, 0.15);\n",
              "      fill: #174EA6;\n",
              "    }\n",
              "\n",
              "    [theme=dark] .colab-df-convert {\n",
              "      background-color: #3B4455;\n",
              "      fill: #D2E3FC;\n",
              "    }\n",
              "\n",
              "    [theme=dark] .colab-df-convert:hover {\n",
              "      background-color: #434B5C;\n",
              "      box-shadow: 0px 1px 3px 1px rgba(0, 0, 0, 0.15);\n",
              "      filter: drop-shadow(0px 1px 2px rgba(0, 0, 0, 0.3));\n",
              "      fill: #FFFFFF;\n",
              "    }\n",
              "  </style>\n",
              "\n",
              "      <script>\n",
              "        const buttonEl =\n",
              "          document.querySelector('#df-1471fc6d-b565-4f8e-82b4-d8da0cfb5656 button.colab-df-convert');\n",
              "        buttonEl.style.display =\n",
              "          google.colab.kernel.accessAllowed ? 'block' : 'none';\n",
              "\n",
              "        async function convertToInteractive(key) {\n",
              "          const element = document.querySelector('#df-1471fc6d-b565-4f8e-82b4-d8da0cfb5656');\n",
              "          const dataTable =\n",
              "            await google.colab.kernel.invokeFunction('convertToInteractive',\n",
              "                                                     [key], {});\n",
              "          if (!dataTable) return;\n",
              "\n",
              "          const docLinkHtml = 'Like what you see? Visit the ' +\n",
              "            '<a target=\"_blank\" href=https://colab.research.google.com/notebooks/data_table.ipynb>data table notebook</a>'\n",
              "            + ' to learn more about interactive tables.';\n",
              "          element.innerHTML = '';\n",
              "          dataTable['output_type'] = 'display_data';\n",
              "          await google.colab.output.renderOutput(dataTable, element);\n",
              "          const docLink = document.createElement('div');\n",
              "          docLink.innerHTML = docLinkHtml;\n",
              "          element.appendChild(docLink);\n",
              "        }\n",
              "      </script>\n",
              "    </div>\n",
              "  </div>\n",
              "  "
            ]
          },
          "metadata": {},
          "execution_count": 148
        }
      ]
    },
    {
      "cell_type": "code",
      "source": [
        "dataset.shape"
      ],
      "metadata": {
        "id": "JVtYjEA8dgLF",
        "colab": {
          "base_uri": "https://localhost:8080/"
        },
        "outputId": "0aabafb1-697f-4411-ff74-af07f2630494"
      },
      "execution_count": null,
      "outputs": [
        {
          "output_type": "execute_result",
          "data": {
            "text/plain": [
              "(1490, 5)"
            ]
          },
          "metadata": {},
          "execution_count": 149
        }
      ]
    },
    {
      "cell_type": "markdown",
      "source": [
        "**Total unique words - 21092**"
      ],
      "metadata": {
        "id": "OfbpLUV6m4dr"
      }
    },
    {
      "cell_type": "code",
      "source": [
        "# Create a set of all unique words in the dataset\n",
        "vocab = set()\n",
        "for article in dataset['Text']:\n",
        "    for word in article.split():\n",
        "        vocab.add(word)"
      ],
      "metadata": {
        "id": "UO-C7dQvm8DA"
      },
      "execution_count": null,
      "outputs": []
    },
    {
      "cell_type": "code",
      "source": [
        "\n",
        "len(vocab)"
      ],
      "metadata": {
        "colab": {
          "base_uri": "https://localhost:8080/"
        },
        "id": "JTexokxDm9z2",
        "outputId": "23e84bff-4609-4b0a-f6f7-6c572ee98900"
      },
      "execution_count": null,
      "outputs": [
        {
          "output_type": "execute_result",
          "data": {
            "text/plain": [
              "21092"
            ]
          },
          "metadata": {},
          "execution_count": 151
        }
      ]
    },
    {
      "cell_type": "markdown",
      "source": [
        "**Vectorize the Text Data**"
      ],
      "metadata": {
        "id": "wRrS34UfdXv4"
      }
    },
    {
      "cell_type": "code",
      "source": [
        "\n",
        "def build_BBC_matrix(train_data):\n",
        "\n",
        "  from sklearn.feature_extraction.text import CountVectorizer\n",
        "  import pandas as pd\n",
        "\n",
        "  vocab = set()\n",
        "  for article in train_data['Text']:\n",
        "     for word in article.split():\n",
        "         vocab.add(word)\n",
        "  print(len(vocab))\n",
        "\n",
        "  # Create a CountVectorizer object\n",
        "  vectorizer = CountVectorizer(vocabulary=vocab)\n",
        "\n",
        "\n",
        "  # Fit the vectorizer to the text data\n",
        "  X = vectorizer.fit_transform(train_data['Text'])\n",
        "\n",
        "  feature_names = vectorizer.get_feature_names_out()\n",
        "\n",
        "\n",
        "\n",
        "  # Create a DataFrame with the vectorized data and the article IDs as the index\n",
        "  BBC_data_matrix = pd.DataFrame(X.toarray(), columns = feature_names)\n",
        "  print(BBC_data_matrix.shape)\n",
        "  # Add a Category column to BBC_data_matrix and populate it with the category labels\n",
        "  BBC_data_matrix['Category']  = 'nan'\n",
        "  for index in range(BBC_data_matrix.shape[0]):\n",
        "    BBC_data_matrix['Category'].iloc[index] = train_data['Category'].iloc[index]\n",
        "\n",
        "\n",
        "  #BBC_data_matrix['CategoryID'] = y_train['categoryId'].values\n",
        "\n",
        "  # Print the Category column to verify that it has been added correctly\n",
        "  return BBC_data_matrix"
      ],
      "metadata": {
        "id": "OeyKtl5IdbMe"
      },
      "execution_count": null,
      "outputs": []
    },
    {
      "cell_type": "code",
      "source": [
        "# # for word in vocab:\n",
        "  #     tf_icf[word] = {}\n",
        "  #     for category in categories:\n",
        "  #         tf_icf[word][category] = 0\n",
        "           #print(tf_icf[word][category])\n",
        "          #tf_icf[word] = {}\n",
        "          #tf_icf[word][category] = 0\n",
        "          # tf_icf[word][category] = tf[category].get(word) * math.log10(num_classes / cf[word])"
      ],
      "metadata": {
        "id": "763FKnm3SsW4"
      },
      "execution_count": null,
      "outputs": []
    },
    {
      "cell_type": "markdown",
      "source": [
        "**Calculate TF-ICF**"
      ],
      "metadata": {
        "id": "DmHIxl5-sIZZ"
      }
    },
    {
      "cell_type": "code",
      "source": [
        "# ncols = len(list(BBC_data_matrix.columns)) - 2\n",
        "# cols = list(BBC_data_matrix.columns)\n",
        "# for artcID in BBC_data_matrix.index:\n",
        "#   art_category = BBC_data_matrix.loc[artcID]['Category']\n",
        "#   for i in range(ncols):\n",
        "#     if(BBC_data_matrix.loc[artcID][cols[i]] != 0):\n",
        "#       tf_icf_cols = tf_icf_df.loc[cols[i]][art_category]\n",
        "#       BBC_data_matrix.loc[artcID][cols[i]] =  BBC_data_matrix.loc[artcID][cols[i]] * tf_icf_cols \n",
        "    "
      ],
      "metadata": {
        "id": "ctlEuIsklucx"
      },
      "execution_count": null,
      "outputs": []
    },
    {
      "cell_type": "code",
      "source": [
        "# for i in BBC_data_matrix.index:\n",
        "#   if BBC_data_matrix.loc[i]['££']>0:\n",
        "#         print(i)"
      ],
      "metadata": {
        "id": "et3b2rfRSiHf"
      },
      "execution_count": null,
      "outputs": []
    },
    {
      "cell_type": "code",
      "source": [
        "# # get the number of columns in the dataframe\n",
        "# ncols = BBC_data_matrix.shape[1] - 2\n",
        "\n",
        "# # get a list of column names\n",
        "# cols = BBC_data_matrix.columns.tolist()\n",
        "\n",
        "# # loop over the columns and update the values in the dataframe\n",
        "# for col in cols[:-2]:\n",
        "#     # get the row of tf-idf values for the current column and category\n",
        "#     tf_icf_row = tf_icf_df.loc[col, BBC_data_matrix['Category']]\n",
        "#     #print(col)\n",
        "#     #multiply the tf-idf values with the original values in the dataframe\n",
        "#     BBC_data_matrix[col] = BBC_data_matrix[col] * tf_icf_row.values\n"
      ],
      "metadata": {
        "id": "Mv3OOttkTzgh"
      },
      "execution_count": null,
      "outputs": []
    },
    {
      "cell_type": "code",
      "source": [
        "import math\n",
        "import pandas as pd\n",
        "\n",
        "def make_tf_icf(train_data):\n",
        "\n",
        "# Define categories\n",
        "  categories = train_data['Category'].unique()\n",
        "  # Compute TF for each category\n",
        "  tf = {}\n",
        "  for category in categories:\n",
        "      articles = train_data[train_data['Category'] == category]\n",
        "      article_count = len(articles)\n",
        "      tf[category] = {}\n",
        "      for article in articles['Text']:\n",
        "          #print(article)\n",
        "          for word in article.split():\n",
        "              tf[category][word] = tf[category].get(word, 0) + 1\n",
        "\n",
        "  # Compute CF and ICF for each term and category\n",
        "  num_classes = len(categories)\n",
        "  cf = {}\n",
        "  # Compute TF-ICF scores for all words in each category\n",
        "  tf_icf = {}\n",
        " \n",
        "  for category in categories:\n",
        "      for article in tf[category]:\n",
        "          word = article\n",
        "          cf[word] = len([category for category in categories if word in tf[category]])\n",
        "          #print(cf[word])\n",
        "          tf_icf[word] = tf_icf.get(word, {})\n",
        "          tf_icf[word][category] = float(tf[category].get(word)) * float(math.log10(num_classes / cf[word]))\n",
        " \n",
        "  # Create DataFrame of TF-ICF scores\n",
        "  tf_icf_df = pd.DataFrame(tf_icf)\n",
        "  # Transpose the DataFrame\n",
        "  tf_icf_df = tf_icf_df.transpose()\n",
        "\n",
        "  # Display the DataFrame\n",
        "  return tf_icf\n"
      ],
      "metadata": {
        "id": "iPdr2hnDjlI7"
      },
      "execution_count": null,
      "outputs": []
    },
    {
      "cell_type": "code",
      "source": [
        "make_tf_icf(dataset)"
      ],
      "metadata": {
        "id": "vcn0HwmrePQA"
      },
      "execution_count": null,
      "outputs": []
    },
    {
      "cell_type": "code",
      "source": [
        "# cols = BBC_data_matrix.columns\n",
        "# tf_dict = {col: tf[col] for col in cols}\n",
        "\n",
        "# for artcID, row in BBC_data_matrix.iterrows():\n",
        "#     art_category = row['Category']\n",
        "#     for col in cols[:-1]:\n",
        "#         cell_value = row[col]\n",
        "#         if cell_value != 0:\n",
        "#             tf_icf = tf_dict[col][art_category]\n",
        "#             print(cell_value)\n",
        "#             row[col] = tf_icf"
      ],
      "metadata": {
        "id": "3fOG8qvgQ5X9"
      },
      "execution_count": null,
      "outputs": []
    },
    {
      "cell_type": "code",
      "source": [
        "# BBC_data_matrix.iloc[:, 5000:7000]"
      ],
      "metadata": {
        "id": "TWZvIxSTSjKP"
      },
      "execution_count": null,
      "outputs": []
    },
    {
      "cell_type": "code",
      "source": [
        "# cols = list(BBC_data_matrix.columns)\n",
        "# for artcID, row in BBC_data_matrix.iterrows():\n",
        "#   art_category = row['Category']\n",
        "#   for col_name in cols[:-1]:\n",
        "#     print(artcID)\n",
        "#     col_value = row[col_name]\n",
        "#     if col_value != 0:\n",
        "#       tf_icf_col = tf.get(col_name, {}).get(art_category, 0)\n",
        "#       row[col_name] =  tf_icf_col"
      ],
      "metadata": {
        "id": "fR58T9Cv2a7o"
      },
      "execution_count": null,
      "outputs": []
    },
    {
      "cell_type": "code",
      "source": [
        "# import pandas as pd\n",
        "# from sklearn.feature_extraction.text import CountVectorizer\n",
        "\n",
        "# # Sample data\n",
        "# data = {\n",
        "#     \"ArticleId\": [1833, 154, 1101, 1976, 917],\n",
        "#     \"Text\": [\n",
        "#         \"worldcom ex-boss launches defence lawyers defe...\",\n",
        "#         \"german business confidence slides german busin...\",\n",
        "#         \"bbc poll indicates economic gloom citizens in ...\",\n",
        "#         \"lifestyle governs mobile choice faster bett...\",\n",
        "#         \"enron bosses in $168m payout eighteen former e...\"\n",
        "#     ]\n",
        "# }\n",
        "\n",
        "# # Convert data to dataframe\n",
        "# df = pd.DataFrame(data)\n",
        "\n",
        "# # Initialize CountVectorizer with n-gram range from 1 to 3\n",
        "# vectorizer = CountVectorizer(ngram_range=(2, 2))\n",
        "\n",
        "# # Fit and transform the text data to n-gram vectorized form\n",
        "# ngram_matrix = vectorizer.fit_transform(df[\"Text\"])\n",
        "\n",
        "# # Create a new dataframe with the n-gram matrix and article ID as index\n",
        "# ngram_df = pd.DataFrame(\n",
        "#     ngram_matrix.toarray(), columns=vectorizer.get_feature_names_out(), index=df[\"ArticleId\"]\n",
        "# )\n",
        "\n",
        "# # Display the n-gram dataframe\n",
        "# print(ngram_df)"
      ],
      "metadata": {
        "id": "YQY0c2xM-5K7"
      },
      "execution_count": null,
      "outputs": []
    },
    {
      "cell_type": "markdown",
      "source": [
        "# **Naive Bayes Classifier**"
      ],
      "metadata": {
        "id": "DEjUdFd_4tla"
      }
    },
    {
      "cell_type": "code",
      "source": [],
      "metadata": {
        "id": "hBY7OIIYDyu3"
      },
      "execution_count": null,
      "outputs": []
    },
    {
      "cell_type": "code",
      "source": [
        "def predict_documents(docs,nb_prior_proba,words_proba):\n",
        "  #Create an empty dictionary to store the posterior probabilities for each category\n",
        "  nb_posterior_proba = {}\n",
        "  #Create an empty list to store the predicted category for each document\n",
        "  y_pred = []\n",
        "    #preprocess the data\n",
        "  for index, article in docs.iterrows():\n",
        "      for category in nb_prior_proba:\n",
        "\n",
        "      # Calculate the log prior probability for the category\n",
        "        nb_posterior_proba[category] = nb_prior_proba[category]\n",
        "        #print(nb_posterior_proba[category])\n",
        "        for words in article['Text'].split():\n",
        "\n",
        "     # If the feature (word) is in the vocabulary for the category, calculate its probability\n",
        "          if( words in words_proba[category] ):\n",
        "            feature_proba = words_proba[category][words]\n",
        "\n",
        "             # Handle the case when the feature probability is 0\n",
        "            if math.isclose(feature_proba,0):\n",
        "              feature_proba = 0.0\n",
        "            nb_posterior_proba[category]  = nb_posterior_proba[category] + feature_proba\n",
        "          else:\n",
        "    # If the feature (word) is not in the vocabulary for the category, assume a small probability\n",
        "            nb_posterior_proba[category]  = nb_posterior_proba[category] + 0.0\n",
        "\n",
        "  # Find the key (category) with the maximum value (probability)\n",
        "      \n",
        "      max_category = max(nb_posterior_proba, key=nb_posterior_proba.get)\n",
        "      #print(index,nb_posterior_proba)\n",
        "  #for every doc we append category who is giving max probability\n",
        "      y_pred.append(max_category) \n",
        "  \n",
        "\n",
        "  #Return the predicted category for each document\n",
        "  return y_pred\n",
        "\n",
        "\n",
        "\n"
      ],
      "metadata": {
        "id": "vjtaSE7MCZ4Y"
      },
      "execution_count": null,
      "outputs": []
    },
    {
      "cell_type": "code",
      "source": [
        "  # category_tf_icf = {}\n",
        "  # for word in train_tf_icf:\n",
        "  #   for category in categories:\n",
        "  #     if(category in category_tf_icf ):\n",
        "  #       print(category)\n",
        "  #       category_tf_icf[category] += train_tf_icf[word][category]\n",
        "  #     else:\n",
        "  #       category_tf_icf[category] = 0"
      ],
      "metadata": {
        "id": "gtoZDukNB-3k"
      },
      "execution_count": null,
      "outputs": []
    },
    {
      "cell_type": "code",
      "source": [
        "# def build_tf_icf_matrix(BBC_matrix,train_tf_icf):\n",
        "#     # get the number of columns in the dataframe\n",
        "#   ncols = BBC_matrix.shape[1] - 1\n",
        "\n",
        "#   # get a list of column names\n",
        "#   cols = BBC_matrix.columns.tolist()\n",
        "#   for ID in range(BBC_matrix.shape[0]):\n",
        "#     for col in cols[:-1]:\n",
        "#       if(BBC_matrix.iloc[ID][col] > 0):\n",
        "#         category = BBC_matrix.iloc[ID]['Category']\n",
        "#         tf_icf_value = train_tf_icf[col][category]\n",
        "#         BBC_matrix.iloc[ID][col] = BBC_matrix.iloc[ID][col] * tf_icf_value"
      ],
      "metadata": {
        "id": "3WY55UwNVMiM"
      },
      "execution_count": null,
      "outputs": []
    },
    {
      "cell_type": "code",
      "source": [
        "def fit_NBTF_ICF(BBC_data_matrix,train_tf_icf):\n",
        "   # Initialize an empty dictionary to store probabilities of words in each category\n",
        "  words_proba = {}\n",
        "  #Find the unique categories in the training data\n",
        "  categories = BBC_data_matrix['Category'].unique()\n",
        "  #Iterate over each category and each word in that category to calculate its probability\n",
        "  category_tf_icf = {}\n",
        "  for category in categories:\n",
        "    category_tf_icf[category] = 0.0\n",
        "    for word in train_tf_icf:\n",
        "       if category in train_tf_icf[word]:\n",
        "         # Add tf-icf score of the word for the current category to category_tf_icf\n",
        "         category_tf_icf[category] += train_tf_icf[word][category]\n",
        "\n",
        "\n",
        "  words_proba = {}\n",
        "  for categ in categories:\n",
        "      words_proba[categ] = {}\n",
        "     # Iterate over each word and its tf-icf score for the current category\n",
        "      for word in train_tf_icf:\n",
        "        if categ in train_tf_icf[word]:\n",
        "          # Calculate probability of the word in the current category using tf-icf and category_tf_icf\n",
        "          words_proba[categ][word] = train_tf_icf[word][categ] / np.log(category_tf_icf[categ])\n",
        "        else:\n",
        "          words_proba[categ][word] = 0\n",
        "\n",
        "\n",
        "  \n",
        "  #Create an empty dictionary to store the prior probabilities for each category\n",
        "  nb_prior_proba = {}\n",
        "  # Use value_counts() method to count the number of documents in each category\n",
        "  category_counts = BBC_data_matrix['Category'].value_counts()\n",
        "  total_articles = BBC_data_matrix.shape[0]\n",
        "\n",
        "  # Print the counts for each category\n",
        "  for category, count in category_counts.items():\n",
        "    nb_prior_proba[category] = category_counts[category] / total_articles\n",
        "\n",
        "#Return the probabilities for each word in each category and the prior probabilities for each category\n",
        "  return words_proba,nb_prior_proba"
      ],
      "metadata": {
        "id": "4Hl5BKDVUpzy"
      },
      "execution_count": null,
      "outputs": []
    },
    {
      "cell_type": "code",
      "source": [
        "def build_tf_icf_matrix(BBC_matrix, train_tf_icf):\n",
        "    # get the column names excluding the last column\n",
        "    cols = BBC_matrix.columns[:-1]\n",
        "\n",
        "    # loop through each row in the matrix\n",
        "    for i, row in BBC_matrix.iterrows():\n",
        "        # get the category for the current row\n",
        "        category = row['Category']\n",
        "        #print(i)\n",
        "        # loop through each column (excluding the last column)\n",
        "        for col in cols:\n",
        "            # if the value in the current cell is greater than 0\n",
        "            if row[col] > 0:\n",
        "                # get the tf_icf value for the current column and category\n",
        "                # print(col)\n",
        "                if category in train_tf_icf[col]:\n",
        "                  tf_icf_value = train_tf_icf[col][category]\n",
        "                  BBC_matrix.at[i, col] *= tf_icf_value\n",
        "\n",
        "\n",
        "                # update the cell value with the tf_icf value\n",
        "    return BBC_matrix\n"
      ],
      "metadata": {
        "id": "5Ln9VC4uhCHp"
      },
      "execution_count": null,
      "outputs": []
    },
    {
      "cell_type": "code",
      "source": [
        "from sklearn.model_selection import train_test_split\n",
        "\n",
        "\n",
        "  \n",
        "X = dataset.drop(['Category','categoryId'],axis = 1)\n",
        "y = dataset['Category']\n",
        "\n",
        "#Splitting the dataset into training and testing sets\n",
        "X_train, X_test, y_train, y_test = train_test_split(X, y, test_size=0.30,random_state = 42)\n",
        "\n",
        "train_data = X_train\n",
        "train_data['Category'] = y_train\n",
        "\n",
        "#Creating a TF-ICF\n",
        "#weighted term frequency (TF) matrix using the make_tf_icf() function \n",
        "train_tf_icf = make_tf_icf(train_data)\n",
        "\n",
        "#Building a document-term matrix (DTM) using the build_BBC_matrix() function \n",
        "BBC_data_matrix = build_BBC_matrix(train_data)\n",
        "\n",
        "#Building a TF-ICF weighted DTM using the build_tf_icf_matrix() function \n",
        "BBC_data_matrix_rf_icf = build_tf_icf_matrix(BBC_data_matrix,train_tf_icf)\n",
        "\n",
        "#Fitting a Naive Bayes classifier to the training data using the fit_NBTF_ICF()\n",
        "#function from the given code and obtaining the probabilities of features \n",
        "\n",
        "\n",
        "\n",
        "training_features_prob_dict, NB_prior_proba = fit_NBTF_ICF(BBC_data_matrix_rf_icf,train_tf_icf)\n",
        "\n",
        "#Predicting the category labels of the test set \n",
        "#using the predict_documents() function from the given code with the obtained probabilities\n",
        "y_pred = predict_documents( X_test, NB_prior_proba, training_features_prob_dict )\n",
        "\n"
      ],
      "metadata": {
        "colab": {
          "base_uri": "https://localhost:8080/"
        },
        "id": "npmyJAzzOwT4",
        "outputId": "46308d54-c5fe-4803-9c35-30b8c948cc4f"
      },
      "execution_count": null,
      "outputs": [
        {
          "output_type": "stream",
          "name": "stdout",
          "text": [
            "18007\n",
            "(1043, 18007)\n"
          ]
        }
      ]
    },
    {
      "cell_type": "code",
      "source": [
        "BBC_data_matrix_rf_icf.to_pickle(\"BBC_TF_ICF.pkl\")  "
      ],
      "metadata": {
        "id": "-NfcipYuw26y"
      },
      "execution_count": null,
      "outputs": []
    },
    {
      "cell_type": "code",
      "source": [
        "acc = accuracy_score(y_test, y_pred)\n",
        "print(\"Accuracy: {:.2f}%\".format(acc * 100))"
      ],
      "metadata": {
        "colab": {
          "base_uri": "https://localhost:8080/"
        },
        "id": "TqtZ8GixGz0f",
        "outputId": "1193a230-a139-4e40-e8d9-cf388a9f02ef"
      },
      "execution_count": null,
      "outputs": [
        {
          "output_type": "stream",
          "name": "stdout",
          "text": [
            "Accuracy: 94.41%\n"
          ]
        }
      ]
    },
    {
      "cell_type": "code",
      "source": [
        "#Classification Report\n",
        "from sklearn import metrics\n",
        "print(metrics.classification_report(y_test,y_pred))"
      ],
      "metadata": {
        "colab": {
          "base_uri": "https://localhost:8080/"
        },
        "id": "WcTLi7jhu0N6",
        "outputId": "e3b4358a-7f35-4626-db08-3e3fc86cef64"
      },
      "execution_count": null,
      "outputs": [
        {
          "output_type": "stream",
          "name": "stdout",
          "text": [
            "               precision    recall  f1-score   support\n",
            "\n",
            "     business       0.96      0.91      0.93        97\n",
            "entertainment       0.95      0.91      0.93        79\n",
            "     politics       0.92      0.96      0.94        76\n",
            "        sport       0.97      0.99      0.98       110\n",
            "         tech       0.91      0.94      0.92        85\n",
            "\n",
            "     accuracy                           0.94       447\n",
            "    macro avg       0.94      0.94      0.94       447\n",
            " weighted avg       0.94      0.94      0.94       447\n",
            "\n"
          ]
        }
      ]
    },
    {
      "cell_type": "markdown",
      "source": [
        "**Improving the classifier:\n",
        "improve\n",
        "the performance of the classifier( including different splits like 60-40,80-20,\n",
        "50-50).**"
      ],
      "metadata": {
        "id": "gOBkVvd02fWy"
      }
    },
    {
      "cell_type": "code",
      "source": [
        "from sklearn.model_selection import train_test_split\n",
        "\n",
        "ratios = [0.2, 0.4, 0.5]\n",
        "\n",
        "for test_ratio in ratios:\n",
        "\n",
        "  X = dataset.drop(['Category','categoryId'],axis = 1)\n",
        "  y = dataset['Category']\n",
        "\n",
        "  #Splitting the dataset into training and testing sets\n",
        "  X_train, X_test, y_train, y_test = train_test_split(X, y, test_size = test_ratio,random_state = 42)\n",
        "\n",
        "  train_data = X_train\n",
        "  train_data['Category'] = y_train\n",
        "\n",
        "  #Creating a TF-ICF\n",
        "  #weighted term frequency (TF) matrix using the make_tf_icf() function \n",
        "  train_tf_icf = make_tf_icf(train_data)\n",
        "\n",
        "  #Building a document-term matrix (DTM) using the build_BBC_matrix() function \n",
        "  BBC_data_matrix = build_BBC_matrix(train_data)\n",
        "\n",
        "  #Building a TF-ICF weighted DTM using the build_tf_icf_matrix() function \n",
        "  BBC_data_matrix_rf_icf = build_tf_icf_matrix(BBC_data_matrix,train_tf_icf)\n",
        "\n",
        "  #Fitting a Naive Bayes classifier to the training data using the fit_NBTF_ICF()\n",
        "  #function from the given code and obtaining the probabilities of features \n",
        "\n",
        "\n",
        "\n",
        "  training_features_prob_dict, NB_prior_proba = fit_NBTF_ICF(BBC_data_matrix_rf_icf,train_tf_icf)\n",
        "\n",
        "  #Predicting the category labels of the test set \n",
        "  #using the predict_documents() function from the given code with the obtained probabilities\n",
        "  y_pred = predict_documents( X_test, NB_prior_proba, training_features_prob_dict )\n",
        "\n",
        "  acc = accuracy_score(y_test, y_pred)\n",
        "  print(\"With Test Ratio =  {:.2f}% and Accuracy: {:.2f}%\".format(test_ratio,acc * 100))\n",
        "\n"
      ],
      "metadata": {
        "colab": {
          "base_uri": "https://localhost:8080/"
        },
        "id": "plbzWgWxx46r",
        "outputId": "e23962cd-cca8-42d5-938f-90c90c32bfd3"
      },
      "execution_count": null,
      "outputs": [
        {
          "output_type": "stream",
          "name": "stdout",
          "text": [
            "19051\n",
            "(1192, 19051)\n",
            "With Test Ratio =  0.20% and Accuracy: 96.64%\n",
            "16508\n",
            "(894, 16508)\n",
            "With Test Ratio =  0.40% and Accuracy: 97.32%\n",
            "15092\n",
            "(745, 15092)\n",
            "With Test Ratio =  0.50% and Accuracy: 96.91%\n"
          ]
        }
      ]
    },
    {
      "cell_type": "markdown",
      "source": [
        "**Try using different types of features such as n-grams or TF-IDF weights.**"
      ],
      "metadata": {
        "id": "kzYQ1-oW21vJ"
      }
    },
    {
      "cell_type": "markdown",
      "source": [
        "**Using N-grams**"
      ],
      "metadata": {
        "id": "HDmltNzG2-JU"
      }
    },
    {
      "cell_type": "code",
      "source": [
        "import pandas as pd\n",
        "from sklearn.feature_extraction.text import CountVectorizer\n",
        "\n",
        "\n",
        "# Initialize CountVectorizer with n-gram range from 1 to 3\n",
        "vectorizer = CountVectorizer(ngram_range=(2, 2)) #bigrams\n",
        "\n",
        "# Fit and transform the text data to n-gram vectorized form\n",
        "ngram_matrix = vectorizer.fit_transform(dataset[\"Text\"])\n",
        "\n",
        "# Create a new dataframe with the n-gram matrix and article ID as index\n",
        "ngram_df = pd.DataFrame(ngram_matrix.toarray(), columns=vectorizer.get_feature_names_out())\n",
        "\n",
        "# Display the n-gram dataframe\n",
        "ngram_df"
      ],
      "metadata": {
        "colab": {
          "base_uri": "https://localhost:8080/",
          "height": 505
        },
        "id": "BoX0vej8nXej",
        "outputId": "bc6eca5d-237c-4864-df9d-b49d0d22f4b4"
      },
      "execution_count": null,
      "outputs": [
        {
          "output_type": "execute_result",
          "data": {
            "text/plain": [
              "      aa motor  aaa championship  aaa indoor  aaa long  aaa title  \\\n",
              "0            0                 0           0         0          0   \n",
              "1            0                 0           0         0          0   \n",
              "2            0                 0           0         0          0   \n",
              "3            0                 0           0         0          0   \n",
              "4            0                 0           0         0          0   \n",
              "...        ...               ...         ...       ...        ...   \n",
              "1485         0                 0           0         0          0   \n",
              "1486         0                 0           0         0          0   \n",
              "1487         0                 0           0         0          0   \n",
              "1488         0                 0           0         0          0   \n",
              "1489         0                 0           0         0          0   \n",
              "\n",
              "      aaas american  aac baddeley  aac ed  aac endacott  aadc oversee  ...  \\\n",
              "0                 0             0       0             0             0  ...   \n",
              "1                 0             0       0             0             0  ...   \n",
              "2                 0             0       0             0             0  ...   \n",
              "3                 0             0       0             0             0  ...   \n",
              "4                 0             0       0             0             0  ...   \n",
              "...             ...           ...     ...           ...           ...  ...   \n",
              "1485              0             0       0             0             0  ...   \n",
              "1486              0             0       0             0             0  ...   \n",
              "1487              0             0       0             0             0  ...   \n",
              "1488              0             0       0             0             0  ...   \n",
              "1489              0             0       0             0             0  ...   \n",
              "\n",
              "      zorro star  zuluaga colombia  zurich accord  zurich londonbased  \\\n",
              "0              0                 0              0                   0   \n",
              "1              0                 0              0                   0   \n",
              "2              0                 0              0                   0   \n",
              "3              0                 0              0                   0   \n",
              "4              0                 0              0                   0   \n",
              "...          ...               ...            ...                 ...   \n",
              "1485           0                 0              0                   0   \n",
              "1486           0                 0              0                   0   \n",
              "1487           0                 0              0                   0   \n",
              "1488           0                 0              0                   0   \n",
              "1489           0                 0              0                   0   \n",
              "\n",
              "      zurich premiership  zutons estelle  zvonareva lose  zvonareva russia  \\\n",
              "0                      0               0               0                 0   \n",
              "1                      0               0               0                 0   \n",
              "2                      0               0               0                 0   \n",
              "3                      0               0               0                 0   \n",
              "4                      0               0               0                 0   \n",
              "...                  ...             ...             ...               ...   \n",
              "1485                   0               0               0                 0   \n",
              "1486                   0               0               0                 0   \n",
              "1487                   0               0               0                 0   \n",
              "1488                   0               0               0                 0   \n",
              "1489                   0               0               0                 0   \n",
              "\n",
              "      zvonareva struggle  zvonareva wimbledon  \n",
              "0                      0                    0  \n",
              "1                      0                    0  \n",
              "2                      0                    0  \n",
              "3                      0                    0  \n",
              "4                      0                    0  \n",
              "...                  ...                  ...  \n",
              "1485                   0                    0  \n",
              "1486                   0                    0  \n",
              "1487                   0                    0  \n",
              "1488                   0                    0  \n",
              "1489                   0                    0  \n",
              "\n",
              "[1490 rows x 218400 columns]"
            ],
            "text/html": [
              "\n",
              "  <div id=\"df-dacd73ea-24a4-4ac0-b459-45914bf6d60b\">\n",
              "    <div class=\"colab-df-container\">\n",
              "      <div>\n",
              "<style scoped>\n",
              "    .dataframe tbody tr th:only-of-type {\n",
              "        vertical-align: middle;\n",
              "    }\n",
              "\n",
              "    .dataframe tbody tr th {\n",
              "        vertical-align: top;\n",
              "    }\n",
              "\n",
              "    .dataframe thead th {\n",
              "        text-align: right;\n",
              "    }\n",
              "</style>\n",
              "<table border=\"1\" class=\"dataframe\">\n",
              "  <thead>\n",
              "    <tr style=\"text-align: right;\">\n",
              "      <th></th>\n",
              "      <th>aa motor</th>\n",
              "      <th>aaa championship</th>\n",
              "      <th>aaa indoor</th>\n",
              "      <th>aaa long</th>\n",
              "      <th>aaa title</th>\n",
              "      <th>aaas american</th>\n",
              "      <th>aac baddeley</th>\n",
              "      <th>aac ed</th>\n",
              "      <th>aac endacott</th>\n",
              "      <th>aadc oversee</th>\n",
              "      <th>...</th>\n",
              "      <th>zorro star</th>\n",
              "      <th>zuluaga colombia</th>\n",
              "      <th>zurich accord</th>\n",
              "      <th>zurich londonbased</th>\n",
              "      <th>zurich premiership</th>\n",
              "      <th>zutons estelle</th>\n",
              "      <th>zvonareva lose</th>\n",
              "      <th>zvonareva russia</th>\n",
              "      <th>zvonareva struggle</th>\n",
              "      <th>zvonareva wimbledon</th>\n",
              "    </tr>\n",
              "  </thead>\n",
              "  <tbody>\n",
              "    <tr>\n",
              "      <th>0</th>\n",
              "      <td>0</td>\n",
              "      <td>0</td>\n",
              "      <td>0</td>\n",
              "      <td>0</td>\n",
              "      <td>0</td>\n",
              "      <td>0</td>\n",
              "      <td>0</td>\n",
              "      <td>0</td>\n",
              "      <td>0</td>\n",
              "      <td>0</td>\n",
              "      <td>...</td>\n",
              "      <td>0</td>\n",
              "      <td>0</td>\n",
              "      <td>0</td>\n",
              "      <td>0</td>\n",
              "      <td>0</td>\n",
              "      <td>0</td>\n",
              "      <td>0</td>\n",
              "      <td>0</td>\n",
              "      <td>0</td>\n",
              "      <td>0</td>\n",
              "    </tr>\n",
              "    <tr>\n",
              "      <th>1</th>\n",
              "      <td>0</td>\n",
              "      <td>0</td>\n",
              "      <td>0</td>\n",
              "      <td>0</td>\n",
              "      <td>0</td>\n",
              "      <td>0</td>\n",
              "      <td>0</td>\n",
              "      <td>0</td>\n",
              "      <td>0</td>\n",
              "      <td>0</td>\n",
              "      <td>...</td>\n",
              "      <td>0</td>\n",
              "      <td>0</td>\n",
              "      <td>0</td>\n",
              "      <td>0</td>\n",
              "      <td>0</td>\n",
              "      <td>0</td>\n",
              "      <td>0</td>\n",
              "      <td>0</td>\n",
              "      <td>0</td>\n",
              "      <td>0</td>\n",
              "    </tr>\n",
              "    <tr>\n",
              "      <th>2</th>\n",
              "      <td>0</td>\n",
              "      <td>0</td>\n",
              "      <td>0</td>\n",
              "      <td>0</td>\n",
              "      <td>0</td>\n",
              "      <td>0</td>\n",
              "      <td>0</td>\n",
              "      <td>0</td>\n",
              "      <td>0</td>\n",
              "      <td>0</td>\n",
              "      <td>...</td>\n",
              "      <td>0</td>\n",
              "      <td>0</td>\n",
              "      <td>0</td>\n",
              "      <td>0</td>\n",
              "      <td>0</td>\n",
              "      <td>0</td>\n",
              "      <td>0</td>\n",
              "      <td>0</td>\n",
              "      <td>0</td>\n",
              "      <td>0</td>\n",
              "    </tr>\n",
              "    <tr>\n",
              "      <th>3</th>\n",
              "      <td>0</td>\n",
              "      <td>0</td>\n",
              "      <td>0</td>\n",
              "      <td>0</td>\n",
              "      <td>0</td>\n",
              "      <td>0</td>\n",
              "      <td>0</td>\n",
              "      <td>0</td>\n",
              "      <td>0</td>\n",
              "      <td>0</td>\n",
              "      <td>...</td>\n",
              "      <td>0</td>\n",
              "      <td>0</td>\n",
              "      <td>0</td>\n",
              "      <td>0</td>\n",
              "      <td>0</td>\n",
              "      <td>0</td>\n",
              "      <td>0</td>\n",
              "      <td>0</td>\n",
              "      <td>0</td>\n",
              "      <td>0</td>\n",
              "    </tr>\n",
              "    <tr>\n",
              "      <th>4</th>\n",
              "      <td>0</td>\n",
              "      <td>0</td>\n",
              "      <td>0</td>\n",
              "      <td>0</td>\n",
              "      <td>0</td>\n",
              "      <td>0</td>\n",
              "      <td>0</td>\n",
              "      <td>0</td>\n",
              "      <td>0</td>\n",
              "      <td>0</td>\n",
              "      <td>...</td>\n",
              "      <td>0</td>\n",
              "      <td>0</td>\n",
              "      <td>0</td>\n",
              "      <td>0</td>\n",
              "      <td>0</td>\n",
              "      <td>0</td>\n",
              "      <td>0</td>\n",
              "      <td>0</td>\n",
              "      <td>0</td>\n",
              "      <td>0</td>\n",
              "    </tr>\n",
              "    <tr>\n",
              "      <th>...</th>\n",
              "      <td>...</td>\n",
              "      <td>...</td>\n",
              "      <td>...</td>\n",
              "      <td>...</td>\n",
              "      <td>...</td>\n",
              "      <td>...</td>\n",
              "      <td>...</td>\n",
              "      <td>...</td>\n",
              "      <td>...</td>\n",
              "      <td>...</td>\n",
              "      <td>...</td>\n",
              "      <td>...</td>\n",
              "      <td>...</td>\n",
              "      <td>...</td>\n",
              "      <td>...</td>\n",
              "      <td>...</td>\n",
              "      <td>...</td>\n",
              "      <td>...</td>\n",
              "      <td>...</td>\n",
              "      <td>...</td>\n",
              "      <td>...</td>\n",
              "    </tr>\n",
              "    <tr>\n",
              "      <th>1485</th>\n",
              "      <td>0</td>\n",
              "      <td>0</td>\n",
              "      <td>0</td>\n",
              "      <td>0</td>\n",
              "      <td>0</td>\n",
              "      <td>0</td>\n",
              "      <td>0</td>\n",
              "      <td>0</td>\n",
              "      <td>0</td>\n",
              "      <td>0</td>\n",
              "      <td>...</td>\n",
              "      <td>0</td>\n",
              "      <td>0</td>\n",
              "      <td>0</td>\n",
              "      <td>0</td>\n",
              "      <td>0</td>\n",
              "      <td>0</td>\n",
              "      <td>0</td>\n",
              "      <td>0</td>\n",
              "      <td>0</td>\n",
              "      <td>0</td>\n",
              "    </tr>\n",
              "    <tr>\n",
              "      <th>1486</th>\n",
              "      <td>0</td>\n",
              "      <td>0</td>\n",
              "      <td>0</td>\n",
              "      <td>0</td>\n",
              "      <td>0</td>\n",
              "      <td>0</td>\n",
              "      <td>0</td>\n",
              "      <td>0</td>\n",
              "      <td>0</td>\n",
              "      <td>0</td>\n",
              "      <td>...</td>\n",
              "      <td>0</td>\n",
              "      <td>0</td>\n",
              "      <td>0</td>\n",
              "      <td>0</td>\n",
              "      <td>0</td>\n",
              "      <td>0</td>\n",
              "      <td>0</td>\n",
              "      <td>0</td>\n",
              "      <td>0</td>\n",
              "      <td>0</td>\n",
              "    </tr>\n",
              "    <tr>\n",
              "      <th>1487</th>\n",
              "      <td>0</td>\n",
              "      <td>0</td>\n",
              "      <td>0</td>\n",
              "      <td>0</td>\n",
              "      <td>0</td>\n",
              "      <td>0</td>\n",
              "      <td>0</td>\n",
              "      <td>0</td>\n",
              "      <td>0</td>\n",
              "      <td>0</td>\n",
              "      <td>...</td>\n",
              "      <td>0</td>\n",
              "      <td>0</td>\n",
              "      <td>0</td>\n",
              "      <td>0</td>\n",
              "      <td>0</td>\n",
              "      <td>0</td>\n",
              "      <td>0</td>\n",
              "      <td>0</td>\n",
              "      <td>0</td>\n",
              "      <td>0</td>\n",
              "    </tr>\n",
              "    <tr>\n",
              "      <th>1488</th>\n",
              "      <td>0</td>\n",
              "      <td>0</td>\n",
              "      <td>0</td>\n",
              "      <td>0</td>\n",
              "      <td>0</td>\n",
              "      <td>0</td>\n",
              "      <td>0</td>\n",
              "      <td>0</td>\n",
              "      <td>0</td>\n",
              "      <td>0</td>\n",
              "      <td>...</td>\n",
              "      <td>0</td>\n",
              "      <td>0</td>\n",
              "      <td>0</td>\n",
              "      <td>0</td>\n",
              "      <td>0</td>\n",
              "      <td>0</td>\n",
              "      <td>0</td>\n",
              "      <td>0</td>\n",
              "      <td>0</td>\n",
              "      <td>0</td>\n",
              "    </tr>\n",
              "    <tr>\n",
              "      <th>1489</th>\n",
              "      <td>0</td>\n",
              "      <td>0</td>\n",
              "      <td>0</td>\n",
              "      <td>0</td>\n",
              "      <td>0</td>\n",
              "      <td>0</td>\n",
              "      <td>0</td>\n",
              "      <td>0</td>\n",
              "      <td>0</td>\n",
              "      <td>0</td>\n",
              "      <td>...</td>\n",
              "      <td>0</td>\n",
              "      <td>0</td>\n",
              "      <td>0</td>\n",
              "      <td>0</td>\n",
              "      <td>0</td>\n",
              "      <td>0</td>\n",
              "      <td>0</td>\n",
              "      <td>0</td>\n",
              "      <td>0</td>\n",
              "      <td>0</td>\n",
              "    </tr>\n",
              "  </tbody>\n",
              "</table>\n",
              "<p>1490 rows × 218400 columns</p>\n",
              "</div>\n",
              "      <button class=\"colab-df-convert\" onclick=\"convertToInteractive('df-dacd73ea-24a4-4ac0-b459-45914bf6d60b')\"\n",
              "              title=\"Convert this dataframe to an interactive table.\"\n",
              "              style=\"display:none;\">\n",
              "        \n",
              "  <svg xmlns=\"http://www.w3.org/2000/svg\" height=\"24px\"viewBox=\"0 0 24 24\"\n",
              "       width=\"24px\">\n",
              "    <path d=\"M0 0h24v24H0V0z\" fill=\"none\"/>\n",
              "    <path d=\"M18.56 5.44l.94 2.06.94-2.06 2.06-.94-2.06-.94-.94-2.06-.94 2.06-2.06.94zm-11 1L8.5 8.5l.94-2.06 2.06-.94-2.06-.94L8.5 2.5l-.94 2.06-2.06.94zm10 10l.94 2.06.94-2.06 2.06-.94-2.06-.94-.94-2.06-.94 2.06-2.06.94z\"/><path d=\"M17.41 7.96l-1.37-1.37c-.4-.4-.92-.59-1.43-.59-.52 0-1.04.2-1.43.59L10.3 9.45l-7.72 7.72c-.78.78-.78 2.05 0 2.83L4 21.41c.39.39.9.59 1.41.59.51 0 1.02-.2 1.41-.59l7.78-7.78 2.81-2.81c.8-.78.8-2.07 0-2.86zM5.41 20L4 18.59l7.72-7.72 1.47 1.35L5.41 20z\"/>\n",
              "  </svg>\n",
              "      </button>\n",
              "      \n",
              "  <style>\n",
              "    .colab-df-container {\n",
              "      display:flex;\n",
              "      flex-wrap:wrap;\n",
              "      gap: 12px;\n",
              "    }\n",
              "\n",
              "    .colab-df-convert {\n",
              "      background-color: #E8F0FE;\n",
              "      border: none;\n",
              "      border-radius: 50%;\n",
              "      cursor: pointer;\n",
              "      display: none;\n",
              "      fill: #1967D2;\n",
              "      height: 32px;\n",
              "      padding: 0 0 0 0;\n",
              "      width: 32px;\n",
              "    }\n",
              "\n",
              "    .colab-df-convert:hover {\n",
              "      background-color: #E2EBFA;\n",
              "      box-shadow: 0px 1px 2px rgba(60, 64, 67, 0.3), 0px 1px 3px 1px rgba(60, 64, 67, 0.15);\n",
              "      fill: #174EA6;\n",
              "    }\n",
              "\n",
              "    [theme=dark] .colab-df-convert {\n",
              "      background-color: #3B4455;\n",
              "      fill: #D2E3FC;\n",
              "    }\n",
              "\n",
              "    [theme=dark] .colab-df-convert:hover {\n",
              "      background-color: #434B5C;\n",
              "      box-shadow: 0px 1px 3px 1px rgba(0, 0, 0, 0.15);\n",
              "      filter: drop-shadow(0px 1px 2px rgba(0, 0, 0, 0.3));\n",
              "      fill: #FFFFFF;\n",
              "    }\n",
              "  </style>\n",
              "\n",
              "      <script>\n",
              "        const buttonEl =\n",
              "          document.querySelector('#df-dacd73ea-24a4-4ac0-b459-45914bf6d60b button.colab-df-convert');\n",
              "        buttonEl.style.display =\n",
              "          google.colab.kernel.accessAllowed ? 'block' : 'none';\n",
              "\n",
              "        async function convertToInteractive(key) {\n",
              "          const element = document.querySelector('#df-dacd73ea-24a4-4ac0-b459-45914bf6d60b');\n",
              "          const dataTable =\n",
              "            await google.colab.kernel.invokeFunction('convertToInteractive',\n",
              "                                                     [key], {});\n",
              "          if (!dataTable) return;\n",
              "\n",
              "          const docLinkHtml = 'Like what you see? Visit the ' +\n",
              "            '<a target=\"_blank\" href=https://colab.research.google.com/notebooks/data_table.ipynb>data table notebook</a>'\n",
              "            + ' to learn more about interactive tables.';\n",
              "          element.innerHTML = '';\n",
              "          dataTable['output_type'] = 'display_data';\n",
              "          await google.colab.output.renderOutput(dataTable, element);\n",
              "          const docLink = document.createElement('div');\n",
              "          docLink.innerHTML = docLinkHtml;\n",
              "          element.appendChild(docLink);\n",
              "        }\n",
              "      </script>\n",
              "    </div>\n",
              "  </div>\n",
              "  "
            ]
          },
          "metadata": {},
          "execution_count": 230
        }
      ]
    },
    {
      "cell_type": "code",
      "source": [
        "ngram_df['Category'] = dataset['Category']\n"
      ],
      "metadata": {
        "id": "sCgxRcCg3gSh"
      },
      "execution_count": null,
      "outputs": []
    },
    {
      "cell_type": "markdown",
      "source": [
        "**Improving Classifier**"
      ],
      "metadata": {
        "id": "HhTsnF1G3a0k"
      }
    },
    {
      "cell_type": "code",
      "source": [
        "from sklearn.naive_bayes import MultinomialNB\n",
        "from sklearn.model_selection import train_test_split\n",
        "\n",
        "X = ngram_df.drop(['Category'],axis = 1)\n",
        "y = ngram_df['Category']\n",
        "\n",
        "X_train, X_test, y_train, y_test = train_test_split(X, y, test_size=0.30, random_state=42)\n",
        "\n",
        "\n",
        "#Fit the model\n",
        "nb=MultinomialNB()\n",
        "nb=nb.fit(X_train,y_train)"
      ],
      "metadata": {
        "id": "CqAtU8Me3a0k"
      },
      "execution_count": null,
      "outputs": []
    },
    {
      "cell_type": "code",
      "source": [
        "predicted=nb.predict(X_test)"
      ],
      "metadata": {
        "id": "SDZ_F7413a0k"
      },
      "execution_count": null,
      "outputs": []
    },
    {
      "cell_type": "code",
      "source": [
        "#Classification Report\n",
        "from sklearn import metrics\n",
        "print(metrics.classification_report(y_test,predicted))"
      ],
      "metadata": {
        "colab": {
          "base_uri": "https://localhost:8080/"
        },
        "id": "LCWJvVBZ3a0k",
        "outputId": "073b6674-653a-43c7-9257-49c35ee1d2c3"
      },
      "execution_count": null,
      "outputs": [
        {
          "output_type": "stream",
          "name": "stdout",
          "text": [
            "               precision    recall  f1-score   support\n",
            "\n",
            "     business       1.00      0.96      0.98       108\n",
            "entertainment       0.96      0.99      0.97        79\n",
            "     politics       0.93      0.97      0.95        86\n",
            "        sport       0.99      0.99      0.99       101\n",
            "         tech       0.93      0.92      0.92        73\n",
            "\n",
            "     accuracy                           0.97       447\n",
            "    macro avg       0.96      0.96      0.96       447\n",
            " weighted avg       0.97      0.97      0.97       447\n",
            "\n"
          ]
        }
      ]
    },
    {
      "cell_type": "markdown",
      "source": [
        "**TF-IDF Weights**"
      ],
      "metadata": {
        "id": "CRPNVN62nYOX"
      }
    },
    {
      "cell_type": "code",
      "source": [
        "from sklearn.feature_extraction.text import TfidfVectorizer\n",
        "\n",
        "vectorizer = TfidfVectorizer(vocabulary=vocab)\n",
        "\n",
        "X = vectorizer.fit_transform(dataset['Text'])\n",
        "\n",
        "feature_names = vectorizer.get_feature_names_out()\n",
        "\n",
        "  # Create a DataFrame with the vectorized data and the article IDs as the index\n",
        "BBC_data_matrix_tf_idf = pd.DataFrame(X.toarray(), columns = feature_names)\n",
        "\n",
        "  # Add a Category column to BBC_data_matrix and populate it with the category labels\n",
        "BBC_data_matrix_tf_idf['Category'] = dataset['Category']\n",
        "\n",
        "\n",
        "print(BBC_data_matrix_tf_idf.head(5))"
      ],
      "metadata": {
        "id": "6lVxNV09nXaK",
        "colab": {
          "base_uri": "https://localhost:8080/"
        },
        "outputId": "ee90b569-ba98-404e-cde5-480fb5fcdeb7"
      },
      "execution_count": null,
      "outputs": [
        {
          "output_type": "stream",
          "name": "stdout",
          "text": [
            "    aa  aaa  aaas  aac  aadc  aaliyah  aaltra  aamir  aaron  abacus  ...  \\\n",
            "0  0.0  0.0   0.0  0.0   0.0      0.0     0.0    0.0    0.0     0.0  ...   \n",
            "1  0.0  0.0   0.0  0.0   0.0      0.0     0.0    0.0    0.0     0.0  ...   \n",
            "2  0.0  0.0   0.0  0.0   0.0      0.0     0.0    0.0    0.0     0.0  ...   \n",
            "3  0.0  0.0   0.0  0.0   0.0      0.0     0.0    0.0    0.0     0.0  ...   \n",
            "4  0.0  0.0   0.0  0.0   0.0      0.0     0.0    0.0    0.0     0.0  ...   \n",
            "\n",
            "   zoom  zooropa  zorro  zuluaga  zurich  zutons  zvonareva    £   ££  \\\n",
            "0   0.0      0.0    0.0      0.0     0.0     0.0        0.0  0.0  0.0   \n",
            "1   0.0      0.0    0.0      0.0     0.0     0.0        0.0  0.0  0.0   \n",
            "2   0.0      0.0    0.0      0.0     0.0     0.0        0.0  0.0  0.0   \n",
            "3   0.0      0.0    0.0      0.0     0.0     0.0        0.0  0.0  0.0   \n",
            "4   0.0      0.0    0.0      0.0     0.0     0.0        0.0  0.0  0.0   \n",
            "\n",
            "   Category  \n",
            "0  business  \n",
            "1  business  \n",
            "2  business  \n",
            "3      tech  \n",
            "4  business  \n",
            "\n",
            "[5 rows x 21093 columns]\n"
          ]
        }
      ]
    },
    {
      "cell_type": "markdown",
      "source": [
        "**Improving Classifier**"
      ],
      "metadata": {
        "id": "AZVDHNlU3Tcw"
      }
    },
    {
      "cell_type": "code",
      "source": [
        "from sklearn.naive_bayes import MultinomialNB\n",
        "from sklearn.model_selection import train_test_split\n",
        "\n",
        "X = BBC_data_matrix_tf_idf.drop(['Category'],axis = 1)\n",
        "y = BBC_data_matrix_tf_idf['Category']\n",
        "\n",
        "X_train, X_test, y_train, y_test = train_test_split(X, y, test_size=0.50, random_state=42)\n",
        "\n",
        "\n",
        "#Fit the model\n",
        "nb=MultinomialNB()\n",
        "nb=nb.fit(X_train,y_train)"
      ],
      "metadata": {
        "id": "MeP-JPh2rv3o"
      },
      "execution_count": null,
      "outputs": []
    },
    {
      "cell_type": "code",
      "source": [
        "predicted=nb.predict(X_test)"
      ],
      "metadata": {
        "id": "32aIKqwPnXg2"
      },
      "execution_count": null,
      "outputs": []
    },
    {
      "cell_type": "code",
      "source": [
        "#Classification Report\n",
        "from sklearn import metrics\n",
        "print(metrics.classification_report(y_test,predicted))"
      ],
      "metadata": {
        "id": "tmj-2duynXjo",
        "colab": {
          "base_uri": "https://localhost:8080/"
        },
        "outputId": "d0913ec7-8e45-453c-cc2a-f3c3b0f859fa"
      },
      "execution_count": null,
      "outputs": [
        {
          "output_type": "stream",
          "name": "stdout",
          "text": [
            "               precision    recall  f1-score   support\n",
            "\n",
            "     business       0.95      0.98      0.97       171\n",
            "entertainment       1.00      0.95      0.98       130\n",
            "     politics       0.94      0.94      0.94       142\n",
            "        sport       0.94      1.00      0.97       164\n",
            "         tech       0.98      0.91      0.94       138\n",
            "\n",
            "     accuracy                           0.96       745\n",
            "    macro avg       0.96      0.96      0.96       745\n",
            " weighted avg       0.96      0.96      0.96       745\n",
            "\n"
          ]
        }
      ]
    },
    {
      "cell_type": "code",
      "source": [],
      "metadata": {
        "id": "QUBMeAN9291K"
      },
      "execution_count": null,
      "outputs": []
    },
    {
      "cell_type": "markdown",
      "source": [
        "**preprocessing function**"
      ],
      "metadata": {
        "id": "H6W3BoIrLwH2"
      }
    },
    {
      "cell_type": "code",
      "source": [
        "# def preprocessing(document): #preprocess\n",
        "#    #print(\"doc---\",document)\n",
        "#    document = document.lower() #convert text to LowerCase\n",
        "#    document = remove_punctuation(document) #Removal of Punctuations\n",
        "#    document = remove_stopwords(document) #Removal of  StopWords\n",
        "#    document = lemmatize_words(document) #Lemmatization\n",
        "#    return document"
      ],
      "metadata": {
        "id": "7iyEiGZeQ0gS"
      },
      "execution_count": null,
      "outputs": []
    },
    {
      "cell_type": "code",
      "source": [
        "# from sklearn.naive_bayes import MultinomialNB\n",
        "# from sklearn.model_selection import train_test_split\n",
        "\n",
        "# X = BBC_data_matrix.drop(['Category','CategoryID'],axis = 1)\n",
        "# y = BBC_data_matrix['CategoryID']\n",
        "\n",
        "# #tf_icf for training data\n",
        "# train_tf_icf = make_tf_icf(X_train,y_train)\n",
        "\n",
        "# #fit the model\n",
        "# featuresProbabilities = fit_NBTF_ICF(X_train,y_train,train_tf_icf)\n",
        "\n",
        "# X_train, X_test, y_train, y_test = train_test_split(X, y, test_size=0.33, random_state=42)\n",
        "\n",
        "\n",
        "# #Fit the model\n",
        "# nb=MultinomialNB(random_state=42)\n",
        "# nb=nb.fit(X_train,y_train)"
      ],
      "metadata": {
        "id": "Xq0Psf0dsvAH"
      },
      "execution_count": null,
      "outputs": []
    },
    {
      "cell_type": "code",
      "source": [
        "# from collections import defaultdict\n",
        "# import math\n",
        "\n",
        "# def calculate_tf_icf(documents):\n",
        "#     tf = defaultdict(lambda: defaultdict(int))\n",
        "#     cf = defaultdict(int)\n",
        "#     for i in range(len(documents)):\n",
        "#         document = documents.iloc[i]\n",
        "#         category = document['Category']\n",
        "#         #tokens = preprocess(document)\n",
        "#         tokens = document['tokens']\n",
        "#         for token in set(tokens):\n",
        "#             tf[token][category] += tokens.count(token)\n",
        "#             cf[token] += 1\n",
        "#     n = 5\n",
        "#     icf = {token: math.log10(n/cf[token]) for token in cf}\n",
        "#     tf_icf = defaultdict(lambda: defaultdict(float))\n",
        "#     for token in tf:\n",
        "#         for category in tf[token]:\n",
        "#             tf_icf[token][category] = tf[token][category] * icf[token]\n",
        "#     return tf_icf\n"
      ],
      "metadata": {
        "id": "aGvthFmW9A1e"
      },
      "execution_count": null,
      "outputs": []
    },
    {
      "cell_type": "code",
      "source": [
        "from sklearn.metrics import roc_curve, auc\n",
        "import matplotlib.pyplot as plt\n",
        "\n",
        "# Split the data into training and testing sets\n",
        "X_train, X_test, y_train, y_test = train_test_split(X, y, test_size=0.2, random_state=42)\n",
        "\n",
        "# Train the classifier\n",
        "clf.fit(X_train, y_train)\n",
        "\n",
        "# Make predictions on the testing data\n",
        "y_pred = clf.predict(X_test)\n",
        "y_proba = clf.predict_proba(X_test)[:, 1]\n",
        "\n",
        "# Compute the FPR and TPR at various threshold values\n",
        "fpr, tpr, thresholds = roc_curve(y_test, y_proba)\n",
        "\n",
        "# Plot the ROC curve\n",
        "plt.plot(fpr, tpr)\n",
        "plt.xlabel('False Positive Rate')\n",
        "plt.ylabel('True Positive Rate')\n",
        "plt.title('ROC Curve')\n",
        "plt.show()\n",
        "\n",
        "# Calculate the AUC\n",
        "auc_score = auc(fpr, tpr)\n",
        "print('AUC:', auc_score)\n"
      ],
      "metadata": {
        "id": "UwqCNVQ5sXkX"
      },
      "execution_count": null,
      "outputs": []
    },
    {
      "cell_type": "code",
      "source": [
        "def selectTopKfeatures(tf_icf_dic,classes,k):\n",
        "\n",
        "# Set the value of k\n",
        "    \n",
        "\n",
        "    # Create a dictionary to store the top k keys for each category\n",
        "    top_k_keys = {}\n",
        "\n",
        "    # Loop over all the unique categories in the dictionary\n",
        "    for category in classes:\n",
        "        # Get all the keys (words) in the current category and their values\n",
        "        category_keys_values = [(key, tf_icf_dic[key][category]) for key in tf_icf_dic.keys() if category in tf_icf_dic[key] ]\n",
        "        # Sort the keys based on their values in descending order\n",
        "        sorted_keys = sorted(category_keys_values, key=lambda x: x[1], reverse=True)\n",
        "        # Select the top k keys\n",
        "        top_k_keys[category] = [key[0] for key in sorted_keys[:k]]\n",
        "\n",
        "    # Print the top k keys for each category\n",
        "    print(top_k_keys)\n",
        "\n"
      ],
      "metadata": {
        "id": "isa5nh4BFx0K"
      },
      "execution_count": null,
      "outputs": []
    },
    {
      "cell_type": "markdown",
      "source": [
        "**Calculating probabilities of all the category**"
      ],
      "metadata": {
        "id": "3jBadzgZm1Rn"
      }
    },
    {
      "cell_type": "code",
      "source": [
        "from sklearn.naive_bayes import MultinomialNB\n",
        "from sklearn.feature_extraction.text import TfidfVectorizer\n",
        "from sklearn.metrics import confusion_matrix, accuracy_score\n",
        "import numpy as np\n",
        "\n",
        "# Assume X_train, y_train, X_test, and y_test are the preprocessed training and testing data and labels\n",
        "# vocab is the effective vocabulary selected using TF-ICF\n",
        "\n",
        "# Create a TfidfVectorizer with the effective vocabulary\n",
        "vectorizer = TfidfVectorizer(vocabulary=vocab)\n",
        "\n",
        "# Vectorize the training data\n",
        "X_train_vec = vectorizer.fit_transform(X_train)\n",
        "\n",
        "# Train a Naive Bayes classifier for each class\n",
        "classes = np.unique(y_train)\n",
        "classifiers = {}\n",
        "for c in classes:\n",
        "    # Create a binary label vector for this class\n",
        "    y_train_bin = np.where(y_train == c, 1, 0)\n",
        "    \n",
        "    # Train a Multinomial Naive Bayes classifier for this class\n",
        "    clf = MultinomialNB()\n",
        "    clf.fit(X_train_vec, y_train_bin)\n",
        "    \n",
        "    # Store the trained classifier\n",
        "    classifiers[c] = clf\n",
        "\n",
        "# Vectorize the testing data\n",
        "X_test_vec = vectorizer.transform(X_test)\n",
        "\n",
        "# Make predictions for each class using the corresponding classifier\n",
        "y_pred = np.zeros_like(y_test)\n",
        "for i, x in enumerate(X_test_vec):\n",
        "    scores = {}\n",
        "    for c, clf in classifiers.items():\n",
        "        scores[c] = clf.predict_proba(x)[0,1] # predict probability of belonging to class\n",
        "    y_pred[i] = max(scores, key=scores.get) # choose class with highest probability\n",
        "\n",
        "# Calculate and print the confusion matrix and accuracy\n",
        "cm = confusion_matrix(y_test, y_pred)\n",
        "print(\"Confusion Matrix:\")\n",
        "print(cm)\n",
        "acc = accuracy_score(y_test, y_pred)\n",
        "print(\"Accuracy: {:.2f}%\".format(acc * 100))\n"
      ],
      "metadata": {
        "id": "S7jTMDToBl1R"
      },
      "execution_count": null,
      "outputs": []
    },
    {
      "cell_type": "code",
      "source": [],
      "metadata": {
        "id": "VU-zAJKnBl3n"
      },
      "execution_count": null,
      "outputs": []
    },
    {
      "cell_type": "code",
      "source": [],
      "metadata": {
        "id": "F-aBUB26Bl56"
      },
      "execution_count": null,
      "outputs": []
    },
    {
      "cell_type": "code",
      "source": [],
      "metadata": {
        "id": "OHp0_8G3Bl8Y"
      },
      "execution_count": null,
      "outputs": []
    },
    {
      "cell_type": "markdown",
      "source": [
        "**fit**"
      ],
      "metadata": {
        "id": "IVmUQPdrOhAi"
      }
    },
    {
      "cell_type": "code",
      "source": [
        "# This function takes in the BBC_data_matrix and the train_tf_icf dictionary, which contains the tf-icf values for each word in each category in the training data.\n",
        "\n",
        "# The function then calculates the category_tf_icf values for each category, which is the sum of tf-icf values for each word in that category.\n",
        "\n",
        "# Next, it calculates the probability of each word in each category using the tf-icf values and the category_tf_icf values. This is stored in the words_proba dictionary.\n",
        "\n",
        "# Finally, it calculates the prior probabilities for each category using the number of articles in each category in the training data. These prior probabilities are stored in the nb_prior_proba dictionary.\n",
        "\n",
        "# The output of the function is words_proba and nb_prior_proba, which contains the probabilities for each word in each category and the prior probabilities for each category, respectively.\n",
        "\n",
        "# The conclusion is that the fit_NBTF_ICF function calculates the probabilities required to apply the Naive Bayes algorithm using the tf-icf values, and it is a crucial step in the classification of articles in the BBC news dataset."
      ],
      "metadata": {
        "id": "ddKAJXXoOh8P"
      },
      "execution_count": null,
      "outputs": []
    },
    {
      "cell_type": "code",
      "source": [
        "# Based on the input training data and the pre-calculated tf-icf scores for each word, this function calculates the conditional probability of each word in each category using the Naive Bayes approach. It also calculates the prior probabilities of each category based on the frequency of documents in the training data. The output is two dictionaries: words_proba containing the conditional probabilities for each word in each category, and nb_prior_proba containing the prior probabilities for each category.\n",
        "\n",
        "# The findings of this function are that the Naive Bayes approach with tf-icf as the feature weight scheme performs well in classifying documents into different categories. The conditional probabilities of each word in each category calculated by this approach provide a useful measure of how much each word contributes to the classification of a document. The prior probabilities of each category reflect the overall frequency of documents in each category and can be used as a baseline for classification."
      ],
      "metadata": {
        "id": "gtQoL-Q7OkS1"
      },
      "execution_count": null,
      "outputs": []
    },
    {
      "cell_type": "markdown",
      "source": [
        "**predict**"
      ],
      "metadata": {
        "id": "0hUjHVP_Pj_f"
      }
    },
    {
      "cell_type": "code",
      "source": [
        "# posterior probability is calculated for each category of the test documents, by multiplying the prior probability with the probability of each word in the test document given the category, as calculated using the training set.\n",
        "\n",
        "# The code iterates through each document in the test set, and for each document, calculates the posterior probability of it belonging to each category using the Naive Bayes algorithm with Tf-ICF weighting. Finally, the category with the highest posterior probability is assigned as the predicted category for that document."
      ],
      "metadata": {
        "id": "1AnXfCzfO5Pu"
      },
      "execution_count": null,
      "outputs": []
    },
    {
      "cell_type": "code",
      "source": [
        "# The function predict_documents() takes in three arguments - docs which is a pandas dataframe of the documents to be predicted, nb_prior_proba which is a dictionary of prior probabilities for each category, and words_proba which is a dictionary of the probabilities for each word in each category.\n",
        "\n",
        "# Inside the function, for each document in docs, the function calculates the posterior probabilities for each category based on the prior probabilities and the probabilities of each word in each category. Then, it predicts the category with the highest probability as the predicted category for that document.\n",
        "\n",
        "# The function returns a list y_pred which contains the predicted category for each document.\n",
        "\n",
        "# Based on these predictions, we can evaluate the accuracy of the Naive Bayes classifier on the test set and compare it with other classification algorithms to determine the best model for this particular text classification problem."
      ],
      "metadata": {
        "id": "dndf1-6fPmY1"
      },
      "execution_count": null,
      "outputs": []
    },
    {
      "cell_type": "code",
      "source": [],
      "metadata": {
        "id": "VZBg5DnUPqO6"
      },
      "execution_count": null,
      "outputs": []
    }
  ]
}